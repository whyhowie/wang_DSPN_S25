{
  "cells": [
    {
      "cell_type": "markdown",
      "metadata": {
        "id": "S5Fpqv6H_cZA"
      },
      "source": [
        "# Exercise 11: The beauty of kNN\n",
        "\n",
        "In this exercise, you'll gain practice working with kNN. We'll use the [diamonds](https://ggplot2.tidyverse.org/reference/diamonds.html) dataset, which comes as part of `ggplot2`. This dataset provides information on the quality and price of 50,000 diamonds\n"
      ]
    },
    {
      "cell_type": "markdown",
      "source": [
        "1. data plotting and train/test sets 2/2\n",
        "2. knn 3/3\n",
        "3. for loop 3/3\n",
        "4. standardizing predictors 2/2"
      ],
      "metadata": {
        "id": "lD7nN0NubhQp"
      }
    },
    {
      "cell_type": "markdown",
      "metadata": {
        "id": "is-1Gkl6_cZC"
      },
      "source": [
        "## 1. Data, Plotting, and Train/Test Sets (2 pts)\n",
        "-----\n",
        "* Load the the `class` and `tidyverse` packages.\n",
        "* Assign the `diamonds` data set to a simpler name. Then, create a new variable `price_bin` that splits the `price` variable into a binary variable, where 1 indicates that the diamond costs greater than the mean price, and 0 indicates that the diamond costs less than the mean price. Set `price_bin` to be a factor. (*Hint: use the if_else() function*)\n",
        "* Select just the `carat`, `depth`, `table`, `x`, `y`, and your new `price_bin` variables\n",
        "* Print the first few lines of the data set\n",
        "* Print the dimensions of the data set\n"
      ]
    },
    {
      "cell_type": "code",
      "execution_count": null,
      "metadata": {
        "id": "076b5Q2i_cZC",
        "scrolled": false,
        "vscode": {
          "languageId": "r"
        },
        "outputId": "7332d194-efdd-45d0-ff29-3eb996948730"
      },
      "outputs": [
        {
          "data": {
            "text/html": [
              "<table class=\"dataframe\">\n",
              "<caption>A tibble: 6 × 6</caption>\n",
              "<thead>\n",
              "\t<tr><th scope=col>carat</th><th scope=col>depth</th><th scope=col>table</th><th scope=col>x</th><th scope=col>y</th><th scope=col>price_bin</th></tr>\n",
              "\t<tr><th scope=col>&lt;dbl&gt;</th><th scope=col>&lt;dbl&gt;</th><th scope=col>&lt;dbl&gt;</th><th scope=col>&lt;dbl&gt;</th><th scope=col>&lt;dbl&gt;</th><th scope=col>&lt;fct&gt;</th></tr>\n",
              "</thead>\n",
              "<tbody>\n",
              "\t<tr><td>0.23</td><td>61.5</td><td>55</td><td>3.95</td><td>3.98</td><td>0</td></tr>\n",
              "\t<tr><td>0.21</td><td>59.8</td><td>61</td><td>3.89</td><td>3.84</td><td>0</td></tr>\n",
              "\t<tr><td>0.23</td><td>56.9</td><td>65</td><td>4.05</td><td>4.07</td><td>0</td></tr>\n",
              "\t<tr><td>0.29</td><td>62.4</td><td>58</td><td>4.20</td><td>4.23</td><td>0</td></tr>\n",
              "\t<tr><td>0.31</td><td>63.3</td><td>58</td><td>4.34</td><td>4.35</td><td>0</td></tr>\n",
              "\t<tr><td>0.24</td><td>62.8</td><td>57</td><td>3.94</td><td>3.96</td><td>0</td></tr>\n",
              "</tbody>\n",
              "</table>\n"
            ],
            "text/latex": [
              "A tibble: 6 × 6\n",
              "\\begin{tabular}{llllll}\n",
              " carat & depth & table & x & y & price\\_bin\\\\\n",
              " <dbl> & <dbl> & <dbl> & <dbl> & <dbl> & <fct>\\\\\n",
              "\\hline\n",
              "\t 0.23 & 61.5 & 55 & 3.95 & 3.98 & 0\\\\\n",
              "\t 0.21 & 59.8 & 61 & 3.89 & 3.84 & 0\\\\\n",
              "\t 0.23 & 56.9 & 65 & 4.05 & 4.07 & 0\\\\\n",
              "\t 0.29 & 62.4 & 58 & 4.20 & 4.23 & 0\\\\\n",
              "\t 0.31 & 63.3 & 58 & 4.34 & 4.35 & 0\\\\\n",
              "\t 0.24 & 62.8 & 57 & 3.94 & 3.96 & 0\\\\\n",
              "\\end{tabular}\n"
            ],
            "text/markdown": [
              "\n",
              "A tibble: 6 × 6\n",
              "\n",
              "| carat &lt;dbl&gt; | depth &lt;dbl&gt; | table &lt;dbl&gt; | x &lt;dbl&gt; | y &lt;dbl&gt; | price_bin &lt;fct&gt; |\n",
              "|---|---|---|---|---|---|\n",
              "| 0.23 | 61.5 | 55 | 3.95 | 3.98 | 0 |\n",
              "| 0.21 | 59.8 | 61 | 3.89 | 3.84 | 0 |\n",
              "| 0.23 | 56.9 | 65 | 4.05 | 4.07 | 0 |\n",
              "| 0.29 | 62.4 | 58 | 4.20 | 4.23 | 0 |\n",
              "| 0.31 | 63.3 | 58 | 4.34 | 4.35 | 0 |\n",
              "| 0.24 | 62.8 | 57 | 3.94 | 3.96 | 0 |\n",
              "\n"
            ],
            "text/plain": [
              "  carat depth table x    y    price_bin\n",
              "1 0.23  61.5  55    3.95 3.98 0        \n",
              "2 0.21  59.8  61    3.89 3.84 0        \n",
              "3 0.23  56.9  65    4.05 4.07 0        \n",
              "4 0.29  62.4  58    4.20 4.23 0        \n",
              "5 0.31  63.3  58    4.34 4.35 0        \n",
              "6 0.24  62.8  57    3.94 3.96 0        "
            ]
          },
          "metadata": {},
          "output_type": "display_data"
        },
        {
          "data": {
            "text/html": [
              "<style>\n",
              ".list-inline {list-style: none; margin:0; padding: 0}\n",
              ".list-inline>li {display: inline-block}\n",
              ".list-inline>li:not(:last-child)::after {content: \"\\00b7\"; padding: 0 .5ex}\n",
              "</style>\n",
              "<ol class=list-inline><li>53940</li><li>6</li></ol>\n"
            ],
            "text/latex": [
              "\\begin{enumerate*}\n",
              "\\item 53940\n",
              "\\item 6\n",
              "\\end{enumerate*}\n"
            ],
            "text/markdown": [
              "1. 53940\n",
              "2. 6\n",
              "\n",
              "\n"
            ],
            "text/plain": [
              "[1] 53940     6"
            ]
          },
          "metadata": {},
          "output_type": "display_data"
        }
      ],
      "source": [
        "# INSERT CODE HERE\n",
        "require(class)\n",
        "require(tidyverse)\n",
        "\n",
        "dia <- diamonds\n",
        "\n",
        "mean_price <- mean(dia$price)\n",
        "dia$price_bin <- if_else(dia$price > mean_price, 1, 0) |> as.factor()\n",
        "\n",
        "dia |>\n",
        "  select(carat, depth, table, x, y, price_bin) ->\n",
        "  dia\n",
        "\n",
        "head(dia)\n",
        "dim(dia)"
      ]
    },
    {
      "cell_type": "markdown",
      "metadata": {
        "id": "OE--UOxM_cZD"
      },
      "source": [
        "### Plot\n",
        "Create a scatterplot of the link between `carat` and `depth`, and use the `color` aesthetics mapping to differentiate between diamonds that cost above versus below the mean price."
      ]
    },
    {
      "cell_type": "code",
      "execution_count": null,
      "metadata": {
        "id": "SZQl5C9H_cZD",
        "vscode": {
          "languageId": "r"
        },
        "outputId": "8d42dfb8-147d-46e8-91c0-6191c2dd5b22"
      },
      "outputs": [
        {
          "data": {
            "image/png": "[encoded data removed]",
            "text/plain": [
              "plot without title"
            ]
          },
          "metadata": {
            "image/png": {
              "height": 420,
              "width": 420
            }
          },
          "output_type": "display_data"
        }
      ],
      "source": [
        "# INSERT CODE HERE\n",
        "ggplot(dia, aes(x = carat, y = depth, color = price_bin)) +\n",
        "  geom_point() +                                # Scatter plot\n",
        "  labs(title = \"Diamond Cost Factors\",\n",
        "       x = \"Carat\",\n",
        "       y = \"Depth\")"
      ]
    },
    {
      "cell_type": "markdown",
      "metadata": {
        "id": "j-K6NEON_cZD"
      },
      "source": [
        "Based on the above scatterplot, how do you think kNN will perform using only these two variables to predict diabetes diagnosis? Which variable, carat or depth, gives us the most information about which price class the diamond will belong to?\n",
        "> *Write response here*\n",
        ">\n",
        "> We can observe some clustering within each of the two classes, although the boundary between them is a little blurry. I think kNN will perform fairly well using only these two variables. It might have some difficulty differentiating samples at the boundary.\n",
        ">\n",
        "> Based on the plot, the carat number gives us more information about the price class.\n"
      ]
    },
    {
      "cell_type": "markdown",
      "metadata": {
        "id": "wT7O-CHO_cZE"
      },
      "source": [
        "### Test vs Train\n",
        "\n",
        "Before we run KNN on these data, we need to set aside a portion of the observations as our test set. Below, randomly divide the data such that 30% are allotted to the `test` set and the rest are allotted to the `train` set. Print the first few lines of each set, and print the dimensions of each set to double check your division of the data."
      ]
    },
    {
      "cell_type": "code",
      "execution_count": null,
      "metadata": {
        "id": "Oj3YcEP0_cZE",
        "vscode": {
          "languageId": "r"
        },
        "outputId": "f2af8ef0-3130-4f73-c7b1-8a34a72fe350"
      },
      "outputs": [
        {
          "name": "stdout",
          "output_type": "stream",
          "text": [
            "[1] \"Train set:\"\n"
          ]
        },
        {
          "data": {
            "text/html": [
              "<table class=\"dataframe\">\n",
              "<caption>A tibble: 6 × 6</caption>\n",
              "<thead>\n",
              "\t<tr><th scope=col>carat</th><th scope=col>depth</th><th scope=col>table</th><th scope=col>x</th><th scope=col>y</th><th scope=col>price_bin</th></tr>\n",
              "\t<tr><th scope=col>&lt;dbl&gt;</th><th scope=col>&lt;dbl&gt;</th><th scope=col>&lt;dbl&gt;</th><th scope=col>&lt;dbl&gt;</th><th scope=col>&lt;dbl&gt;</th><th scope=col>&lt;fct&gt;</th></tr>\n",
              "</thead>\n",
              "<tbody>\n",
              "\t<tr><td>0.23</td><td>61.5</td><td>55</td><td>3.95</td><td>3.98</td><td>0</td></tr>\n",
              "\t<tr><td>0.23</td><td>56.9</td><td>65</td><td>4.05</td><td>4.07</td><td>0</td></tr>\n",
              "\t<tr><td>0.29</td><td>62.4</td><td>58</td><td>4.20</td><td>4.23</td><td>0</td></tr>\n",
              "\t<tr><td>0.31</td><td>63.3</td><td>58</td><td>4.34</td><td>4.35</td><td>0</td></tr>\n",
              "\t<tr><td>0.24</td><td>62.8</td><td>57</td><td>3.94</td><td>3.96</td><td>0</td></tr>\n",
              "\t<tr><td>0.24</td><td>62.3</td><td>57</td><td>3.95</td><td>3.98</td><td>0</td></tr>\n",
              "</tbody>\n",
              "</table>\n"
            ],
            "text/latex": [
              "A tibble: 6 × 6\n",
              "\\begin{tabular}{llllll}\n",
              " carat & depth & table & x & y & price\\_bin\\\\\n",
              " <dbl> & <dbl> & <dbl> & <dbl> & <dbl> & <fct>\\\\\n",
              "\\hline\n",
              "\t 0.23 & 61.5 & 55 & 3.95 & 3.98 & 0\\\\\n",
              "\t 0.23 & 56.9 & 65 & 4.05 & 4.07 & 0\\\\\n",
              "\t 0.29 & 62.4 & 58 & 4.20 & 4.23 & 0\\\\\n",
              "\t 0.31 & 63.3 & 58 & 4.34 & 4.35 & 0\\\\\n",
              "\t 0.24 & 62.8 & 57 & 3.94 & 3.96 & 0\\\\\n",
              "\t 0.24 & 62.3 & 57 & 3.95 & 3.98 & 0\\\\\n",
              "\\end{tabular}\n"
            ],
            "text/markdown": [
              "\n",
              "A tibble: 6 × 6\n",
              "\n",
              "| carat &lt;dbl&gt; | depth &lt;dbl&gt; | table &lt;dbl&gt; | x &lt;dbl&gt; | y &lt;dbl&gt; | price_bin &lt;fct&gt; |\n",
              "|---|---|---|---|---|---|\n",
              "| 0.23 | 61.5 | 55 | 3.95 | 3.98 | 0 |\n",
              "| 0.23 | 56.9 | 65 | 4.05 | 4.07 | 0 |\n",
              "| 0.29 | 62.4 | 58 | 4.20 | 4.23 | 0 |\n",
              "| 0.31 | 63.3 | 58 | 4.34 | 4.35 | 0 |\n",
              "| 0.24 | 62.8 | 57 | 3.94 | 3.96 | 0 |\n",
              "| 0.24 | 62.3 | 57 | 3.95 | 3.98 | 0 |\n",
              "\n"
            ],
            "text/plain": [
              "  carat depth table x    y    price_bin\n",
              "1 0.23  61.5  55    3.95 3.98 0        \n",
              "2 0.23  56.9  65    4.05 4.07 0        \n",
              "3 0.29  62.4  58    4.20 4.23 0        \n",
              "4 0.31  63.3  58    4.34 4.35 0        \n",
              "5 0.24  62.8  57    3.94 3.96 0        \n",
              "6 0.24  62.3  57    3.95 3.98 0        "
            ]
          },
          "metadata": {},
          "output_type": "display_data"
        },
        {
          "data": {
            "text/html": [
              "<style>\n",
              ".list-inline {list-style: none; margin:0; padding: 0}\n",
              ".list-inline>li {display: inline-block}\n",
              ".list-inline>li:not(:last-child)::after {content: \"\\00b7\"; padding: 0 .5ex}\n",
              "</style>\n",
              "<ol class=list-inline><li>37758</li><li>6</li></ol>\n"
            ],
            "text/latex": [
              "\\begin{enumerate*}\n",
              "\\item 37758\n",
              "\\item 6\n",
              "\\end{enumerate*}\n"
            ],
            "text/markdown": [
              "1. 37758\n",
              "2. 6\n",
              "\n",
              "\n"
            ],
            "text/plain": [
              "[1] 37758     6"
            ]
          },
          "metadata": {},
          "output_type": "display_data"
        },
        {
          "name": "stdout",
          "output_type": "stream",
          "text": [
            "[1] \"Test set:\"\n"
          ]
        },
        {
          "data": {
            "text/html": [
              "<table class=\"dataframe\">\n",
              "<caption>A tibble: 6 × 6</caption>\n",
              "<thead>\n",
              "\t<tr><th scope=col>carat</th><th scope=col>depth</th><th scope=col>table</th><th scope=col>x</th><th scope=col>y</th><th scope=col>price_bin</th></tr>\n",
              "\t<tr><th scope=col>&lt;dbl&gt;</th><th scope=col>&lt;dbl&gt;</th><th scope=col>&lt;dbl&gt;</th><th scope=col>&lt;dbl&gt;</th><th scope=col>&lt;dbl&gt;</th><th scope=col>&lt;fct&gt;</th></tr>\n",
              "</thead>\n",
              "<tbody>\n",
              "\t<tr><td>1.22</td><td>62.3</td><td>56.0</td><td>6.81</td><td>6.84</td><td>1</td></tr>\n",
              "\t<tr><td>1.57</td><td>62.3</td><td>56.0</td><td>7.48</td><td>7.41</td><td>1</td></tr>\n",
              "\t<tr><td>1.11</td><td>62.4</td><td>57.7</td><td>6.57</td><td>6.64</td><td>1</td></tr>\n",
              "\t<tr><td>0.42</td><td>60.6</td><td>57.0</td><td>4.82</td><td>4.85</td><td>0</td></tr>\n",
              "\t<tr><td>0.32</td><td>62.6</td><td>55.0</td><td>4.39</td><td>4.36</td><td>0</td></tr>\n",
              "\t<tr><td>0.90</td><td>62.7</td><td>58.0</td><td>6.06</td><td>6.15</td><td>1</td></tr>\n",
              "</tbody>\n",
              "</table>\n"
            ],
            "text/latex": [
              "A tibble: 6 × 6\n",
              "\\begin{tabular}{llllll}\n",
              " carat & depth & table & x & y & price\\_bin\\\\\n",
              " <dbl> & <dbl> & <dbl> & <dbl> & <dbl> & <fct>\\\\\n",
              "\\hline\n",
              "\t 1.22 & 62.3 & 56.0 & 6.81 & 6.84 & 1\\\\\n",
              "\t 1.57 & 62.3 & 56.0 & 7.48 & 7.41 & 1\\\\\n",
              "\t 1.11 & 62.4 & 57.7 & 6.57 & 6.64 & 1\\\\\n",
              "\t 0.42 & 60.6 & 57.0 & 4.82 & 4.85 & 0\\\\\n",
              "\t 0.32 & 62.6 & 55.0 & 4.39 & 4.36 & 0\\\\\n",
              "\t 0.90 & 62.7 & 58.0 & 6.06 & 6.15 & 1\\\\\n",
              "\\end{tabular}\n"
            ],
            "text/markdown": [
              "\n",
              "A tibble: 6 × 6\n",
              "\n",
              "| carat &lt;dbl&gt; | depth &lt;dbl&gt; | table &lt;dbl&gt; | x &lt;dbl&gt; | y &lt;dbl&gt; | price_bin &lt;fct&gt; |\n",
              "|---|---|---|---|---|---|\n",
              "| 1.22 | 62.3 | 56.0 | 6.81 | 6.84 | 1 |\n",
              "| 1.57 | 62.3 | 56.0 | 7.48 | 7.41 | 1 |\n",
              "| 1.11 | 62.4 | 57.7 | 6.57 | 6.64 | 1 |\n",
              "| 0.42 | 60.6 | 57.0 | 4.82 | 4.85 | 0 |\n",
              "| 0.32 | 62.6 | 55.0 | 4.39 | 4.36 | 0 |\n",
              "| 0.90 | 62.7 | 58.0 | 6.06 | 6.15 | 1 |\n",
              "\n"
            ],
            "text/plain": [
              "  carat depth table x    y    price_bin\n",
              "1 1.22  62.3  56.0  6.81 6.84 1        \n",
              "2 1.57  62.3  56.0  7.48 7.41 1        \n",
              "3 1.11  62.4  57.7  6.57 6.64 1        \n",
              "4 0.42  60.6  57.0  4.82 4.85 0        \n",
              "5 0.32  62.6  55.0  4.39 4.36 0        \n",
              "6 0.90  62.7  58.0  6.06 6.15 1        "
            ]
          },
          "metadata": {},
          "output_type": "display_data"
        },
        {
          "data": {
            "text/html": [
              "<style>\n",
              ".list-inline {list-style: none; margin:0; padding: 0}\n",
              ".list-inline>li {display: inline-block}\n",
              ".list-inline>li:not(:last-child)::after {content: \"\\00b7\"; padding: 0 .5ex}\n",
              "</style>\n",
              "<ol class=list-inline><li>16182</li><li>6</li></ol>\n"
            ],
            "text/latex": [
              "\\begin{enumerate*}\n",
              "\\item 16182\n",
              "\\item 6\n",
              "\\end{enumerate*}\n"
            ],
            "text/markdown": [
              "1. 16182\n",
              "2. 6\n",
              "\n",
              "\n"
            ],
            "text/plain": [
              "[1] 16182     6"
            ]
          },
          "metadata": {},
          "output_type": "display_data"
        }
      ],
      "source": [
        "set.seed(2023)\n",
        "\n",
        "\n",
        "# INSERT CODE HERE\n",
        "# pull random sample of 30% of samples\n",
        "TEST_RATIO = 0.3 # 30%\n",
        "test_idx <- sample(1:nrow(dia), as.integer(round(nrow(dia) * TEST_RATIO)))\n",
        "\n",
        "train <- dia[-test_idx,]\n",
        "test <- dia[test_idx,]\n",
        "\n",
        "print(\"Train set:\")\n",
        "head(train)\n",
        "dim(train)\n",
        "\n",
        "print(\"Test set:\")\n",
        "head(test)\n",
        "dim(test)"
      ]
    },
    {
      "cell_type": "markdown",
      "metadata": {
        "id": "lFtmRUBN_cZF"
      },
      "source": [
        "## 2: KNN (3 points)\n",
        "----\n",
        "Now, use the `knn()` function from the `class` library to predict `price_bin` from the `carat` and `depth`. Set `k = 3`.\n",
        "\n",
        "*Hint: Review the format required for the arguments of knn()*"
      ]
    },
    {
      "cell_type": "code",
      "execution_count": null,
      "metadata": {
        "id": "9pcL8AM9_cZG",
        "scrolled": true,
        "vscode": {
          "languageId": "r"
        },
        "outputId": "9872cabf-17a4-457a-8341-39b5ed095eb1"
      },
      "outputs": [
        {
          "data": {
            "text/html": [
              "<style>\n",
              ".list-inline {list-style: none; margin:0; padding: 0}\n",
              ".list-inline>li {display: inline-block}\n",
              ".list-inline>li:not(:last-child)::after {content: \"\\00b7\"; padding: 0 .5ex}\n",
              "</style>\n",
              "<ol class=list-inline><li>1</li><li>1</li><li>1</li><li>0</li><li>0</li><li>1</li><li>1</li><li>0</li><li>0</li><li>0</li></ol>\n",
              "\n",
              "<details>\n",
              "\t<summary style=display:list-item;cursor:pointer>\n",
              "\t\t<strong>Levels</strong>:\n",
              "\t</summary>\n",
              "\t<style>\n",
              "\t.list-inline {list-style: none; margin:0; padding: 0}\n",
              "\t.list-inline>li {display: inline-block}\n",
              "\t.list-inline>li:not(:last-child)::after {content: \"\\00b7\"; padding: 0 .5ex}\n",
              "\t</style>\n",
              "\t<ol class=list-inline><li>'0'</li><li>'1'</li></ol>\n",
              "</details>"
            ],
            "text/latex": [
              "\\begin{enumerate*}\n",
              "\\item 1\n",
              "\\item 1\n",
              "\\item 1\n",
              "\\item 0\n",
              "\\item 0\n",
              "\\item 1\n",
              "\\item 1\n",
              "\\item 0\n",
              "\\item 0\n",
              "\\item 0\n",
              "\\end{enumerate*}\n",
              "\n",
              "\\emph{Levels}: \\begin{enumerate*}\n",
              "\\item '0'\n",
              "\\item '1'\n",
              "\\end{enumerate*}\n"
            ],
            "text/markdown": [
              "1. 1\n",
              "2. 1\n",
              "3. 1\n",
              "4. 0\n",
              "5. 0\n",
              "6. 1\n",
              "7. 1\n",
              "8. 0\n",
              "9. 0\n",
              "10. 0\n",
              "\n",
              "\n",
              "\n",
              "**Levels**: 1. '0'\n",
              "2. '1'\n",
              "\n",
              "\n"
            ],
            "text/plain": [
              " [1] 1 1 1 0 0 1 1 0 0 0\n",
              "Levels: 0 1"
            ]
          },
          "metadata": {},
          "output_type": "display_data"
        }
      ],
      "source": [
        "set.seed(2023)\n",
        "# INSERT CODE HERE\n",
        "train.X1 <- cbind(train$carat, train$depth) # Bind features by columns\n",
        "train.y <- train$price_bin\n",
        "test.X1 <- cbind(test$carat, test$depth)\n",
        "test.y <- test$price_bin\n",
        "\n",
        "#run knn\n",
        "test.y_pred1 <- knn(train.X1, test.X1, train.y, k = 3)\n",
        "\n",
        "#print first 10 test predictions\n",
        "test.y_pred1[1:10]"
      ]
    },
    {
      "cell_type": "markdown",
      "metadata": {
        "id": "RXnTKbdi_cZG"
      },
      "source": [
        "Now, output a confusion matrix and calculate the test error to evaluate model performance."
      ]
    },
    {
      "cell_type": "code",
      "execution_count": null,
      "metadata": {
        "id": "qhwTYq9B_cZH",
        "vscode": {
          "languageId": "r"
        },
        "outputId": "a0b0edd8-47e1-450a-944a-227f867ce5c3"
      },
      "outputs": [
        {
          "data": {
            "text/plain": [
              "         Actual\n",
              "Predicted    0    1\n",
              "        0 9707  316\n",
              "        1  539 5620"
            ]
          },
          "metadata": {},
          "output_type": "display_data"
        },
        {
          "name": "stdout",
          "output_type": "stream",
          "text": [
            "[1] \"Error rate: 0.0528364849833148\"\n",
            "[1] \"Accuracy: 0.947163515016685\"\n"
          ]
        }
      ],
      "source": [
        "# INSERT CODE HERE\n",
        "confusion_df = data.frame(test.y_pred1, test.y)\n",
        "colnames(confusion_df) = c('Predicted', 'Actual')\n",
        "\n",
        "table(confusion_df)\n",
        "print(paste(\"Error rate:\",mean(test.y_pred1 != test.y)))\n",
        "print(paste(\"Accuracy:\",mean(test.y_pred1 == test.y)))"
      ]
    },
    {
      "cell_type": "markdown",
      "metadata": {
        "id": "mOQSLQ37_cZK"
      },
      "source": [
        "How did your model perform?\n",
        "> Write your response here\n",
        ">\n",
        "> The sample is relatively balanced, and an accuracy of 94.72% shows that the model performs quite well.\n"
      ]
    },
    {
      "cell_type": "markdown",
      "metadata": {
        "id": "p0lvEh3F_cZL"
      },
      "source": [
        "Let's try to improve our model by adding all of the other variables in our data set as predictors. Rerun your `knn()` below, keeping `k = 3`. Again, output a confusion matrix and error rate for your updated model fit."
      ]
    },
    {
      "cell_type": "code",
      "execution_count": null,
      "metadata": {
        "id": "KWsncoDP_cZL",
        "vscode": {
          "languageId": "r"
        },
        "outputId": "4858765a-b263-4dde-f2a6-b081e861d322"
      },
      "outputs": [
        {
          "data": {
            "text/html": [
              "<style>\n",
              ".list-inline {list-style: none; margin:0; padding: 0}\n",
              ".list-inline>li {display: inline-block}\n",
              ".list-inline>li:not(:last-child)::after {content: \"\\00b7\"; padding: 0 .5ex}\n",
              "</style>\n",
              "<ol class=list-inline><li>1</li><li>1</li><li>1</li><li>0</li><li>0</li><li>1</li><li>1</li><li>0</li><li>0</li><li>0</li></ol>\n",
              "\n",
              "<details>\n",
              "\t<summary style=display:list-item;cursor:pointer>\n",
              "\t\t<strong>Levels</strong>:\n",
              "\t</summary>\n",
              "\t<style>\n",
              "\t.list-inline {list-style: none; margin:0; padding: 0}\n",
              "\t.list-inline>li {display: inline-block}\n",
              "\t.list-inline>li:not(:last-child)::after {content: \"\\00b7\"; padding: 0 .5ex}\n",
              "\t</style>\n",
              "\t<ol class=list-inline><li>'0'</li><li>'1'</li></ol>\n",
              "</details>"
            ],
            "text/latex": [
              "\\begin{enumerate*}\n",
              "\\item 1\n",
              "\\item 1\n",
              "\\item 1\n",
              "\\item 0\n",
              "\\item 0\n",
              "\\item 1\n",
              "\\item 1\n",
              "\\item 0\n",
              "\\item 0\n",
              "\\item 0\n",
              "\\end{enumerate*}\n",
              "\n",
              "\\emph{Levels}: \\begin{enumerate*}\n",
              "\\item '0'\n",
              "\\item '1'\n",
              "\\end{enumerate*}\n"
            ],
            "text/markdown": [
              "1. 1\n",
              "2. 1\n",
              "3. 1\n",
              "4. 0\n",
              "5. 0\n",
              "6. 1\n",
              "7. 1\n",
              "8. 0\n",
              "9. 0\n",
              "10. 0\n",
              "\n",
              "\n",
              "\n",
              "**Levels**: 1. '0'\n",
              "2. '1'\n",
              "\n",
              "\n"
            ],
            "text/plain": [
              " [1] 1 1 1 0 0 1 1 0 0 0\n",
              "Levels: 0 1"
            ]
          },
          "metadata": {},
          "output_type": "display_data"
        },
        {
          "data": {
            "text/plain": [
              "         Actual\n",
              "Predicted    0    1\n",
              "        0 9728  391\n",
              "        1  518 5545"
            ]
          },
          "metadata": {},
          "output_type": "display_data"
        },
        {
          "name": "stdout",
          "output_type": "stream",
          "text": [
            "[1] \"Error rate: 0.0561735261401557\"\n",
            "[1] \"Accuracy: 0.943826473859844\"\n"
          ]
        }
      ],
      "source": [
        "set.seed(2023)\n",
        "# INSERT CODE HERE\n",
        "train.X2 <- subset(train, select=-c(price_bin)) # exclue price_bin and use all other features\n",
        "train.y <- train$price_bin\n",
        "test.X2 <- subset(test, select=-c(price_bin))\n",
        "test.y <- test$price_bin\n",
        "\n",
        "#run knn\n",
        "test.y_pred2 <- knn(train.X2, test.X2, train.y, k = 3)\n",
        "\n",
        "#print first 10 test predictions\n",
        "test.y_pred2[1:10]\n",
        "\n",
        "#create confusion matrix\n",
        "confusion_df = data.frame(test.y_pred2, test.y)\n",
        "colnames(confusion_df) = c('Predicted', 'Actual')\n",
        "\n",
        "table(confusion_df)\n",
        "print(paste(\"Error rate:\",mean(test.y_pred2 != test.y)))\n",
        "print(paste(\"Accuracy:\",mean(test.y_pred2 == test.y)))"
      ]
    },
    {
      "cell_type": "markdown",
      "metadata": {
        "id": "t2Dyykaf_cZM"
      },
      "source": [
        "Did your model predictions improve?\n",
        "> Write your response here\n",
        ">\n",
        "> The model predictions did not improve.\n"
      ]
    },
    {
      "cell_type": "markdown",
      "metadata": {
        "id": "WYHprC4m_cZN"
      },
      "source": [
        "# 3: for loop (3 points)\n",
        "----\n",
        "\n",
        "So adding additional predictors didn't shift our error much. Let's see if adjusting `k` has a larger impact on model accuracy.\n",
        "\n",
        "Using your initial model above with just `carat` and `depth`, run a `for loop` that runs the same model 30 times, for `k = 1:30`.\n",
        "\n",
        "Output a data frame that has `k` and the overall `error` as columns.\n",
        "\n",
        "The structure of the output data frame and `for loop` are provided for you below. Note that your loop will take a minute or two to run because there are so many observations in the dataset. It may be helpful while you are writing and testing your loop to run it on a subset of the data with only a handful of rows."
      ]
    },
    {
      "cell_type": "code",
      "execution_count": null,
      "metadata": {
        "id": "D-GAvxGH_cZN",
        "scrolled": false,
        "vscode": {
          "languageId": "r"
        },
        "outputId": "037028c0-4807-41ca-bffb-43fc3a317991"
      },
      "outputs": [
        {
          "data": {
            "text/html": [
              "<table class=\"dataframe\">\n",
              "<caption>A data.frame: 6 × 2</caption>\n",
              "<thead>\n",
              "\t<tr><th></th><th scope=col>k</th><th scope=col>error</th></tr>\n",
              "\t<tr><th></th><th scope=col>&lt;int&gt;</th><th scope=col>&lt;lgl&gt;</th></tr>\n",
              "</thead>\n",
              "<tbody>\n",
              "\t<tr><th scope=row>1</th><td>1</td><td>NA</td></tr>\n",
              "\t<tr><th scope=row>2</th><td>2</td><td>NA</td></tr>\n",
              "\t<tr><th scope=row>3</th><td>3</td><td>NA</td></tr>\n",
              "\t<tr><th scope=row>4</th><td>4</td><td>NA</td></tr>\n",
              "\t<tr><th scope=row>5</th><td>5</td><td>NA</td></tr>\n",
              "\t<tr><th scope=row>6</th><td>6</td><td>NA</td></tr>\n",
              "</tbody>\n",
              "</table>\n"
            ],
            "text/latex": [
              "A data.frame: 6 × 2\n",
              "\\begin{tabular}{r|ll}\n",
              "  & k & error\\\\\n",
              "  & <int> & <lgl>\\\\\n",
              "\\hline\n",
              "\t1 & 1 & NA\\\\\n",
              "\t2 & 2 & NA\\\\\n",
              "\t3 & 3 & NA\\\\\n",
              "\t4 & 4 & NA\\\\\n",
              "\t5 & 5 & NA\\\\\n",
              "\t6 & 6 & NA\\\\\n",
              "\\end{tabular}\n"
            ],
            "text/markdown": [
              "\n",
              "A data.frame: 6 × 2\n",
              "\n",
              "| <!--/--> | k &lt;int&gt; | error &lt;lgl&gt; |\n",
              "|---|---|---|\n",
              "| 1 | 1 | NA |\n",
              "| 2 | 2 | NA |\n",
              "| 3 | 3 | NA |\n",
              "| 4 | 4 | NA |\n",
              "| 5 | 5 | NA |\n",
              "| 6 | 6 | NA |\n",
              "\n"
            ],
            "text/plain": [
              "  k error\n",
              "1 1 NA   \n",
              "2 2 NA   \n",
              "3 3 NA   \n",
              "4 4 NA   \n",
              "5 5 NA   \n",
              "6 6 NA   "
            ]
          },
          "metadata": {},
          "output_type": "display_data"
        }
      ],
      "source": [
        "# this is provided\n",
        "# setting up empty table to store for loop output\n",
        "output  <- data.frame(k = seq(1:30),\n",
        "                     error = rep(NA, 30))\n",
        "head(output)"
      ]
    },
    {
      "cell_type": "code",
      "execution_count": null,
      "metadata": {
        "id": "we6mzfCJ_cZN",
        "vscode": {
          "languageId": "r"
        },
        "outputId": "caa24e09-4ec3-4b24-e840-efd4256148e3"
      },
      "outputs": [
        {
          "data": {
            "text/html": [
              "<table class=\"dataframe\">\n",
              "<caption>A data.frame: 6 × 2</caption>\n",
              "<thead>\n",
              "\t<tr><th></th><th scope=col>k</th><th scope=col>error</th></tr>\n",
              "\t<tr><th></th><th scope=col>&lt;int&gt;</th><th scope=col>&lt;dbl&gt;</th></tr>\n",
              "</thead>\n",
              "<tbody>\n",
              "\t<tr><th scope=row>1</th><td>1</td><td>0.05388703</td></tr>\n",
              "\t<tr><th scope=row>2</th><td>2</td><td>0.05333086</td></tr>\n",
              "\t<tr><th scope=row>3</th><td>3</td><td>0.05320727</td></tr>\n",
              "\t<tr><th scope=row>4</th><td>4</td><td>0.05326906</td></tr>\n",
              "\t<tr><th scope=row>5</th><td>5</td><td>0.05209492</td></tr>\n",
              "\t<tr><th scope=row>6</th><td>6</td><td>0.05258930</td></tr>\n",
              "</tbody>\n",
              "</table>\n"
            ],
            "text/latex": [
              "A data.frame: 6 × 2\n",
              "\\begin{tabular}{r|ll}\n",
              "  & k & error\\\\\n",
              "  & <int> & <dbl>\\\\\n",
              "\\hline\n",
              "\t1 & 1 & 0.05388703\\\\\n",
              "\t2 & 2 & 0.05333086\\\\\n",
              "\t3 & 3 & 0.05320727\\\\\n",
              "\t4 & 4 & 0.05326906\\\\\n",
              "\t5 & 5 & 0.05209492\\\\\n",
              "\t6 & 6 & 0.05258930\\\\\n",
              "\\end{tabular}\n"
            ],
            "text/markdown": [
              "\n",
              "A data.frame: 6 × 2\n",
              "\n",
              "| <!--/--> | k &lt;int&gt; | error &lt;dbl&gt; |\n",
              "|---|---|---|\n",
              "| 1 | 1 | 0.05388703 |\n",
              "| 2 | 2 | 0.05333086 |\n",
              "| 3 | 3 | 0.05320727 |\n",
              "| 4 | 4 | 0.05326906 |\n",
              "| 5 | 5 | 0.05209492 |\n",
              "| 6 | 6 | 0.05258930 |\n",
              "\n"
            ],
            "text/plain": [
              "  k error     \n",
              "1 1 0.05388703\n",
              "2 2 0.05333086\n",
              "3 3 0.05320727\n",
              "4 4 0.05326906\n",
              "5 5 0.05209492\n",
              "6 6 0.05258930"
            ]
          },
          "metadata": {},
          "output_type": "display_data"
        }
      ],
      "source": [
        "for (k in seq(1:30)) {\n",
        "    knn_fits  <- knn(train.X1, test.X1, train.y, k = k) # your knn function here\n",
        "\n",
        "    #overall error\n",
        "    conf_df  <- data.frame(knn_fits, test.y) # data frame of test predictions versus actual test\n",
        "    colnames(conf_df) = c('Predicted', 'Actual')\n",
        "\toutput$error[k]  <- mean(conf_df$Predicted != conf_df$Actual) #calculate error from conf_df and add to your output dataframe\n",
        "}\n",
        "head(output)"
      ]
    },
    {
      "cell_type": "markdown",
      "metadata": {
        "id": "Ofk0jafy_cZN"
      },
      "source": [
        "Create a line plot of your `output` object using `ggplot`. Add a (non-linear) `geom_smooth` layer."
      ]
    },
    {
      "cell_type": "code",
      "execution_count": null,
      "metadata": {
        "id": "9Oia_P98_cZN",
        "scrolled": false,
        "vscode": {
          "languageId": "r"
        },
        "outputId": "90d8224d-a896-4bd1-f2f3-d12607f181a7"
      },
      "outputs": [
        {
          "name": "stderr",
          "output_type": "stream",
          "text": [
            "\u001b[1m\u001b[22m`geom_smooth()` using method = 'loess' and formula = 'y ~ x'\n"
          ]
        },
        {
          "data": {
            "image/png": "[encoded data removed]",
            "text/plain": [
              "plot without title"
            ]
          },
          "metadata": {
            "image/png": {
              "height": 420,
              "width": 420
            }
          },
          "output_type": "display_data"
        }
      ],
      "source": [
        "# INSERT CODE HERE\n",
        "ggplot(output, aes(x = k, y = error)) +\n",
        "  geom_point() +                                # Scatter plot\n",
        "  geom_smooth() +\n",
        "  scale_x_continuous(breaks = seq(floor(min(output$k)), ceiling(max(output$k)), 1)) + # Integer gridlines on x-axis\n",
        "  labs(title = \"kNN Parameter Tuning\",\n",
        "       x = \"k\",\n",
        "       y = \"Error\")\n"
      ]
    },
    {
      "cell_type": "markdown",
      "metadata": {
        "id": "EG2gQhU0_cZO"
      },
      "source": [
        "Interpret your plot. What would you select as the best value of `k`? How much does this improve your test error?\n",
        "> *Write your response here*\n",
        ">\n",
        "> Increasing `k` generally reduced error until it became larger than 20. Based on the plot and the fitted smooth line itself, I would select a value around 19 as the best value of `k`. However, the improvement was very marginal. At best we have an error rate around 5.0% and at worst around 5.4%.\n"
      ]
    },
    {
      "cell_type": "markdown",
      "metadata": {
        "id": "R5GYp8mt_cZO"
      },
      "source": [
        "# 4: Standardizing predictors (2)\n",
        "-----\n",
        "\n",
        "Because knn is based on distances between points, it is very sensitive to the scale of your variables. Looking at our predictor variables, we can see that `carat` and `depth` are orders of magnitude different in terms of scales. Maybe we can improve our fit even more by addressing this!\n",
        "\n",
        "Below, use the `scale()` function to standardize your predictors. (Note that you don't need to standardize `price_bin`.)\n",
        "\n",
        "Then, run your model a final time with your standardized predictors (just `carat` and `depth` still). Set `k` to the optimal value you determined in your plot above. Output the confusion matrix and error rate again."
      ]
    },
    {
      "cell_type": "code",
      "execution_count": null,
      "metadata": {
        "id": "DVAfP_iB_cZO",
        "vscode": {
          "languageId": "r"
        },
        "outputId": "f35cb35e-c7c9-44ec-e9d2-a2d1a91db788"
      },
      "outputs": [
        {
          "data": {
            "text/plain": [
              "         Actual\n",
              "Predicted    0    1\n",
              "        0 9720  292\n",
              "        1  526 5644"
            ]
          },
          "metadata": {},
          "output_type": "display_data"
        },
        {
          "name": "stdout",
          "output_type": "stream",
          "text": [
            "[1] \"Error rate: 0.0505499938202942\"\n",
            "[1] \"Accuracy: 0.949450006179706\"\n",
            "[1] \"For reference, without scaling, with k=19, the error rate is: 0.0507353849956742\"\n"
          ]
        }
      ],
      "source": [
        "set.seed(2023)\n",
        "#INSERT CODE HERE\n",
        "train.X_s <- scale(train.X1)\n",
        "test.X_s <- scale(test.X1)\n",
        "\n",
        "test.y_pred_s <- knn(train.X_s, test.X_s, train.y, k = 19)\n",
        "\n",
        "#create confusion matrix\n",
        "confusion_df = data.frame(test.y_pred_s, test.y)\n",
        "colnames(confusion_df) = c('Predicted', 'Actual')\n",
        "\n",
        "table(confusion_df)\n",
        "print(paste(\"Error rate:\",mean(test.y_pred_s != test.y)))\n",
        "print(paste(\"Accuracy:\",mean(test.y_pred_s == test.y)))\n",
        "\n",
        "print(paste(\"For reference, without scaling, with k=19, the error rate is:\",\n",
        "\toutput$error[output$k == 19]))"
      ]
    },
    {
      "cell_type": "markdown",
      "metadata": {
        "id": "yl3pqjEA_cZO"
      },
      "source": [
        "What impact did rescaling the data have on your error rate?\n",
        "> *Write response here*\n",
        ">\n",
        "> Rescaling the data slightly improved the error rate.\n"
      ]
    },
    {
      "cell_type": "markdown",
      "metadata": {
        "id": "XSFcQXke_cZO"
      },
      "source": [
        "**DUE:** 5pm March 20, 2024\n",
        "\n",
        "**IMPORTANT** Did you collaborate with anyone on this assignment? If so, list their names here.\n",
        "> *Someone's Name*\n",
        ">\n",
        ">\n"
      ]
    }
  ],
  "metadata": {
    "colab": {
      "provenance": [],
      "toc_visible": true
    },
    "kernelspec": {
      "display_name": "R",
      "language": "R",
      "name": "ir"
    },
    "language_info": {
      "codemirror_mode": "r",
      "file_extension": ".r",
      "mimetype": "text/x-r-source",
      "name": "R",
      "pygments_lexer": "r",
      "version": "4.4.2"
    }
  },
  "nbformat": 4,
  "nbformat_minor": 0
}