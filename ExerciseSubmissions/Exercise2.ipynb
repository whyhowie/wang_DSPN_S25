{
  "cells": [
    {
      "cell_type": "markdown",
      "metadata": {
        "id": "view-in-github",
        "colab_type": "text"
      },
      "source": [
        "<a href=\"https://colab.research.google.com/github/whyhowie/wang_DSPN_S25/blob/main/ExerciseSubmissions/Exercise2.ipynb\" target=\"_parent\"><img src=\"https://colab.research.google.com/assets/colab-badge.svg\" alt=\"Open In Colab\"/></a>"
      ]
    },
    {
      "cell_type": "markdown",
      "metadata": {
        "id": "b2uicD-0KTRE"
      },
      "source": [
        "# Exercise 2: Coding Habits & Functions"
      ]
    },
    {
      "cell_type": "markdown",
      "source": [
        "1. Summary statistics 4/4\n",
        "2. T-test function 4/4\n",
        "3. Setting default values 2/2"
      ],
      "metadata": {
        "id": "yMdmhwn8KVoS"
      }
    },
    {
      "cell_type": "markdown",
      "metadata": {
        "id": "HwIe_0MdKTRE"
      },
      "source": [
        "This assignment will give you some practice writing your own functions and using the coding best practices discussed in the tutorial.\n",
        "\n",
        "---"
      ]
    },
    {
      "cell_type": "markdown",
      "metadata": {
        "id": "wJuwwEhwKTRE"
      },
      "source": [
        "## 1. Summary statistics (4 pts)\n",
        "\n",
        "Write a function that takes a vector of numbers `x` and returns the length, mean, and standard deviation of `x` as a new vector.\n",
        "\n",
        "In keeping with our best practices, give the function a short but descriptive name, and use snake case if it involves multiple words.\n",
        "\n",
        "Hint: Vectors are defined in R using the `c()` command."
      ]
    },
    {
      "cell_type": "code",
      "execution_count": 1,
      "metadata": {
        "vscode": {
          "languageId": "r"
        },
        "id": "cjwwDfgRKTRE"
      },
      "outputs": [],
      "source": [
        "#Write your function here\n",
        "len_mean_std <- function(x) {\n",
        "    return(c(length(na.omit(x)), mean(x, na.rm = TRUE), sd(x, na.rm = TRUE)))\n",
        "}"
      ]
    },
    {
      "cell_type": "markdown",
      "metadata": {
        "id": "YNHif8ToKTRF"
      },
      "source": [
        "Calculate the summary statistics of vector `v1`.\n",
        "\n",
        "*Hint*: Note the \"NA\" in the vector. This is short for \"not available\" and is a placeholder for missing values. You'll want to look up the _is.na_ function (and the not operator _!_), as well as options for removing NA's in the functions that you will use to summarize the vector. Look at the documentation for the functions that you will use to see how to work with NA's."
      ]
    },
    {
      "cell_type": "code",
      "execution_count": 2,
      "metadata": {
        "vscode": {
          "languageId": "r"
        },
        "id": "h-D8o9VZKTRF",
        "outputId": "82accb00-24d3-40f5-9371-03d3388cb269",
        "colab": {
          "base_uri": "https://localhost:8080/",
          "height": 34
        }
      },
      "outputs": [
        {
          "output_type": "display_data",
          "data": {
            "text/html": [
              "<style>\n",
              ".list-inline {list-style: none; margin:0; padding: 0}\n",
              ".list-inline>li {display: inline-block}\n",
              ".list-inline>li:not(:last-child)::after {content: \"\\00b7\"; padding: 0 .5ex}\n",
              "</style>\n",
              "<ol class=list-inline><li>4</li><li>7.75</li><li>2.75378527364305</li></ol>\n"
            ],
            "text/markdown": "1. 4\n2. 7.75\n3. 2.75378527364305\n\n\n",
            "text/latex": "\\begin{enumerate*}\n\\item 4\n\\item 7.75\n\\item 2.75378527364305\n\\end{enumerate*}\n",
            "text/plain": [
              "[1] 4.000000 7.750000 2.753785"
            ]
          },
          "metadata": {}
        }
      ],
      "source": [
        "v1  <- c(5, 11, 6, NA, 9)\n",
        "\n",
        "len_mean_std(v1)\n"
      ]
    },
    {
      "cell_type": "markdown",
      "metadata": {
        "id": "pfp9mlGrKTRF"
      },
      "source": [
        "---\n",
        "## 2. T-test function (4 pts)\n",
        "\n",
        "The formula for a t-test is:"
      ]
    },
    {
      "cell_type": "markdown",
      "metadata": {
        "id": "AQzTIWHPKTRF"
      },
      "source": [
        "$$ \\frac{m- \\mu}{ \\frac{s}{\\sqrt{n}}} $$"
      ]
    },
    {
      "cell_type": "markdown",
      "metadata": {
        "id": "gamdaE96KTRF"
      },
      "source": [
        "Where m is the sample mean, $\\mu$ (mu) is the population mean, s is the standard deviation, and n is the sample size.\n",
        "\n",
        "Using your function above as a starting point, write a new function `ttest_fun` that compares a vector `x` to a given population mean `mu` and calculates the t-statistic. Keep the coding best practices in mind.\n",
        "\n",
        "Hint: You will need to add another argument for mu."
      ]
    },
    {
      "cell_type": "code",
      "execution_count": 3,
      "metadata": {
        "vscode": {
          "languageId": "r"
        },
        "id": "VwQS59c4KTRF"
      },
      "outputs": [],
      "source": [
        "# Write ttest_fun here\n",
        "ttest_fun <- function(x, mu) {\n",
        "    # (mean - mu) /  (std / sqrt(length))\n",
        "    # len_mean_std: 1. length, 2. mean, 3. std dev\n",
        "    lms <- len_mean_std(x) # use the previously defined function\n",
        "    t <- (lms[2] - mu) / (lms[3] / sqrt(lms[1]))\n",
        "    return(t)\n",
        "}\n"
      ]
    },
    {
      "cell_type": "markdown",
      "metadata": {
        "id": "usGy8u6DKTRG"
      },
      "source": [
        "Use your function to compare the mean of v1 to 10."
      ]
    },
    {
      "cell_type": "code",
      "execution_count": 4,
      "metadata": {
        "vscode": {
          "languageId": "r"
        },
        "id": "5ztUDFaOKTRG",
        "outputId": "40e60fe3-d0b4-4e75-96f5-d818b688bc13",
        "colab": {
          "base_uri": "https://localhost:8080/",
          "height": 34
        }
      },
      "outputs": [
        {
          "output_type": "display_data",
          "data": {
            "text/html": [
              "-1.63411433820577"
            ],
            "text/markdown": "-1.63411433820577",
            "text/latex": "-1.63411433820577",
            "text/plain": [
              "[1] -1.634114"
            ]
          },
          "metadata": {}
        }
      ],
      "source": [
        "ttest_fun(v1, 10)"
      ]
    },
    {
      "cell_type": "markdown",
      "metadata": {
        "id": "Ai9iGXUoKTRG"
      },
      "source": [
        "---\n",
        "## 3. Setting default values (2 pts)\n",
        "\n",
        "Set the default value of mu to 0. Test your modified function below by supplying only `v2` as an argument."
      ]
    },
    {
      "cell_type": "code",
      "execution_count": 5,
      "metadata": {
        "vscode": {
          "languageId": "r"
        },
        "id": "CcqUHQBFKTRG"
      },
      "outputs": [],
      "source": [
        "# Write your modified ttest_fun here\n",
        "ttest_fun <- function(x, mu = 0) {\n",
        "    # (mean - mu) /  (std / sqrt(length))\n",
        "    # len_mean_std: 1. length, 2. mean, 3. std dev\n",
        "    lms <- len_mean_std(x) # use the previously defined function\n",
        "    t <- (lms[2] - mu) / (lms[3] / sqrt(lms[1]))\n",
        "    return(t)\n",
        "}"
      ]
    },
    {
      "cell_type": "code",
      "execution_count": 6,
      "metadata": {
        "vscode": {
          "languageId": "r"
        },
        "id": "6_pFl0OvKTRG",
        "outputId": "c13c0270-9fa9-4e2f-a253-ae6003028da5",
        "colab": {
          "base_uri": "https://localhost:8080/",
          "height": 34
        }
      },
      "outputs": [
        {
          "output_type": "display_data",
          "data": {
            "text/html": [
              "3.20594367796912"
            ],
            "text/markdown": "3.20594367796912",
            "text/latex": "3.20594367796912",
            "text/plain": [
              "[1] 3.205944"
            ]
          },
          "metadata": {}
        }
      ],
      "source": [
        "v2 <- c(3, 7, 1, NA, 8, 12)\n",
        "ttest_fun(v2)"
      ]
    },
    {
      "cell_type": "markdown",
      "metadata": {
        "id": "983sd9DeKTRG"
      },
      "source": [
        "How does your result compare to R's built-in `t.test()` function?"
      ]
    },
    {
      "cell_type": "code",
      "execution_count": 7,
      "metadata": {
        "scrolled": true,
        "vscode": {
          "languageId": "r"
        },
        "id": "02FeVJoYKTRG",
        "outputId": "e2730d4e-3373-4eff-ce56-206d786a1492",
        "colab": {
          "base_uri": "https://localhost:8080/",
          "height": 213
        }
      },
      "outputs": [
        {
          "output_type": "display_data",
          "data": {
            "text/plain": [
              "\n",
              "\tOne Sample t-test\n",
              "\n",
              "data:  v2\n",
              "t = 3.2059, df = 4, p-value = 0.03272\n",
              "alternative hypothesis: true mean is not equal to 0\n",
              "95 percent confidence interval:\n",
              "  0.8306107 11.5693893\n",
              "sample estimates:\n",
              "mean of x \n",
              "      6.2 \n"
            ]
          },
          "metadata": {}
        }
      ],
      "source": [
        "t.test(v2)"
      ]
    },
    {
      "cell_type": "markdown",
      "metadata": {
        "id": "2slWzsoYGuLt"
      },
      "source": [
        "When you are finished, save the notebook as Exercise2.ipynb, push it to your class GitHub repository (the one you made for Exercise 1) and send the instructors a link to your notebook via Canvas. You can send messages via Canvas by clicking \"Inbox\" on the left and then pressing the icon with a pencil inside a square."
      ]
    },
    {
      "cell_type": "markdown",
      "metadata": {
        "id": "C4MPECMmZXqe"
      },
      "source": [
        "**DUE:** 5pm EST, Feb 3, 2025"
      ]
    },
    {
      "cell_type": "markdown",
      "metadata": {
        "id": "r9GUofXN4BVy"
      },
      "source": [
        "**IMPORTANT** Did you collaborate with anyone on this assignment? If so, list their names here.\n",
        "> *Someone's Name*"
      ]
    }
  ],
  "metadata": {
    "kernelspec": {
      "display_name": "R",
      "language": "R",
      "name": "ir"
    },
    "language_info": {
      "codemirror_mode": "r",
      "file_extension": ".r",
      "mimetype": "text/x-r-source",
      "name": "R",
      "pygments_lexer": "r",
      "version": "4.4.2"
    },
    "colab": {
      "provenance": [],
      "include_colab_link": true
    }
  },
  "nbformat": 4,
  "nbformat_minor": 0
}