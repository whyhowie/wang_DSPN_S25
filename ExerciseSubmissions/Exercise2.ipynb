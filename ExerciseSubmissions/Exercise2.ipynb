{
 "cells": [
  {
   "cell_type": "markdown",
   "metadata": {},
   "source": [
    "# Exercise 2: Coding Habits & Functions"
   ]
  },
  {
   "cell_type": "markdown",
   "metadata": {},
   "source": [
    "This assignment will give you some practice writing your own functions and using the coding best practices discussed in the tutorial.\n",
    "\n",
    "---"
   ]
  },
  {
   "cell_type": "markdown",
   "metadata": {},
   "source": [
    "## 1. Summary statistics (4 pts)\n",
    "\n",
    "Write a function that takes a vector of numbers `x` and returns the length, mean, and standard deviation of `x` as a new vector.\n",
    "\n",
    "In keeping with our best practices, give the function a short but descriptive name, and use snake case if it involves multiple words. \n",
    "\n",
    "Hint: Vectors are defined in R using the `c()` command."
   ]
  },
  {
   "cell_type": "code",
   "execution_count": 5,
   "metadata": {
    "vscode": {
     "languageId": "r"
    }
   },
   "outputs": [],
   "source": [
    "#Write your function here\n",
    "len_mean_std <- function(x) {\n",
    "    return(c(length(na.omit(x)), mean(x, na.rm = TRUE), sd(x, na.rm = TRUE)))\n",
    "}"
   ]
  },
  {
   "cell_type": "markdown",
   "metadata": {},
   "source": [
    "Calculate the summary statistics of vector `v1`.\n",
    "\n",
    "*Hint*: Note the \"NA\" in the vector. This is short for \"not available\" and is a placeholder for missing values. You'll want to look up the _is.na_ function (and the not operator _!_), as well as options for removing NA's in the functions that you will use to summarize the vector. Look at the documentation for the functions that you will use to see how to work with NA's."
   ]
  },
  {
   "cell_type": "code",
   "execution_count": 7,
   "metadata": {
    "vscode": {
     "languageId": "r"
    }
   },
   "outputs": [
    {
     "data": {
      "text/html": [
       "4"
      ],
      "text/latex": [
       "4"
      ],
      "text/markdown": [
       "4"
      ],
      "text/plain": [
       "[1] 4"
      ]
     },
     "metadata": {},
     "output_type": "display_data"
    }
   ],
   "source": [
    "v1  <- c(5, 11, 6, NA, 9)\n",
    "\n",
    "len_mean_std(v1)\n"
   ]
  },
  {
   "cell_type": "markdown",
   "metadata": {},
   "source": [
    "---\n",
    "## 2. T-test function (4 pts)\n",
    "\n",
    "The formula for a t-test is:"
   ]
  },
  {
   "cell_type": "markdown",
   "metadata": {},
   "source": [
    "$$ \\frac{m- \\mu}{ \\frac{s}{\\sqrt{n}}} $$"
   ]
  },
  {
   "cell_type": "markdown",
   "metadata": {},
   "source": [
    "Where m is the sample mean, $\\mu$ (mu) is the population mean, s is the standard deviation, and n is the sample size.\n",
    "\n",
    "Using your function above as a starting point, write a new function `ttest_fun` that compares a vector `x` to a given population mean `mu` and calculates the t-statistic. Keep the coding best practices in mind.\n",
    "\n",
    "Hint: You will need to add another argument for mu."
   ]
  },
  {
   "cell_type": "code",
   "execution_count": 8,
   "metadata": {
    "vscode": {
     "languageId": "r"
    }
   },
   "outputs": [],
   "source": [
    "# Write ttest_fun here\n",
    "ttest_fun <- function(x, mu) {\n",
    "    # (mean - mu) /  (std / sqrt(length))\n",
    "    # len_mean_std: 1. length, 2. mean, 3. std dev\n",
    "    lms <- len_mean_std(x) # use the previously defined function\n",
    "    t <- (lms[2] - mu) / (lms[3] / sqrt(lms[1]))\n",
    "    return(t)\n",
    "}\n"
   ]
  },
  {
   "cell_type": "markdown",
   "metadata": {},
   "source": [
    "Use your function to compare the mean of v1 to 10."
   ]
  },
  {
   "cell_type": "code",
   "execution_count": 9,
   "metadata": {
    "vscode": {
     "languageId": "r"
    }
   },
   "outputs": [
    {
     "data": {
      "text/html": [
       "-1.63411433820577"
      ],
      "text/latex": [
       "-1.63411433820577"
      ],
      "text/markdown": [
       "-1.63411433820577"
      ],
      "text/plain": [
       "[1] -1.634114"
      ]
     },
     "metadata": {},
     "output_type": "display_data"
    }
   ],
   "source": [
    "ttest_fun(v1, 10)"
   ]
  },
  {
   "cell_type": "markdown",
   "metadata": {},
   "source": [
    "---\n",
    "## 3. Setting default values (2 pts)\n",
    "\n",
    "Set the default value of mu to 0. Test your modified function below by supplying only `v2` as an argument."
   ]
  },
  {
   "cell_type": "code",
   "execution_count": 10,
   "metadata": {
    "vscode": {
     "languageId": "r"
    }
   },
   "outputs": [],
   "source": [
    "# Write your modified ttest_fun here\n",
    "ttest_fun <- function(x, mu = 0) {\n",
    "    # (mean - mu) /  (std / sqrt(length))\n",
    "    # len_mean_std: 1. length, 2. mean, 3. std dev\n",
    "    lms <- len_mean_std(x) # use the previously defined function\n",
    "    t <- (lms[2] - mu) / (lms[3] / sqrt(lms[1]))\n",
    "    return(t)\n",
    "}"
   ]
  },
  {
   "cell_type": "code",
   "execution_count": 11,
   "metadata": {
    "vscode": {
     "languageId": "r"
    }
   },
   "outputs": [
    {
     "data": {
      "text/html": [
       "3.20594367796912"
      ],
      "text/latex": [
       "3.20594367796912"
      ],
      "text/markdown": [
       "3.20594367796912"
      ],
      "text/plain": [
       "[1] 3.205944"
      ]
     },
     "metadata": {},
     "output_type": "display_data"
    }
   ],
   "source": [
    "v2 <- c(3, 7, 1, NA, 8, 12)\n",
    "ttest_fun(v2)"
   ]
  },
  {
   "cell_type": "markdown",
   "metadata": {},
   "source": [
    "How does your result compare to R's built-in `t.test()` function?"
   ]
  },
  {
   "cell_type": "code",
   "execution_count": 12,
   "metadata": {
    "scrolled": true,
    "vscode": {
     "languageId": "r"
    }
   },
   "outputs": [
    {
     "data": {
      "text/plain": [
       "\n",
       "\tOne Sample t-test\n",
       "\n",
       "data:  v2\n",
       "t = 3.2059, df = 4, p-value = 0.03272\n",
       "alternative hypothesis: true mean is not equal to 0\n",
       "95 percent confidence interval:\n",
       "  0.8306107 11.5693893\n",
       "sample estimates:\n",
       "mean of x \n",
       "      6.2 \n"
      ]
     },
     "metadata": {},
     "output_type": "display_data"
    }
   ],
   "source": [
    "t.test(v2)"
   ]
  },
  {
   "cell_type": "markdown",
   "metadata": {
    "id": "2slWzsoYGuLt"
   },
   "source": [
    "When you are finished, save the notebook as Exercise2.ipynb, push it to your class GitHub repository (the one you made for Exercise 1) and send the instructors a link to your notebook via Canvas. You can send messages via Canvas by clicking \"Inbox\" on the left and then pressing the icon with a pencil inside a square."
   ]
  },
  {
   "cell_type": "markdown",
   "metadata": {
    "id": "C4MPECMmZXqe"
   },
   "source": [
    "**DUE:** 5pm EST, Feb 3, 2025"
   ]
  },
  {
   "cell_type": "markdown",
   "metadata": {
    "id": "r9GUofXN4BVy"
   },
   "source": [
    "**IMPORTANT** Did you collaborate with anyone on this assignment? If so, list their names here. \n",
    "> *Someone's Name*"
   ]
  }
 ],
 "metadata": {
  "kernelspec": {
   "display_name": "R",
   "language": "R",
   "name": "ir"
  },
  "language_info": {
   "codemirror_mode": "r",
   "file_extension": ".r",
   "mimetype": "text/x-r-source",
   "name": "R",
   "pygments_lexer": "r",
   "version": "4.4.1"
  }
 },
 "nbformat": 4,
 "nbformat_minor": 4
}
