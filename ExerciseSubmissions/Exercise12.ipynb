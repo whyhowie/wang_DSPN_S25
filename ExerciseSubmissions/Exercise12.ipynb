{
 "cells": [
  {
   "cell_type": "markdown",
   "metadata": {
    "id": "6xdZ1WjBmtDf"
   },
   "source": [
    "# Exercise 12: Cross validation\n",
    "-----\n",
    "\n",
    "In this exercise, we'll practice implementing cross validation techniques, including leave-one-out and k-fold cross validation. We'll use the `PimaIndiansDiabetes2` practice dataset, which has medical data on a group of Pima Native American women, including whether or not they have diabetes. This dataset is part of the `mlbench` package. We'll be using each person's medical history to predict whether or not they have been diagnosed with diabetes. "
   ]
  },
  {
   "cell_type": "markdown",
   "metadata": {
    "id": "BubJSLTamtDg"
   },
   "source": [
    "# 1: Data (1 pts)\n",
    "---\n",
    "\n",
    "Load the `tidyverse`, `boot`, and `mlbench` packages (you may need to install `boot` and `mlbench`).\n",
    "\n",
    "Load the `PimaIndiansDiabetes2` dataset using the `data()` function. Drop the `insulin` column (it just has a lot of missing data) and then drop `NA`s from the rest of the dataset. Save your updated dataset to a new variable name. Finally, print the dimensions of your new dataset, and look at the first few lines of data."
   ]
  },
  {
   "cell_type": "code",
   "execution_count": 20,
   "metadata": {
    "id": "QNuKGb6emtDg",
    "vscode": {
     "languageId": "r"
    }
   },
   "outputs": [
    {
     "data": {
      "text/html": [
       "<table class=\"dataframe\">\n",
       "<caption>A data.frame: 6 x 8</caption>\n",
       "<thead>\n",
       "\t<tr><th></th><th scope=col>pregnant</th><th scope=col>glucose</th><th scope=col>pressure</th><th scope=col>triceps</th><th scope=col>mass</th><th scope=col>pedigree</th><th scope=col>age</th><th scope=col>diabetes</th></tr>\n",
       "\t<tr><th></th><th scope=col>&lt;dbl&gt;</th><th scope=col>&lt;dbl&gt;</th><th scope=col>&lt;dbl&gt;</th><th scope=col>&lt;dbl&gt;</th><th scope=col>&lt;dbl&gt;</th><th scope=col>&lt;dbl&gt;</th><th scope=col>&lt;dbl&gt;</th><th scope=col>&lt;fct&gt;</th></tr>\n",
       "</thead>\n",
       "<tbody>\n",
       "\t<tr><th scope=row>1</th><td>6</td><td>148</td><td>72</td><td>35</td><td>33.6</td><td>0.627</td><td>50</td><td>pos</td></tr>\n",
       "\t<tr><th scope=row>2</th><td>1</td><td> 85</td><td>66</td><td>29</td><td>26.6</td><td>0.351</td><td>31</td><td>neg</td></tr>\n",
       "\t<tr><th scope=row>4</th><td>1</td><td> 89</td><td>66</td><td>23</td><td>28.1</td><td>0.167</td><td>21</td><td>neg</td></tr>\n",
       "\t<tr><th scope=row>5</th><td>0</td><td>137</td><td>40</td><td>35</td><td>43.1</td><td>2.288</td><td>33</td><td>pos</td></tr>\n",
       "\t<tr><th scope=row>7</th><td>3</td><td> 78</td><td>50</td><td>32</td><td>31.0</td><td>0.248</td><td>26</td><td>pos</td></tr>\n",
       "\t<tr><th scope=row>9</th><td>2</td><td>197</td><td>70</td><td>45</td><td>30.5</td><td>0.158</td><td>53</td><td>pos</td></tr>\n",
       "</tbody>\n",
       "</table>\n"
      ],
      "text/latex": [
       "A data.frame: 6 x 8\n",
       "\\begin{tabular}{r|llllllll}\n",
       "  & pregnant & glucose & pressure & triceps & mass & pedigree & age & diabetes\\\\\n",
       "  & <dbl> & <dbl> & <dbl> & <dbl> & <dbl> & <dbl> & <dbl> & <fct>\\\\\n",
       "\\hline\n",
       "\t1 & 6 & 148 & 72 & 35 & 33.6 & 0.627 & 50 & pos\\\\\n",
       "\t2 & 1 &  85 & 66 & 29 & 26.6 & 0.351 & 31 & neg\\\\\n",
       "\t4 & 1 &  89 & 66 & 23 & 28.1 & 0.167 & 21 & neg\\\\\n",
       "\t5 & 0 & 137 & 40 & 35 & 43.1 & 2.288 & 33 & pos\\\\\n",
       "\t7 & 3 &  78 & 50 & 32 & 31.0 & 0.248 & 26 & pos\\\\\n",
       "\t9 & 2 & 197 & 70 & 45 & 30.5 & 0.158 & 53 & pos\\\\\n",
       "\\end{tabular}\n"
      ],
      "text/markdown": [
       "\n",
       "A data.frame: 6 x 8\n",
       "\n",
       "| <!--/--> | pregnant &lt;dbl&gt; | glucose &lt;dbl&gt; | pressure &lt;dbl&gt; | triceps &lt;dbl&gt; | mass &lt;dbl&gt; | pedigree &lt;dbl&gt; | age &lt;dbl&gt; | diabetes &lt;fct&gt; |\n",
       "|---|---|---|---|---|---|---|---|---|\n",
       "| 1 | 6 | 148 | 72 | 35 | 33.6 | 0.627 | 50 | pos |\n",
       "| 2 | 1 |  85 | 66 | 29 | 26.6 | 0.351 | 31 | neg |\n",
       "| 4 | 1 |  89 | 66 | 23 | 28.1 | 0.167 | 21 | neg |\n",
       "| 5 | 0 | 137 | 40 | 35 | 43.1 | 2.288 | 33 | pos |\n",
       "| 7 | 3 |  78 | 50 | 32 | 31.0 | 0.248 | 26 | pos |\n",
       "| 9 | 2 | 197 | 70 | 45 | 30.5 | 0.158 | 53 | pos |\n",
       "\n"
      ],
      "text/plain": [
       "  pregnant glucose pressure triceps mass pedigree age diabetes\n",
       "1 6        148     72       35      33.6 0.627    50  pos     \n",
       "2 1         85     66       29      26.6 0.351    31  neg     \n",
       "4 1         89     66       23      28.1 0.167    21  neg     \n",
       "5 0        137     40       35      43.1 2.288    33  pos     \n",
       "7 3         78     50       32      31.0 0.248    26  pos     \n",
       "9 2        197     70       45      30.5 0.158    53  pos     "
      ]
     },
     "metadata": {},
     "output_type": "display_data"
    }
   ],
   "source": [
    "# INSERT CODE HERE\n",
    "# install.packages(\"mlbench\") # uncomment if the package is missing\n",
    "# install.packages(\"boot\")\n",
    "library(tidyverse)\n",
    "library(boot)\n",
    "require(mlbench)\n",
    "\n",
    "\n",
    "pid2 <- as.data.frame(PimaIndiansDiabetes2) |> # Had to convert to data frame for some reason\n",
    "    subset(select = -c(insulin)) |> # drop insulin\n",
    "    drop_na()\n",
    "head(pid2)"
   ]
  },
  {
   "cell_type": "markdown",
   "metadata": {
    "id": "_BRVQiWSmtDh"
   },
   "source": [
    "(Note that in medical contexts, `pedigree` refers to a system of measuring family history of a condition. So here, higher numbers mean greater family history of diabetes. You can read more about this dataset [here](https://rdrr.io/cran/mlbench/man/PimaIndiansDiabetes.html).)\n",
    "\n",
    "# 2. Leave-one-out Cross Validation (4 pts)\n",
    "\n",
    "In the tutorial, we learned how to fit leave-one-out cross validation using the `cv.glm` function from the `boot` package. But we can also do this manually using `predict()` like we have in the past.\n",
    "\n",
    "Let's predict `diabetes`, a dichotomous outcome, using all the other variables in our modified dataset. \n",
    "\n",
    "First, fit a logistic regression model using all of the observations except the very first one. Then use your fitted model to predict whether your holdout case is positive or negative for diabetes. Remember that logistic regression coefficients are in **log-odds**, meaning that if an output is positive, the probability of the outcome is greater than 50%; if the output is negative, the probability of the outcome is less than 50%. \n",
    "\n",
    "Compare your result to the actual response in row one above. Did your model correctly classify this observation?"
   ]
  },
  {
   "cell_type": "code",
   "execution_count": 51,
   "metadata": {
    "id": "RDyry5h_mtDi",
    "vscode": {
     "languageId": "r"
    }
   },
   "outputs": [
    {
     "data": {
      "text/plain": [
       "\n",
       "Call:\n",
       "glm(formula = diabetes ~ ., family = binomial, data = pid2)\n",
       "\n",
       "Coefficients:\n",
       "             Estimate Std. Error z value Pr(>|z|)    \n",
       "(Intercept) -9.554651   0.994217  -9.610  < 2e-16 ***\n",
       "pregnant     0.122517   0.043743   2.801 0.005097 ** \n",
       "glucose      0.035321   0.004244   8.322  < 2e-16 ***\n",
       "pressure    -0.007695   0.010314  -0.746 0.455602    \n",
       "triceps      0.006774   0.014759   0.459 0.646242    \n",
       "mass         0.082678   0.023334   3.543 0.000395 ***\n",
       "pedigree     1.308708   0.364040   3.595 0.000324 ***\n",
       "age          0.026375   0.014000   1.884 0.059581 .  \n",
       "---\n",
       "Signif. codes:  0 '***' 0.001 '**' 0.01 '*' 0.05 '.' 0.1 ' ' 1\n",
       "\n",
       "(Dispersion parameter for binomial family taken to be 1)\n",
       "\n",
       "    Null deviance: 676.79  on 531  degrees of freedom\n",
       "Residual deviance: 466.32  on 524  degrees of freedom\n",
       "AIC: 482.32\n",
       "\n",
       "Number of Fisher Scoring iterations: 5\n"
      ]
     },
     "metadata": {},
     "output_type": "display_data"
    },
    {
     "data": {
      "text/html": [
       "<style>\n",
       ".list-inline {list-style: none; margin:0; padding: 0}\n",
       ".list-inline>li {display: inline-block}\n",
       ".list-inline>li:not(:last-child)::after {content: \"\\00b7\"; padding: 0 .5ex}\n",
       "</style>\n",
       "<ol class=list-inline><li>0.14717901815415</li><li>0.147173382124609</li></ol>\n"
      ],
      "text/latex": [
       "\\begin{enumerate*}\n",
       "\\item 0.14717901815415\n",
       "\\item 0.147173382124609\n",
       "\\end{enumerate*}\n"
      ],
      "text/markdown": [
       "1. 0.14717901815415\n",
       "2. 0.147173382124609\n",
       "\n",
       "\n"
      ],
      "text/plain": [
       "[1] 0.1471790 0.1471734"
      ]
     },
     "metadata": {},
     "output_type": "display_data"
    }
   ],
   "source": [
    "# INSERT CODE HERE\n",
    "glm.fit = glm(diabetes ~ ., data = pid2, family = binomial)    # the `.` includes all other variables\n",
    "summary(glm.fit)\n",
    "cv.err = cv.glm(pid2, glm.fit) # not defining K; the default is LOOCV\n",
    "cv.err$delta"
   ]
  },
  {
   "cell_type": "markdown",
   "metadata": {
    "id": "sIPpDdd0mtDi"
   },
   "source": [
    "So we just calculated a single iteration of LOOCV. We used 531 rows of our data to fit a model to predict the outcome of the last row. \n",
    "\n",
    "Below, use a `for` loop to iterate through the rest of your dataset doing the same thing. You will need to:\n",
    "* Create a data frame `results` with two columns: one named `actual` which holds the true classification for each observation, and one named `predicted`, which should be filled with `NA`s. This is where you'll store the output of your loop.\n",
    "* Create a loop that runs through each row of your data, pulls that observation out, trains your model on the remaining data, and then tests the fitted model on your test observation.\n",
    "* Store your model *predictions* (\"pos\" or \"neg\" -- not the log-odds) in the `predicted` column of your `results` dataframe\n",
    "\n",
    "After you run your loop, print the first few lines of `results`."
   ]
  },
  {
   "cell_type": "code",
   "execution_count": 56,
   "metadata": {
    "id": "5Z1ijm_PmtDj",
    "vscode": {
     "languageId": "r"
    }
   },
   "outputs": [
    {
     "data": {
      "text/html": [
       "<table class=\"dataframe\">\n",
       "<caption>A data.frame: 6 x 2</caption>\n",
       "<thead>\n",
       "\t<tr><th></th><th scope=col>actual</th><th scope=col>predicted</th></tr>\n",
       "\t<tr><th></th><th scope=col>&lt;fct&gt;</th><th scope=col>&lt;chr&gt;</th></tr>\n",
       "</thead>\n",
       "<tbody>\n",
       "\t<tr><th scope=row>1</th><td>pos</td><td>pos</td></tr>\n",
       "\t<tr><th scope=row>2</th><td>neg</td><td>neg</td></tr>\n",
       "\t<tr><th scope=row>3</th><td>neg</td><td>neg</td></tr>\n",
       "\t<tr><th scope=row>4</th><td>pos</td><td>pos</td></tr>\n",
       "\t<tr><th scope=row>5</th><td>pos</td><td>neg</td></tr>\n",
       "\t<tr><th scope=row>6</th><td>pos</td><td>pos</td></tr>\n",
       "</tbody>\n",
       "</table>\n"
      ],
      "text/latex": [
       "A data.frame: 6 x 2\n",
       "\\begin{tabular}{r|ll}\n",
       "  & actual & predicted\\\\\n",
       "  & <fct> & <chr>\\\\\n",
       "\\hline\n",
       "\t1 & pos & pos\\\\\n",
       "\t2 & neg & neg\\\\\n",
       "\t3 & neg & neg\\\\\n",
       "\t4 & pos & pos\\\\\n",
       "\t5 & pos & neg\\\\\n",
       "\t6 & pos & pos\\\\\n",
       "\\end{tabular}\n"
      ],
      "text/markdown": [
       "\n",
       "A data.frame: 6 x 2\n",
       "\n",
       "| <!--/--> | actual &lt;fct&gt; | predicted &lt;chr&gt; |\n",
       "|---|---|---|\n",
       "| 1 | pos | pos |\n",
       "| 2 | neg | neg |\n",
       "| 3 | neg | neg |\n",
       "| 4 | pos | pos |\n",
       "| 5 | pos | neg |\n",
       "| 6 | pos | pos |\n",
       "\n"
      ],
      "text/plain": [
       "  actual predicted\n",
       "1 pos    pos      \n",
       "2 neg    neg      \n",
       "3 neg    neg      \n",
       "4 pos    pos      \n",
       "5 pos    neg      \n",
       "6 pos    pos      "
      ]
     },
     "metadata": {},
     "output_type": "display_data"
    }
   ],
   "source": [
    "# Initialize `results` data frame\n",
    "# INSERT CODE HERE\n",
    "results <- data.frame(actual = pid2$diabetes)\n",
    "results$predicted <- NA\n",
    "\n",
    "#for loop\n",
    "for (i in 1:nrow(pid2)){ #don't forget to change this to your data set name\n",
    "    # separate individual observation `i` from the rest of your data\n",
    "    # INSERT CODE HERE\n",
    "    test <- pid2[i,]\n",
    "    train <- pid2[-i,]\n",
    "\n",
    "    # train your model\n",
    "    # INSERT CODE HERE\n",
    "    glm.fit <- glm(diabetes ~ ., data=train, family=binomial)\n",
    "\n",
    "    # test model on hold out observation\n",
    "    # INSERT CODE HERE\n",
    "    predicted_prob = predict(glm.fit, test, type=\"response\") # ensures that the predictions are on the probability scale\n",
    "\n",
    "    # classify model prediction as \"pos\" or \"neg\" and add to `results`\n",
    "    # INSERT CODE HERE\n",
    "    predicted_class <- ifelse(predicted_prob > 0.5, \"pos\", \"neg\")\n",
    "    results[i,\"predicted\"] <- predicted_class\n",
    "}\n",
    "head(results)"
   ]
  },
  {
   "cell_type": "markdown",
   "metadata": {
    "id": "42Jng_EEmtDk"
   },
   "source": [
    "Now, calculate the overall error of your model. What proportion of cases were incorrectly classified?"
   ]
  },
  {
   "cell_type": "code",
   "execution_count": 60,
   "metadata": {
    "id": "SYhKS5HimtDk",
    "vscode": {
     "languageId": "r"
    }
   },
   "outputs": [
    {
     "name": "stdout",
     "output_type": "stream",
     "text": [
      "[1] 0.2218045\n"
     ]
    }
   ],
   "source": [
    "# INSERT CODE HERE\n",
    "results.err <- mean(results$actual != results$predicted)\n",
    "print(results.err)"
   ]
  },
  {
   "cell_type": "markdown",
   "metadata": {
    "id": "W1TwL8BimtDl"
   },
   "source": [
    "# 3. Compare to `cv.glm` (3 pts)\n",
    "\n",
    "Now, let's compare this result to the `cv.glm` function. Using the tutorial as a guide, use `cv.glm` to run LOOCV on the data, using the same model (i.e., still using all of the variables to predict diabetes diagnosis).\n",
    "\n",
    "Note that, because this is a `classification` problem and not a regression problem like in the tutorial, we need to adjust the `cost` argument of `cv.glm`. We can read more about this in the docs:"
   ]
  },
  {
   "cell_type": "code",
   "execution_count": 63,
   "metadata": {
    "id": "wIUAW1AtmtDl",
    "vscode": {
     "languageId": "r"
    }
   },
   "outputs": [
    {
     "name": "stdout",
     "output_type": "stream",
     "text": [
      "cv.glm                  package:boot                   R Documentation\n",
      "\n",
      "_\bC_\br_\bo_\bs_\bs-_\bv_\ba_\bl_\bi_\bd_\ba_\bt_\bi_\bo_\bn _\bf_\bo_\br _\bG_\be_\bn_\be_\br_\ba_\bl_\bi_\bz_\be_\bd _\bL_\bi_\bn_\be_\ba_\br _\bM_\bo_\bd_\be_\bl_\bs\n",
      "\n",
      "_\bD_\be_\bs_\bc_\br_\bi_\bp_\bt_\bi_\bo_\bn:\n",
      "\n",
      "     This function calculates the estimated K-fold cross-validation\n",
      "     prediction error for generalized linear models.\n",
      "\n",
      "_\bU_\bs_\ba_\bg_\be:\n",
      "\n",
      "     cv.glm(data, glmfit, cost, K)\n",
      "     \n",
      "_\bA_\br_\bg_\bu_\bm_\be_\bn_\bt_\bs:\n",
      "\n",
      "    data: A matrix or data frame containing the data.  The rows should\n",
      "          be cases and the columns correspond to variables, one of\n",
      "          which is the response.\n",
      "\n",
      "  glmfit: An object of class '\"glm\"' containing the results of a\n",
      "          generalized linear model fitted to 'data'.\n",
      "\n",
      "    cost: A function of two vector arguments specifying the cost\n",
      "          function for the cross-validation.  The first argument to\n",
      "          'cost' should correspond to the observed responses and the\n",
      "          second argument should correspond to the predicted or fitted\n",
      "          responses from the generalized linear model.  'cost' must\n",
      "          return a non-negative scalar value.  The default is the\n",
      "          average squared error function.\n",
      "\n",
      "       K: The number of groups into which the data should be split to\n",
      "          estimate the cross-validation prediction error.  The value of\n",
      "          'K' must be such that all groups are of approximately equal\n",
      "          size.  If the supplied value of 'K' does not satisfy this\n",
      "          criterion then it will be set to the closest integer which\n",
      "          does and a warning is generated specifying the value of 'K'\n",
      "          used.  The default is to set 'K' equal to the number of\n",
      "          observations in 'data' which gives the usual leave-one-out\n",
      "          cross-validation.\n",
      "\n",
      "_\bD_\be_\bt_\ba_\bi_\bl_\bs:\n",
      "\n",
      "     The data is divided randomly into 'K' groups.  For each group the\n",
      "     generalized linear model is fit to 'data' omitting that group,\n",
      "     then the function 'cost' is applied to the observed responses in\n",
      "     the group that was omitted from the fit and the prediction made by\n",
      "     the fitted models for those observations.\n",
      "\n",
      "     When 'K' is the number of observations leave-one-out\n",
      "     cross-validation is used and all the possible splits of the data\n",
      "     are used.  When 'K' is less than the number of observations the\n",
      "     'K' splits to be used are found by randomly partitioning the data\n",
      "     into 'K' groups of approximately equal size.  In this latter case\n",
      "     a certain amount of bias is introduced.  This can be reduced by\n",
      "     using a simple adjustment (see equation 6.48 in Davison and\n",
      "     Hinkley, 1997). The second value returned in 'delta' is the\n",
      "     estimate adjusted by this method.\n",
      "\n",
      "_\bV_\ba_\bl_\bu_\be:\n",
      "\n",
      "     The returned value is a list with the following components.\n",
      "\n",
      "    call: The original call to 'cv.glm'.\n",
      "\n",
      "       K: The value of 'K' used for the K-fold cross validation.\n",
      "\n",
      "   delta: A vector of length two.  The first component is the raw\n",
      "          cross-validation estimate of prediction error.  The second\n",
      "          component is the adjusted cross-validation estimate.  The\n",
      "          adjustment is designed to compensate for the bias introduced\n",
      "          by not using leave-one-out cross-validation.\n",
      "\n",
      "    seed: The value of '.Random.seed' when 'cv.glm' was called.\n",
      "\n",
      "_\bS_\bi_\bd_\be _\bE_\bf_\bf_\be_\bc_\bt_\bs:\n",
      "\n",
      "     The value of '.Random.seed' is updated.\n",
      "\n",
      "_\bR_\be_\bf_\be_\br_\be_\bn_\bc_\be_\bs:\n",
      "\n",
      "     Breiman, L., Friedman, J.H., Olshen, R.A. and Stone, C.J. (1984)\n",
      "     _Classification and Regression Trees_. Wadsworth.\n",
      "\n",
      "     Burman, P. (1989) A comparative study of ordinary\n",
      "     cross-validation, _v_-fold cross-validation and repeated\n",
      "     learning-testing methods. _Biometrika_, *76*, 503-514\n",
      "\n",
      "     Davison, A.C. and Hinkley, D.V. (1997) _Bootstrap Methods and\n",
      "     Their Application_. Cambridge University Press.\n",
      "\n",
      "     Efron, B. (1986) How biased is the apparent error rate of a\n",
      "     prediction rule? _Journal of the American Statistical\n",
      "     Association_, *81*, 461-470.\n",
      "\n",
      "     Stone, M.  (1974) Cross-validation choice and assessment of\n",
      "     statistical predictions (with Discussion).  _Journal of the Royal\n",
      "     Statistical Society, B_, *36*, 111-147.\n",
      "\n",
      "_\bS_\be_\be _\bA_\bl_\bs_\bo:\n",
      "\n",
      "     'glm', 'glm.diag', 'predict'\n",
      "\n",
      "_\bE_\bx_\ba_\bm_\bp_\bl_\be_\bs:\n",
      "\n",
      "     # leave-one-out and 6-fold cross-validation prediction error for \n",
      "     # the mammals data set.\n",
      "     data(mammals, package=\"MASS\")\n",
      "     mammals.glm <- glm(log(brain) ~ log(body), data = mammals)\n",
      "     (cv.err <- cv.glm(mammals, mammals.glm)$delta)\n",
      "     (cv.err.6 <- cv.glm(mammals, mammals.glm, K = 6)$delta)\n",
      "     \n",
      "     # As this is a linear model we could calculate the leave-one-out \n",
      "     # cross-validation estimate without any extra model-fitting.\n",
      "     muhat <- fitted(mammals.glm)\n",
      "     mammals.diag <- glm.diag(mammals.glm)\n",
      "     (cv.err <- mean((mammals.glm$y - muhat)^2/(1 - mammals.diag$h)^2))\n",
      "     \n",
      "     \n",
      "     # leave-one-out and 11-fold cross-validation prediction error for \n",
      "     # the nodal data set.  Since the response is a binary variable an\n",
      "     # appropriate cost function is\n",
      "     cost <- function(r, pi = 0) mean(abs(r-pi) > 0.5)\n",
      "     \n",
      "     nodal.glm <- glm(r ~ stage+xray+acid, binomial, data = nodal)\n",
      "     (cv.err <- cv.glm(nodal, nodal.glm, cost, K = nrow(nodal))$delta)\n",
      "     (cv.11.err <- cv.glm(nodal, nodal.glm, cost, K = 11)$delta)\n",
      "     "
     ]
    }
   ],
   "source": [
    "?cv.glm"
   ]
  },
  {
   "cell_type": "markdown",
   "metadata": {
    "id": "SWhbyxtymtDl"
   },
   "source": [
    "Here, we see `cost` is defined as: \n",
    "> \"A function of two vector arguments specifying the cost function for the cross-validation. The first argument to cost should correspond to the **observed responses** and the second argument should correspond to the **predicted or fitted responses** from the generalized linear model.\"\n",
    "\n",
    "In the example code (scroll to bottom of the docs), we see that the appropriate cost function for a binary classification is \n",
    "\n",
    "``\n",
    "cost <- function(r, pi = 0) mean(abs(r-pi) > 0.5)\n",
    "``\n",
    "\n",
    "Where `r` is the vector of observed responses (technically \"pos\" and \"neg\", but R treats these as 1 and 0 under the hood), and `pi` is the vector of *probabilities* (not log-odds) fit by the model. Thus, this boils down to our error: what proportion of observations were incorrectly classified. You will need to include this code below."
   ]
  },
  {
   "cell_type": "code",
   "execution_count": 66,
   "metadata": {
    "id": "bJiCmfqomtDl",
    "vscode": {
     "languageId": "r"
    }
   },
   "outputs": [
    {
     "data": {
      "text/html": [
       "<style>\n",
       ".list-inline {list-style: none; margin:0; padding: 0}\n",
       ".list-inline>li {display: inline-block}\n",
       ".list-inline>li:not(:last-child)::after {content: \"\\00b7\"; padding: 0 .5ex}\n",
       "</style>\n",
       "<ol class=list-inline><li>0.221804511278196</li><li>0.222115438973376</li></ol>\n"
      ],
      "text/latex": [
       "\\begin{enumerate*}\n",
       "\\item 0.221804511278196\n",
       "\\item 0.222115438973376\n",
       "\\end{enumerate*}\n"
      ],
      "text/markdown": [
       "1. 0.221804511278196\n",
       "2. 0.222115438973376\n",
       "\n",
       "\n"
      ],
      "text/plain": [
       "[1] 0.2218045 0.2221154"
      ]
     },
     "metadata": {},
     "output_type": "display_data"
    }
   ],
   "source": [
    "# INSERT CODE HERE\n",
    "glm.fit = glm(diabetes ~ ., data = pid2, family = binomial)    # the `.` includes all other variables\n",
    "cost <- function(r, pi = 0) {\n",
    "    mean(abs(r-pi) > 0.5)\n",
    "}\n",
    "\n",
    "cv.err = cv.glm(pid2, glm.fit, cost=cost) # not defining K; the default is LOOCV\n",
    "cv.err$delta"
   ]
  },
  {
   "cell_type": "markdown",
   "metadata": {
    "id": "IcEuGX3FmtDm"
   },
   "source": [
    "How do your results compare to your manual LOOCV above?\n",
    "\n",
    "> *Write response here*\n",
    ">\n",
    "> The first entry of my results (the raw CV error without adjustments) appears to be identical to my manual LOOCV error rate.\n"
   ]
  },
  {
   "cell_type": "markdown",
   "metadata": {
    "id": "6Y2tL4NpmtDm"
   },
   "source": [
    "# 4. Adjusting K and Reflection (2 pts)\n",
    "\n",
    "Recall that LOOCV has some drawbacks. In particular, it has quite high *variance* which can lead to poor performance on new test data. We can reduce this variance by increasing K.\n",
    "\n",
    "Below, re-run your cross validation using `cv.glm` with `k` set to 3, 5, 10, and 15. "
   ]
  },
  {
   "cell_type": "code",
   "execution_count": null,
   "metadata": {
    "id": "vZYq_NQlmtDm",
    "scrolled": true,
    "vscode": {
     "languageId": "r"
    }
   },
   "outputs": [
    {
     "data": {
      "text/html": [
       "<style>\n",
       ".list-inline {list-style: none; margin:0; padding: 0}\n",
       ".list-inline>li {display: inline-block}\n",
       ".list-inline>li:not(:last-child)::after {content: \"\\00b7\"; padding: 0 .5ex}\n",
       "</style>\n",
       "<ol class=list-inline><li>0.210526315789474</li><li>0.21680846853977</li></ol>\n"
      ],
      "text/latex": [
       "\\begin{enumerate*}\n",
       "\\item 0.210526315789474\n",
       "\\item 0.21680846853977\n",
       "\\end{enumerate*}\n"
      ],
      "text/markdown": [
       "1. 0.210526315789474\n",
       "2. 0.21680846853977\n",
       "\n",
       "\n"
      ],
      "text/plain": [
       "[1] 0.2105263 0.2168085"
      ]
     },
     "metadata": {},
     "output_type": "display_data"
    },
    {
     "data": {
      "text/html": [
       "<style>\n",
       ".list-inline {list-style: none; margin:0; padding: 0}\n",
       ".list-inline>li {display: inline-block}\n",
       ".list-inline>li:not(:last-child)::after {content: \"\\00b7\"; padding: 0 .5ex}\n",
       "</style>\n",
       "<ol class=list-inline><li>0.216165413533835</li><li>0.218444372208717</li></ol>\n"
      ],
      "text/latex": [
       "\\begin{enumerate*}\n",
       "\\item 0.216165413533835\n",
       "\\item 0.218444372208717\n",
       "\\end{enumerate*}\n"
      ],
      "text/markdown": [
       "1. 0.216165413533835\n",
       "2. 0.218444372208717\n",
       "\n",
       "\n"
      ],
      "text/plain": [
       "[1] 0.2161654 0.2184444"
      ]
     },
     "metadata": {},
     "output_type": "display_data"
    },
    {
     "data": {
      "text/html": [
       "<style>\n",
       ".list-inline {list-style: none; margin:0; padding: 0}\n",
       ".list-inline>li {display: inline-block}\n",
       ".list-inline>li:not(:last-child)::after {content: \"\\00b7\"; padding: 0 .5ex}\n",
       "</style>\n",
       "<ol class=list-inline><li>0.223684210526316</li><li>0.223094154559331</li></ol>\n"
      ],
      "text/latex": [
       "\\begin{enumerate*}\n",
       "\\item 0.223684210526316\n",
       "\\item 0.223094154559331\n",
       "\\end{enumerate*}\n"
      ],
      "text/markdown": [
       "1. 0.223684210526316\n",
       "2. 0.223094154559331\n",
       "\n",
       "\n"
      ],
      "text/plain": [
       "[1] 0.2236842 0.2230942"
      ]
     },
     "metadata": {},
     "output_type": "display_data"
    },
    {
     "data": {
      "text/html": [
       "<style>\n",
       ".list-inline {list-style: none; margin:0; padding: 0}\n",
       ".list-inline>li {display: inline-block}\n",
       ".list-inline>li:not(:last-child)::after {content: \"\\00b7\"; padding: 0 .5ex}\n",
       "</style>\n",
       "<ol class=list-inline><li>0.227443609022556</li><li>0.228185595567867</li></ol>\n"
      ],
      "text/latex": [
       "\\begin{enumerate*}\n",
       "\\item 0.227443609022556\n",
       "\\item 0.228185595567867\n",
       "\\end{enumerate*}\n"
      ],
      "text/markdown": [
       "1. 0.227443609022556\n",
       "2. 0.228185595567867\n",
       "\n",
       "\n"
      ],
      "text/plain": [
       "[1] 0.2274436 0.2281856"
      ]
     },
     "metadata": {},
     "output_type": "display_data"
    }
   ],
   "source": [
    "set.seed(1)\n",
    "#INSERT CODE BELOW\n",
    "\n",
    "# K = 3\n",
    "cv.err = cv.glm(pid2, glm.fit, cost=cost, K=3)\n",
    "cv.err$delta\n",
    "\n",
    "# K = 5\n",
    "cv.err = cv.glm(pid2, glm.fit, cost=cost, K=5)\n",
    "cv.err$delta\n",
    "\n",
    "# K = 10\n",
    "cv.err = cv.glm(pid2, glm.fit, cost=cost, K=10)\n",
    "cv.err$delta\n",
    "\n",
    "# K = 15\n",
    "cv.err = cv.glm(pid2, glm.fit, cost=cost, K=15)\n",
    "cv.err$delta"
   ]
  },
  {
   "cell_type": "markdown",
   "metadata": {
    "id": "fI5Y1OqOmtDn"
   },
   "source": [
    "#### Reflection\n",
    "\n",
    "How do your errors compare to your LOOCV error above? How do they change as k increases?\n",
    "> *Write response here*\n",
    "> \n",
    "> * The previous LOOCV error is within the range of these four error rates. However, notice that as K increases, the error rate appears to be larger.\n",
    "\n",
    "If you change the random seed above, you'll get slightly different errors. If you were to do the same with your LOOCV above , would you expect to get different results each time? Why or why not?\n",
    "> *Write response here*\n",
    ">\n",
    "> * In this case, we systematically leave on sample out for testing and no random sampling is involved. Therefore, the results will remain the same."
   ]
  },
  {
   "cell_type": "markdown",
   "metadata": {},
   "source": [
    "\n",
    "**DUE:** 5pm March 24, 2025\n",
    "\n",
    "**IMPORTANT** Did you collaborate with anyone on this assignment? If so, list their names here.\n",
    "> *Someone's Name*\n",
    ">\n",
    ">\n"
   ]
  }
 ],
 "metadata": {
  "colab": {
   "provenance": []
  },
  "kernelspec": {
   "display_name": "R",
   "language": "R",
   "name": "ir"
  },
  "language_info": {
   "codemirror_mode": "r",
   "file_extension": ".r",
   "mimetype": "text/x-r-source",
   "name": "R",
   "pygments_lexer": "r",
   "version": "4.4.2"
  }
 },
 "nbformat": 4,
 "nbformat_minor": 4
}
