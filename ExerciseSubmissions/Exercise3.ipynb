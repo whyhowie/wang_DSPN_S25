{
  "cells": [
    {
      "cell_type": "markdown",
      "metadata": {
        "id": "-2W919d2ZXp7"
      },
      "source": [
        "# Exercise 3: Data objects"
      ]
    },
    {
      "cell_type": "markdown",
      "source": [
        "1. Load packages 1/1\n",
        "2. Replicating summary table 5/5\n",
        "3. Summary table and indexing 4/4"
      ],
      "metadata": {
        "id": "bxv3bgWJlii3"
      }
    },
    {
      "cell_type": "markdown",
      "metadata": {
        "id": "L4nOzVhyZXqK"
      },
      "source": [
        "These exercises are designed to get you comfortable extracting information from data objects.\n",
        "\n",
        "We'll work with the `Credit` dataset which comes in the `ISLR` package in R. This is a simulated dataset that provides credit and demographic information on 10,000 hypothetical customers."
      ]
    },
    {
      "cell_type": "markdown",
      "metadata": {
        "id": "9DsyBTB6ZXqN"
      },
      "source": [
        "---\n",
        "## 1. Load packages, data, model (1 point)\n",
        "\n",
        "Install and load `ISLR` below."
      ]
    },
    {
      "cell_type": "code",
      "execution_count": null,
      "metadata": {
        "id": "UnBVazYfZXqP",
        "scrolled": true,
        "vscode": {
          "languageId": "r"
        }
      },
      "outputs": [],
      "source": [
        "#install.packages(\"ISLR\")\n",
        "library(ISLR)"
      ]
    },
    {
      "cell_type": "markdown",
      "metadata": {
        "id": "pz8azqUWlhug"
      },
      "source": [
        "Take a look at the first few rows of the `Credit` dataset."
      ]
    },
    {
      "cell_type": "code",
      "execution_count": null,
      "metadata": {
        "scrolled": true,
        "vscode": {
          "languageId": "r"
        },
        "id": "mg4J-oh5lhug",
        "outputId": "f9c4a698-2173-4bed-d953-69788e4f6d39"
      },
      "outputs": [
        {
          "data": {
            "text/html": [
              "<table class=\"dataframe\">\n",
              "<caption>A data.frame: 6 x 12</caption>\n",
              "<thead>\n",
              "\t<tr><th></th><th scope=col>ID</th><th scope=col>Income</th><th scope=col>Limit</th><th scope=col>Rating</th><th scope=col>Cards</th><th scope=col>Age</th><th scope=col>Education</th><th scope=col>Gender</th><th scope=col>Student</th><th scope=col>Married</th><th scope=col>Ethnicity</th><th scope=col>Balance</th></tr>\n",
              "\t<tr><th></th><th scope=col>&lt;int&gt;</th><th scope=col>&lt;dbl&gt;</th><th scope=col>&lt;int&gt;</th><th scope=col>&lt;int&gt;</th><th scope=col>&lt;int&gt;</th><th scope=col>&lt;int&gt;</th><th scope=col>&lt;int&gt;</th><th scope=col>&lt;fct&gt;</th><th scope=col>&lt;fct&gt;</th><th scope=col>&lt;fct&gt;</th><th scope=col>&lt;fct&gt;</th><th scope=col>&lt;int&gt;</th></tr>\n",
              "</thead>\n",
              "<tbody>\n",
              "\t<tr><th scope=row>1</th><td>1</td><td> 14.891</td><td>3606</td><td>283</td><td>2</td><td>34</td><td>11</td><td> Male </td><td>No </td><td>Yes</td><td>Caucasian</td><td> 333</td></tr>\n",
              "\t<tr><th scope=row>2</th><td>2</td><td>106.025</td><td>6645</td><td>483</td><td>3</td><td>82</td><td>15</td><td>Female</td><td>Yes</td><td>Yes</td><td>Asian    </td><td> 903</td></tr>\n",
              "\t<tr><th scope=row>3</th><td>3</td><td>104.593</td><td>7075</td><td>514</td><td>4</td><td>71</td><td>11</td><td> Male </td><td>No </td><td>No </td><td>Asian    </td><td> 580</td></tr>\n",
              "\t<tr><th scope=row>4</th><td>4</td><td>148.924</td><td>9504</td><td>681</td><td>3</td><td>36</td><td>11</td><td>Female</td><td>No </td><td>No </td><td>Asian    </td><td> 964</td></tr>\n",
              "\t<tr><th scope=row>5</th><td>5</td><td> 55.882</td><td>4897</td><td>357</td><td>2</td><td>68</td><td>16</td><td> Male </td><td>No </td><td>Yes</td><td>Caucasian</td><td> 331</td></tr>\n",
              "\t<tr><th scope=row>6</th><td>6</td><td> 80.180</td><td>8047</td><td>569</td><td>4</td><td>77</td><td>10</td><td> Male </td><td>No </td><td>No </td><td>Caucasian</td><td>1151</td></tr>\n",
              "</tbody>\n",
              "</table>\n"
            ],
            "text/latex": [
              "A data.frame: 6 x 12\n",
              "\\begin{tabular}{r|llllllllllll}\n",
              "  & ID & Income & Limit & Rating & Cards & Age & Education & Gender & Student & Married & Ethnicity & Balance\\\\\n",
              "  & <int> & <dbl> & <int> & <int> & <int> & <int> & <int> & <fct> & <fct> & <fct> & <fct> & <int>\\\\\n",
              "\\hline\n",
              "\t1 & 1 &  14.891 & 3606 & 283 & 2 & 34 & 11 &  Male  & No  & Yes & Caucasian &  333\\\\\n",
              "\t2 & 2 & 106.025 & 6645 & 483 & 3 & 82 & 15 & Female & Yes & Yes & Asian     &  903\\\\\n",
              "\t3 & 3 & 104.593 & 7075 & 514 & 4 & 71 & 11 &  Male  & No  & No  & Asian     &  580\\\\\n",
              "\t4 & 4 & 148.924 & 9504 & 681 & 3 & 36 & 11 & Female & No  & No  & Asian     &  964\\\\\n",
              "\t5 & 5 &  55.882 & 4897 & 357 & 2 & 68 & 16 &  Male  & No  & Yes & Caucasian &  331\\\\\n",
              "\t6 & 6 &  80.180 & 8047 & 569 & 4 & 77 & 10 &  Male  & No  & No  & Caucasian & 1151\\\\\n",
              "\\end{tabular}\n"
            ],
            "text/markdown": [
              "\n",
              "A data.frame: 6 x 12\n",
              "\n",
              "| <!--/--> | ID &lt;int&gt; | Income &lt;dbl&gt; | Limit &lt;int&gt; | Rating &lt;int&gt; | Cards &lt;int&gt; | Age &lt;int&gt; | Education &lt;int&gt; | Gender &lt;fct&gt; | Student &lt;fct&gt; | Married &lt;fct&gt; | Ethnicity &lt;fct&gt; | Balance &lt;int&gt; |\n",
              "|---|---|---|---|---|---|---|---|---|---|---|---|---|\n",
              "| 1 | 1 |  14.891 | 3606 | 283 | 2 | 34 | 11 |  Male  | No  | Yes | Caucasian |  333 |\n",
              "| 2 | 2 | 106.025 | 6645 | 483 | 3 | 82 | 15 | Female | Yes | Yes | Asian     |  903 |\n",
              "| 3 | 3 | 104.593 | 7075 | 514 | 4 | 71 | 11 |  Male  | No  | No  | Asian     |  580 |\n",
              "| 4 | 4 | 148.924 | 9504 | 681 | 3 | 36 | 11 | Female | No  | No  | Asian     |  964 |\n",
              "| 5 | 5 |  55.882 | 4897 | 357 | 2 | 68 | 16 |  Male  | No  | Yes | Caucasian |  331 |\n",
              "| 6 | 6 |  80.180 | 8047 | 569 | 4 | 77 | 10 |  Male  | No  | No  | Caucasian | 1151 |\n",
              "\n"
            ],
            "text/plain": [
              "  ID Income  Limit Rating Cards Age Education Gender Student Married Ethnicity\n",
              "1 1   14.891 3606  283    2     34  11         Male  No      Yes     Caucasian\n",
              "2 2  106.025 6645  483    3     82  15        Female Yes     Yes     Asian    \n",
              "3 3  104.593 7075  514    4     71  11         Male  No      No      Asian    \n",
              "4 4  148.924 9504  681    3     36  11        Female No      No      Asian    \n",
              "5 5   55.882 4897  357    2     68  16         Male  No      Yes     Caucasian\n",
              "6 6   80.180 8047  569    4     77  10         Male  No      No      Caucasian\n",
              "  Balance\n",
              "1  333   \n",
              "2  903   \n",
              "3  580   \n",
              "4  964   \n",
              "5  331   \n",
              "6 1151   "
            ]
          },
          "metadata": {},
          "output_type": "display_data"
        }
      ],
      "source": [
        "# INSERT CODE HERE\n",
        "head(Credit)"
      ]
    },
    {
      "cell_type": "markdown",
      "metadata": {
        "id": "3J7noqI4lhuh"
      },
      "source": [
        "We can see that we have a nice **tidy** data frame here. Each column is a separate variable and each row is a different observation (in this case, simulated customers).\n",
        "\n",
        "The code below fits a linear model to predict credit card balance from the card limit and the card owner's credit rating, age, gender, and student status. This model is saved as the `cred_lm` model object. The `summary()` function extracts important summary information from the model object so we can interpret the results."
      ]
    },
    {
      "cell_type": "code",
      "execution_count": null,
      "metadata": {
        "scrolled": false,
        "vscode": {
          "languageId": "r"
        },
        "id": "iu7j8-Nnlhuh",
        "outputId": "b8cda4fc-9602-4284-b74f-fd8bc818c46e"
      },
      "outputs": [
        {
          "data": {
            "text/plain": [
              "\n",
              "Call:\n",
              "lm(formula = Balance ~ Limit + Rating + Age + Gender + Student, \n",
              "    data = Credit)\n",
              "\n",
              "Residuals:\n",
              "    Min      1Q  Median      3Q     Max \n",
              "-682.49 -127.65    3.92  135.17  453.60 \n",
              "\n",
              "Coefficients:\n",
              "               Estimate Std. Error t value Pr(>|t|)    \n",
              "(Intercept)  -292.49382   48.88704  -5.983 4.92e-09 ***\n",
              "Limit           0.05265    0.05392   0.976 0.329428    \n",
              "Rating          1.80924    0.80462   2.249 0.025092 *  \n",
              "Age            -2.12967    0.57212  -3.722 0.000226 ***\n",
              "GenderFemale   -0.34809   19.63579  -0.018 0.985865    \n",
              "StudentYes    397.16094   32.76189  12.123  < 2e-16 ***\n",
              "---\n",
              "Signif. codes:  0 '***' 0.001 '**' 0.01 '*' 0.05 '.' 0.1 ' ' 1\n",
              "\n",
              "Residual standard error: 195.9 on 394 degrees of freedom\n",
              "Multiple R-squared:  0.8207,\tAdjusted R-squared:  0.8184 \n",
              "F-statistic: 360.6 on 5 and 394 DF,  p-value: < 2.2e-16\n"
            ]
          },
          "metadata": {},
          "output_type": "display_data"
        }
      ],
      "source": [
        "cred_lm  <- lm(Balance ~ Limit + Rating + Age + Gender + Student, Credit)\n",
        "summary(cred_lm)"
      ]
    },
    {
      "cell_type": "markdown",
      "metadata": {
        "id": "TCKPe7IAlhuh"
      },
      "source": [
        "## 2. Replicating `summary` outputs (5 pts)\n",
        "\n",
        "Let's see if we can replicate some of the values included in the `summary()` output.\n",
        "\n",
        "Let's start with the residual standard error, aka sigma. We can see above that this is 195.9 for this model. You can directly extract sigma as follows:"
      ]
    },
    {
      "cell_type": "code",
      "execution_count": null,
      "metadata": {
        "vscode": {
          "languageId": "r"
        },
        "id": "6-nBFsM3lhuh",
        "outputId": "1efb2f43-6c3b-4b63-a974-174d27bc4fe2"
      },
      "outputs": [
        {
          "data": {
            "text/html": [
              "195.920637384065"
            ],
            "text/latex": [
              "195.920637384065"
            ],
            "text/markdown": [
              "195.920637384065"
            ],
            "text/plain": [
              "[1] 195.9206"
            ]
          },
          "metadata": {},
          "output_type": "display_data"
        }
      ],
      "source": [
        "sigma(cred_lm)"
      ]
    },
    {
      "cell_type": "markdown",
      "metadata": {
        "id": "9sAUGQtBlhui"
      },
      "source": [
        "In `lm`, sigma is calculated as\n",
        "\n",
        "$$ \\sqrt{\\frac{SSE}{n-p}} $$\n",
        "\n",
        "Where SSE is the sum of squared errors, `n` is the number of observations, and `p` is the number of parameters estimated (hint: this includes the intercept). So the denominator boils down to the degrees of freedom.\n",
        "\n",
        "Below, use what you've learned about extracting information from model objects to calculate the SSE and extract `n` and `p`.\n",
        "\n",
        "Hint: remember that R is really good at *vectorized operations*, meaning it easily applies the same operation individually to each element of a given vector."
      ]
    },
    {
      "cell_type": "code",
      "execution_count": null,
      "metadata": {
        "scrolled": true,
        "vscode": {
          "languageId": "r"
        },
        "id": "GPbx6fXslhui",
        "outputId": "586b23d6-317b-4be4-db33-1a9d1e30b967"
      },
      "outputs": [
        {
          "data": {
            "text/html": [
              "195.920637384065"
            ],
            "text/latex": [
              "195.920637384065"
            ],
            "text/markdown": [
              "195.920637384065"
            ],
            "text/plain": [
              "[1] 195.9206"
            ]
          },
          "metadata": {},
          "output_type": "display_data"
        }
      ],
      "source": [
        "# INSERT CODE HERE\n",
        "# Calculate SSE\n",
        "sse <- sum((fitted(cred_lm) - cred_lm$model$Balance)^2)\n",
        "# Alternatively we can use sum(cred_lm$residuals^2)\n",
        "\n",
        "# Extract n\n",
        "n <- nrow(cred_lm$model)\n",
        "\n",
        "# Extract p\n",
        "p <- length(cred_lm$coefficients)\n",
        "\n",
        "# Check sigma value\n",
        "sqrt(sse / (n - p))"
      ]
    },
    {
      "cell_type": "markdown",
      "metadata": {
        "id": "AwbABBxBlhui"
      },
      "source": [
        "Now, combine your work above to write a function that takes any fitted linear model and returns the residual standard error. Then test your function on the `cred_lm` model object. Compare your answer to sigma extracted directly from the model object."
      ]
    },
    {
      "cell_type": "code",
      "execution_count": null,
      "metadata": {
        "vscode": {
          "languageId": "r"
        },
        "id": "je65-Gz9lhui"
      },
      "outputs": [],
      "source": [
        "# INSERT CODE HERE\n",
        "my_sigma <- function(cred_lm) {\n",
        "    # Calculate SSE\n",
        "    sse <- sum((fitted(cred_lm) - cred_lm$model$Balance)^2)\n",
        "    # Alternatively we can use sum(cred_lm$residuals^2)\n",
        "\n",
        "    # Extract n\n",
        "    n <- nrow(cred_lm$model)\n",
        "\n",
        "    # Extract p\n",
        "    p <- length(cred_lm$coefficients)\n",
        "\n",
        "    # Return sigma value\n",
        "    return(sqrt(sse / (n - p)))\n",
        "}\n"
      ]
    },
    {
      "cell_type": "code",
      "execution_count": null,
      "metadata": {
        "vscode": {
          "languageId": "r"
        },
        "id": "u7Wm7ZGqlhui",
        "outputId": "5f41e002-cf52-4a99-bb5e-e8b1497c159c"
      },
      "outputs": [
        {
          "data": {
            "text/html": [
              "195.920637384065"
            ],
            "text/latex": [
              "195.920637384065"
            ],
            "text/markdown": [
              "195.920637384065"
            ],
            "text/plain": [
              "[1] 195.9206"
            ]
          },
          "metadata": {},
          "output_type": "display_data"
        },
        {
          "data": {
            "text/html": [
              "195.920637384065"
            ],
            "text/latex": [
              "195.920637384065"
            ],
            "text/markdown": [
              "195.920637384065"
            ],
            "text/plain": [
              "[1] 195.9206"
            ]
          },
          "metadata": {},
          "output_type": "display_data"
        }
      ],
      "source": [
        "# Test and compare results.\n",
        "\n",
        "my_sigma(cred_lm) #Replace with your own function name\n",
        "\n",
        "sigma(cred_lm)"
      ]
    },
    {
      "cell_type": "markdown",
      "metadata": {
        "id": "AX4B1CxyZXqX"
      },
      "source": [
        "---\n",
        "## 2. Summary table and indexing (4 pts)\n",
        "\n",
        "Let's say we wanted to extract the entire coefficient table provided to us by the `summary()` function above, maybe for use in a publication. You might expect this to be pulled by:"
      ]
    },
    {
      "cell_type": "code",
      "execution_count": null,
      "metadata": {
        "vscode": {
          "languageId": "r"
        },
        "id": "HBk9c1TAlhuj"
      },
      "outputs": [],
      "source": [
        "cred_lm$coefficients"
      ]
    },
    {
      "cell_type": "markdown",
      "metadata": {
        "id": "TrYkhwqjlhuj"
      },
      "source": [
        "But as we saw in the tutorial, this pulls just the variable name and estimate, and not the standard error, t-statistic, or p-value. You could try to find where all this information is stored in the `cred_lm` object using the `str()` function."
      ]
    },
    {
      "cell_type": "code",
      "execution_count": null,
      "metadata": {
        "vscode": {
          "languageId": "r"
        },
        "id": "tS985UzRlhuj"
      },
      "outputs": [],
      "source": [
        "str(cred_lm)"
      ]
    },
    {
      "cell_type": "markdown",
      "metadata": {
        "id": "iYdnDfGDlhuj"
      },
      "source": [
        "But you actually won't find it in there! That's because the information in the coefficient table is a component of `summary()`, not a component of the model object itself. That's right, `summary()` creates it's own object that you can further pull information from.\n",
        "\n",
        "Knowing this, pull the coefficient table from the `summary()` object."
      ]
    },
    {
      "cell_type": "code",
      "execution_count": null,
      "metadata": {
        "vscode": {
          "languageId": "r"
        },
        "id": "raZBepsFlhuj",
        "outputId": "fce14872-0b71-4a01-9a7b-5a8f86d4385e"
      },
      "outputs": [
        {
          "data": {
            "text/html": [
              "<table class=\"dataframe\">\n",
              "<caption>A matrix: 6 x 4 of type dbl</caption>\n",
              "<thead>\n",
              "\t<tr><th></th><th scope=col>Estimate</th><th scope=col>Std. Error</th><th scope=col>t value</th><th scope=col>Pr(&gt;|t|)</th></tr>\n",
              "</thead>\n",
              "<tbody>\n",
              "\t<tr><th scope=row>(Intercept)</th><td>-292.49382335</td><td>48.88704367</td><td>-5.98305402</td><td>4.922383e-09</td></tr>\n",
              "\t<tr><th scope=row>Limit</th><td>   0.05265499</td><td> 0.05392354</td><td> 0.97647505</td><td>3.294283e-01</td></tr>\n",
              "\t<tr><th scope=row>Rating</th><td>   1.80924401</td><td> 0.80462003</td><td> 2.24856944</td><td>2.509189e-02</td></tr>\n",
              "\t<tr><th scope=row>Age</th><td>  -2.12966556</td><td> 0.57211502</td><td>-3.72244305</td><td>2.260330e-04</td></tr>\n",
              "\t<tr><th scope=row>GenderFemale</th><td>  -0.34809093</td><td>19.63578922</td><td>-0.01772737</td><td>9.858653e-01</td></tr>\n",
              "\t<tr><th scope=row>StudentYes</th><td> 397.16093911</td><td>32.76189104</td><td>12.12265002</td><td>5.800207e-29</td></tr>\n",
              "</tbody>\n",
              "</table>\n"
            ],
            "text/latex": [
              "A matrix: 6 x 4 of type dbl\n",
              "\\begin{tabular}{r|llll}\n",
              "  & Estimate & Std. Error & t value & Pr(>\\textbar{}t\\textbar{})\\\\\n",
              "\\hline\n",
              "\t(Intercept) & -292.49382335 & 48.88704367 & -5.98305402 & 4.922383e-09\\\\\n",
              "\tLimit &    0.05265499 &  0.05392354 &  0.97647505 & 3.294283e-01\\\\\n",
              "\tRating &    1.80924401 &  0.80462003 &  2.24856944 & 2.509189e-02\\\\\n",
              "\tAge &   -2.12966556 &  0.57211502 & -3.72244305 & 2.260330e-04\\\\\n",
              "\tGenderFemale &   -0.34809093 & 19.63578922 & -0.01772737 & 9.858653e-01\\\\\n",
              "\tStudentYes &  397.16093911 & 32.76189104 & 12.12265002 & 5.800207e-29\\\\\n",
              "\\end{tabular}\n"
            ],
            "text/markdown": [
              "\n",
              "A matrix: 6 x 4 of type dbl\n",
              "\n",
              "| <!--/--> | Estimate | Std. Error | t value | Pr(&gt;|t|) |\n",
              "|---|---|---|---|---|\n",
              "| (Intercept) | -292.49382335 | 48.88704367 | -5.98305402 | 4.922383e-09 |\n",
              "| Limit |    0.05265499 |  0.05392354 |  0.97647505 | 3.294283e-01 |\n",
              "| Rating |    1.80924401 |  0.80462003 |  2.24856944 | 2.509189e-02 |\n",
              "| Age |   -2.12966556 |  0.57211502 | -3.72244305 | 2.260330e-04 |\n",
              "| GenderFemale |   -0.34809093 | 19.63578922 | -0.01772737 | 9.858653e-01 |\n",
              "| StudentYes |  397.16093911 | 32.76189104 | 12.12265002 | 5.800207e-29 |\n",
              "\n"
            ],
            "text/plain": [
              "             Estimate      Std. Error  t value     Pr(>|t|)    \n",
              "(Intercept)  -292.49382335 48.88704367 -5.98305402 4.922383e-09\n",
              "Limit           0.05265499  0.05392354  0.97647505 3.294283e-01\n",
              "Rating          1.80924401  0.80462003  2.24856944 2.509189e-02\n",
              "Age            -2.12966556  0.57211502 -3.72244305 2.260330e-04\n",
              "GenderFemale   -0.34809093 19.63578922 -0.01772737 9.858653e-01\n",
              "StudentYes    397.16093911 32.76189104 12.12265002 5.800207e-29"
            ]
          },
          "metadata": {},
          "output_type": "display_data"
        }
      ],
      "source": [
        "# INSERT CODE HERE\n",
        "summary(cred_lm)$coefficients"
      ]
    },
    {
      "cell_type": "markdown",
      "metadata": {
        "id": "gTHP3UYvlhuj"
      },
      "source": [
        "Maybe we are not interested in including the t-statistic in our final table. Pull **just** the estimate, SE, and p-value from the `summary()` object."
      ]
    },
    {
      "cell_type": "code",
      "execution_count": null,
      "metadata": {
        "vscode": {
          "languageId": "r"
        },
        "id": "5hdFJimElhuj",
        "outputId": "8ed5216e-5a79-4b0e-c20b-22ba5159da1a"
      },
      "outputs": [
        {
          "data": {
            "text/html": [
              "<table class=\"dataframe\">\n",
              "<caption>A matrix: 6 x 3 of type dbl</caption>\n",
              "<thead>\n",
              "\t<tr><th></th><th scope=col>Estimate</th><th scope=col>Std. Error</th><th scope=col>Pr(&gt;|t|)</th></tr>\n",
              "</thead>\n",
              "<tbody>\n",
              "\t<tr><th scope=row>(Intercept)</th><td>-292.49382335</td><td>48.88704367</td><td>4.922383e-09</td></tr>\n",
              "\t<tr><th scope=row>Limit</th><td>   0.05265499</td><td> 0.05392354</td><td>3.294283e-01</td></tr>\n",
              "\t<tr><th scope=row>Rating</th><td>   1.80924401</td><td> 0.80462003</td><td>2.509189e-02</td></tr>\n",
              "\t<tr><th scope=row>Age</th><td>  -2.12966556</td><td> 0.57211502</td><td>2.260330e-04</td></tr>\n",
              "\t<tr><th scope=row>GenderFemale</th><td>  -0.34809093</td><td>19.63578922</td><td>9.858653e-01</td></tr>\n",
              "\t<tr><th scope=row>StudentYes</th><td> 397.16093911</td><td>32.76189104</td><td>5.800207e-29</td></tr>\n",
              "</tbody>\n",
              "</table>\n"
            ],
            "text/latex": [
              "A matrix: 6 x 3 of type dbl\n",
              "\\begin{tabular}{r|lll}\n",
              "  & Estimate & Std. Error & Pr(>\\textbar{}t\\textbar{})\\\\\n",
              "\\hline\n",
              "\t(Intercept) & -292.49382335 & 48.88704367 & 4.922383e-09\\\\\n",
              "\tLimit &    0.05265499 &  0.05392354 & 3.294283e-01\\\\\n",
              "\tRating &    1.80924401 &  0.80462003 & 2.509189e-02\\\\\n",
              "\tAge &   -2.12966556 &  0.57211502 & 2.260330e-04\\\\\n",
              "\tGenderFemale &   -0.34809093 & 19.63578922 & 9.858653e-01\\\\\n",
              "\tStudentYes &  397.16093911 & 32.76189104 & 5.800207e-29\\\\\n",
              "\\end{tabular}\n"
            ],
            "text/markdown": [
              "\n",
              "A matrix: 6 x 3 of type dbl\n",
              "\n",
              "| <!--/--> | Estimate | Std. Error | Pr(&gt;|t|) |\n",
              "|---|---|---|---|\n",
              "| (Intercept) | -292.49382335 | 48.88704367 | 4.922383e-09 |\n",
              "| Limit |    0.05265499 |  0.05392354 | 3.294283e-01 |\n",
              "| Rating |    1.80924401 |  0.80462003 | 2.509189e-02 |\n",
              "| Age |   -2.12966556 |  0.57211502 | 2.260330e-04 |\n",
              "| GenderFemale |   -0.34809093 | 19.63578922 | 9.858653e-01 |\n",
              "| StudentYes |  397.16093911 | 32.76189104 | 5.800207e-29 |\n",
              "\n"
            ],
            "text/plain": [
              "             Estimate      Std. Error  Pr(>|t|)    \n",
              "(Intercept)  -292.49382335 48.88704367 4.922383e-09\n",
              "Limit           0.05265499  0.05392354 3.294283e-01\n",
              "Rating          1.80924401  0.80462003 2.509189e-02\n",
              "Age            -2.12966556  0.57211502 2.260330e-04\n",
              "GenderFemale   -0.34809093 19.63578922 9.858653e-01\n",
              "StudentYes    397.16093911 32.76189104 5.800207e-29"
            ]
          },
          "metadata": {},
          "output_type": "display_data"
        }
      ],
      "source": [
        "# INSERT CODE HERE\n",
        "summary(cred_lm)$coefficients[,\n",
        "    c(\"Estimate\", \"Std. Error\", \"Pr(>|t|)\")]\n"
      ]
    },
    {
      "cell_type": "markdown",
      "metadata": {
        "id": "SS6tT9_Tlhuk"
      },
      "source": [
        "Now, pull the table again but drop the `(Intercept)` term. (Don't save and alter your table above -- practice pulling the same table, minus the intercept term, directly from the summary.)"
      ]
    },
    {
      "cell_type": "code",
      "execution_count": null,
      "metadata": {
        "vscode": {
          "languageId": "r"
        },
        "id": "mFQS91KUlhuk",
        "outputId": "edbc2cb7-f83b-484c-93cf-8ae6f0509124"
      },
      "outputs": [
        {
          "data": {
            "text/html": [
              "<table class=\"dataframe\">\n",
              "<caption>A matrix: 5 x 3 of type dbl</caption>\n",
              "<thead>\n",
              "\t<tr><th></th><th scope=col>Estimate</th><th scope=col>Std. Error</th><th scope=col>Pr(&gt;|t|)</th></tr>\n",
              "</thead>\n",
              "<tbody>\n",
              "\t<tr><th scope=row>Limit</th><td>  0.05265499</td><td> 0.05392354</td><td>3.294283e-01</td></tr>\n",
              "\t<tr><th scope=row>Rating</th><td>  1.80924401</td><td> 0.80462003</td><td>2.509189e-02</td></tr>\n",
              "\t<tr><th scope=row>Age</th><td> -2.12966556</td><td> 0.57211502</td><td>2.260330e-04</td></tr>\n",
              "\t<tr><th scope=row>GenderFemale</th><td> -0.34809093</td><td>19.63578922</td><td>9.858653e-01</td></tr>\n",
              "\t<tr><th scope=row>StudentYes</th><td>397.16093911</td><td>32.76189104</td><td>5.800207e-29</td></tr>\n",
              "</tbody>\n",
              "</table>\n"
            ],
            "text/latex": [
              "A matrix: 5 x 3 of type dbl\n",
              "\\begin{tabular}{r|lll}\n",
              "  & Estimate & Std. Error & Pr(>\\textbar{}t\\textbar{})\\\\\n",
              "\\hline\n",
              "\tLimit &   0.05265499 &  0.05392354 & 3.294283e-01\\\\\n",
              "\tRating &   1.80924401 &  0.80462003 & 2.509189e-02\\\\\n",
              "\tAge &  -2.12966556 &  0.57211502 & 2.260330e-04\\\\\n",
              "\tGenderFemale &  -0.34809093 & 19.63578922 & 9.858653e-01\\\\\n",
              "\tStudentYes & 397.16093911 & 32.76189104 & 5.800207e-29\\\\\n",
              "\\end{tabular}\n"
            ],
            "text/markdown": [
              "\n",
              "A matrix: 5 x 3 of type dbl\n",
              "\n",
              "| <!--/--> | Estimate | Std. Error | Pr(&gt;|t|) |\n",
              "|---|---|---|---|\n",
              "| Limit |   0.05265499 |  0.05392354 | 3.294283e-01 |\n",
              "| Rating |   1.80924401 |  0.80462003 | 2.509189e-02 |\n",
              "| Age |  -2.12966556 |  0.57211502 | 2.260330e-04 |\n",
              "| GenderFemale |  -0.34809093 | 19.63578922 | 9.858653e-01 |\n",
              "| StudentYes | 397.16093911 | 32.76189104 | 5.800207e-29 |\n",
              "\n"
            ],
            "text/plain": [
              "             Estimate     Std. Error  Pr(>|t|)    \n",
              "Limit          0.05265499  0.05392354 3.294283e-01\n",
              "Rating         1.80924401  0.80462003 2.509189e-02\n",
              "Age           -2.12966556  0.57211502 2.260330e-04\n",
              "GenderFemale  -0.34809093 19.63578922 9.858653e-01\n",
              "StudentYes   397.16093911 32.76189104 5.800207e-29"
            ]
          },
          "metadata": {},
          "output_type": "display_data"
        }
      ],
      "source": [
        "# INSERT CODE HERE\n",
        "summary(cred_lm)$coefficients[\n",
        "    -1, # The first row is the (Intercept)(Using rownames() is too lengthy)\n",
        "    -3, # Alternatively, c(\"Estimate\", \"Std. Error\", \"Pr(>|t|)\")\n",
        "\n",
        "]"
      ]
    },
    {
      "cell_type": "markdown",
      "metadata": {
        "id": "2slWzsoYGuLt"
      },
      "source": [
        "That's all for Exercise 3! When you are finished, save the notebook as Exercise3.ipynb, push it to your class GitHub repository and send the instructors a link to your notebook via Canvas. You can send messages via Canvas by clicking \"Inbox\" on the left and then pressing the icon with a pencil inside a square."
      ]
    },
    {
      "cell_type": "markdown",
      "metadata": {
        "id": "C4MPECMmZXqe"
      },
      "source": [
        "**DUE:** 5pm EST, Feb 5, 2025"
      ]
    },
    {
      "cell_type": "markdown",
      "metadata": {
        "id": "r9GUofXN4BVy"
      },
      "source": [
        "**IMPORTANT** Did you collaborate with anyone on this assignment? If so, list their names here.\n",
        "> *Someone's Name*"
      ]
    }
  ],
  "metadata": {
    "colab": {
      "provenance": [],
      "toc_visible": true
    },
    "kernelspec": {
      "display_name": "R",
      "language": "R",
      "name": "ir"
    },
    "language_info": {
      "codemirror_mode": "r",
      "file_extension": ".r",
      "mimetype": "text/x-r-source",
      "name": "R",
      "pygments_lexer": "r",
      "version": "4.4.2"
    }
  },
  "nbformat": 4,
  "nbformat_minor": 0
}