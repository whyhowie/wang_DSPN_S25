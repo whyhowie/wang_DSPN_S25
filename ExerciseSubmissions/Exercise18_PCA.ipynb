{
 "cells": [
  {
   "cell_type": "markdown",
   "metadata": {
    "id": "X0-Q9NYTBujb"
   },
   "source": [
    "# Exercise 18: Principal component methods\n",
    "\n",
    "This homework assignment is designed to give you an intuition on principal component approaches to understanding high dimensional statistical relationships.\n",
    "\n",
    "Like earlier homework, you will need to download the **unrestricted_trimmed_1_7_2020_10_50_44.csv** file from the *Homework/hcp_data* folder in the class GitHub repository. \n",
    "\n",
    "This data is a portion of the [Human Connectome Project database](http://www.humanconnectomeproject.org/). It provides measures of cognitive tasks and brain morphology measuresments from 1206 participants. The full description of each variable is provided in the **HCP_S1200_DataDictionary_April_20_2018.csv** file in the *Homework/hcp_data* folder in the class GitHub repository."
   ]
  },
  {
   "cell_type": "markdown",
   "metadata": {
    "id": "bODln6rvBujd"
   },
   "source": [
    "---\n",
    "## 1. Loading data (1 point)"
   ]
  },
  {
   "cell_type": "markdown",
   "metadata": {
    "id": "sezRLzgHBuje"
   },
   "source": [
    "We are going to look for low dimensional relationships between brain volume measures and working memory capacity.\n",
    "\n",
    "First, we will need to load the `pls`, `tidyverse`, and `ggplot2` libraries for this assignment. \n"
   ]
  },
  {
   "cell_type": "code",
   "execution_count": 2,
   "metadata": {
    "id": "LVJwea2rBujf",
    "vscode": {
     "languageId": "r"
    }
   },
   "outputs": [],
   "source": [
    "# WRITE YOUR CODE HERE\n",
    "# install.packages(\"pls\") # Uncomment if not installed\n",
    "require(pls)\n",
    "require(tidyverse)"
   ]
  },
  {
   "cell_type": "markdown",
   "metadata": {
    "id": "mXwMchX7Bujf"
   },
   "source": [
    "Use `read.csv` function to load data from the **unrestricted_trimmed_1_7_2020_10_50_44.csv** file in the **hcp_data** folder. \n",
    "\n",
    "(a) Using the tidyverse tools, make a new dataframe `d1` that only includes the Flanker Task performance (`Flanker_Unadj`) and *all* freesurfer **volume** measures for the right and left hemispheres together. Remove both \"na's\" and any columns that consist of only zeros.\n",
    "\n",
    "Hint: Look up using the `ends_with` function to only select variables that end with \"_Vol\"\n",
    "\n",
    "Use the `head` function to look at the first few rows of each data frame. "
   ]
  },
  {
   "cell_type": "code",
   "execution_count": 14,
   "metadata": {
    "id": "BeK03Sx7Bujg",
    "vscode": {
     "languageId": "r"
    }
   },
   "outputs": [
    {
     "data": {
      "text/html": [
       "<table class=\"dataframe\">\n",
       "<caption>A data.frame: 6 × 53</caption>\n",
       "<thead>\n",
       "\t<tr><th></th><th scope=col>Flanker_Unadj</th><th scope=col>FS_IntraCranial_Vol</th><th scope=col>FS_BrainSeg_Vol</th><th scope=col>FS_LCort_GM_Vol</th><th scope=col>FS_RCort_GM_Vol</th><th scope=col>FS_TotCort_GM_Vol</th><th scope=col>FS_SubCort_GM_Vol</th><th scope=col>FS_Total_GM_Vol</th><th scope=col>FS_SupraTentorial_Vol</th><th scope=col>FS_L_WM_Vol</th><th scope=col>⋯</th><th scope=col>FS_R_Vessel_Vol</th><th scope=col>FS_R_ChoroidPlexus_Vol</th><th scope=col>FS_5thVent_Vol</th><th scope=col>FS_WM_Hypointens_Vol</th><th scope=col>FS_OpticChiasm_Vol</th><th scope=col>FS_CC_Posterior_Vol</th><th scope=col>FS_CC_MidPosterior_Vol</th><th scope=col>FS_CC_Central_Vol</th><th scope=col>FS_CC_MidAnterior_Vol</th><th scope=col>FS_CC_Anterior_Vol</th></tr>\n",
       "\t<tr><th></th><th scope=col>&lt;dbl&gt;</th><th scope=col>&lt;dbl&gt;</th><th scope=col>&lt;int&gt;</th><th scope=col>&lt;int&gt;</th><th scope=col>&lt;int&gt;</th><th scope=col>&lt;int&gt;</th><th scope=col>&lt;int&gt;</th><th scope=col>&lt;int&gt;</th><th scope=col>&lt;int&gt;</th><th scope=col>&lt;int&gt;</th><th scope=col>⋯</th><th scope=col>&lt;int&gt;</th><th scope=col>&lt;int&gt;</th><th scope=col>&lt;int&gt;</th><th scope=col>&lt;int&gt;</th><th scope=col>&lt;int&gt;</th><th scope=col>&lt;int&gt;</th><th scope=col>&lt;int&gt;</th><th scope=col>&lt;int&gt;</th><th scope=col>&lt;int&gt;</th><th scope=col>&lt;int&gt;</th></tr>\n",
       "</thead>\n",
       "<tbody>\n",
       "\t<tr><th scope=row>1</th><td>130.42</td><td>1864518</td><td>1406924</td><td>304488</td><td>305634</td><td>610122</td><td>70240</td><td>807245</td><td>1239692</td><td>269963</td><td>⋯</td><td>80</td><td>1613</td><td> 0</td><td>1269</td><td>325</td><td> 800</td><td>409</td><td>569</td><td>522</td><td> 813</td></tr>\n",
       "\t<tr><th scope=row>2</th><td>112.56</td><td>1512540</td><td>1109710</td><td>240030</td><td>243207</td><td>483238</td><td>56623</td><td>664124</td><td> 957615</td><td>203472</td><td>⋯</td><td>70</td><td>1007</td><td> 0</td><td>1155</td><td>195</td><td>1029</td><td>526</td><td>578</td><td>576</td><td> 649</td></tr>\n",
       "\t<tr><th scope=row>3</th><td>121.18</td><td>1684117</td><td>1280171</td><td>260695</td><td>265243</td><td>525938</td><td>63869</td><td>726206</td><td>1106881</td><td>247504</td><td>⋯</td><td>88</td><td>1303</td><td> 0</td><td>1279</td><td>302</td><td> 972</td><td>589</td><td>528</td><td>471</td><td> 858</td></tr>\n",
       "\t<tr><th scope=row>4</th><td>126.53</td><td>1816044</td><td>1321362</td><td>276506</td><td>278002</td><td>554508</td><td>74869</td><td>762308</td><td>1155067</td><td>254742</td><td>⋯</td><td>81</td><td> 909</td><td> 0</td><td>1154</td><td>296</td><td>1065</td><td>618</td><td>838</td><td>729</td><td>1072</td></tr>\n",
       "\t<tr><th scope=row>5</th><td>101.85</td><td>1437868</td><td>1053766</td><td>203718</td><td>210539</td><td>414257</td><td>58813</td><td>579632</td><td> 916973</td><td>213012</td><td>⋯</td><td>75</td><td>1215</td><td> 3</td><td> 377</td><td>235</td><td>1057</td><td>591</td><td>538</td><td>430</td><td> 849</td></tr>\n",
       "\t<tr><th scope=row>6</th><td>107.04</td><td>1512727</td><td>1126655</td><td>242489</td><td>248807</td><td>491296</td><td>62092</td><td>665024</td><td> 984952</td><td>205342</td><td>⋯</td><td>93</td><td>1331</td><td>17</td><td> 554</td><td>258</td><td>1033</td><td>494</td><td>487</td><td>489</td><td> 992</td></tr>\n",
       "</tbody>\n",
       "</table>\n"
      ],
      "text/latex": [
       "A data.frame: 6 × 53\n",
       "\\begin{tabular}{r|lllllllllllllllllllll}\n",
       "  & Flanker\\_Unadj & FS\\_IntraCranial\\_Vol & FS\\_BrainSeg\\_Vol & FS\\_LCort\\_GM\\_Vol & FS\\_RCort\\_GM\\_Vol & FS\\_TotCort\\_GM\\_Vol & FS\\_SubCort\\_GM\\_Vol & FS\\_Total\\_GM\\_Vol & FS\\_SupraTentorial\\_Vol & FS\\_L\\_WM\\_Vol & ⋯ & FS\\_R\\_Vessel\\_Vol & FS\\_R\\_ChoroidPlexus\\_Vol & FS\\_5thVent\\_Vol & FS\\_WM\\_Hypointens\\_Vol & FS\\_OpticChiasm\\_Vol & FS\\_CC\\_Posterior\\_Vol & FS\\_CC\\_MidPosterior\\_Vol & FS\\_CC\\_Central\\_Vol & FS\\_CC\\_MidAnterior\\_Vol & FS\\_CC\\_Anterior\\_Vol\\\\\n",
       "  & <dbl> & <dbl> & <int> & <int> & <int> & <int> & <int> & <int> & <int> & <int> & ⋯ & <int> & <int> & <int> & <int> & <int> & <int> & <int> & <int> & <int> & <int>\\\\\n",
       "\\hline\n",
       "\t1 & 130.42 & 1864518 & 1406924 & 304488 & 305634 & 610122 & 70240 & 807245 & 1239692 & 269963 & ⋯ & 80 & 1613 &  0 & 1269 & 325 &  800 & 409 & 569 & 522 &  813\\\\\n",
       "\t2 & 112.56 & 1512540 & 1109710 & 240030 & 243207 & 483238 & 56623 & 664124 &  957615 & 203472 & ⋯ & 70 & 1007 &  0 & 1155 & 195 & 1029 & 526 & 578 & 576 &  649\\\\\n",
       "\t3 & 121.18 & 1684117 & 1280171 & 260695 & 265243 & 525938 & 63869 & 726206 & 1106881 & 247504 & ⋯ & 88 & 1303 &  0 & 1279 & 302 &  972 & 589 & 528 & 471 &  858\\\\\n",
       "\t4 & 126.53 & 1816044 & 1321362 & 276506 & 278002 & 554508 & 74869 & 762308 & 1155067 & 254742 & ⋯ & 81 &  909 &  0 & 1154 & 296 & 1065 & 618 & 838 & 729 & 1072\\\\\n",
       "\t5 & 101.85 & 1437868 & 1053766 & 203718 & 210539 & 414257 & 58813 & 579632 &  916973 & 213012 & ⋯ & 75 & 1215 &  3 &  377 & 235 & 1057 & 591 & 538 & 430 &  849\\\\\n",
       "\t6 & 107.04 & 1512727 & 1126655 & 242489 & 248807 & 491296 & 62092 & 665024 &  984952 & 205342 & ⋯ & 93 & 1331 & 17 &  554 & 258 & 1033 & 494 & 487 & 489 &  992\\\\\n",
       "\\end{tabular}\n"
      ],
      "text/markdown": [
       "\n",
       "A data.frame: 6 × 53\n",
       "\n",
       "| <!--/--> | Flanker_Unadj &lt;dbl&gt; | FS_IntraCranial_Vol &lt;dbl&gt; | FS_BrainSeg_Vol &lt;int&gt; | FS_LCort_GM_Vol &lt;int&gt; | FS_RCort_GM_Vol &lt;int&gt; | FS_TotCort_GM_Vol &lt;int&gt; | FS_SubCort_GM_Vol &lt;int&gt; | FS_Total_GM_Vol &lt;int&gt; | FS_SupraTentorial_Vol &lt;int&gt; | FS_L_WM_Vol &lt;int&gt; | ⋯ ⋯ | FS_R_Vessel_Vol &lt;int&gt; | FS_R_ChoroidPlexus_Vol &lt;int&gt; | FS_5thVent_Vol &lt;int&gt; | FS_WM_Hypointens_Vol &lt;int&gt; | FS_OpticChiasm_Vol &lt;int&gt; | FS_CC_Posterior_Vol &lt;int&gt; | FS_CC_MidPosterior_Vol &lt;int&gt; | FS_CC_Central_Vol &lt;int&gt; | FS_CC_MidAnterior_Vol &lt;int&gt; | FS_CC_Anterior_Vol &lt;int&gt; |\n",
       "|---|---|---|---|---|---|---|---|---|---|---|---|---|---|---|---|---|---|---|---|---|---|\n",
       "| 1 | 130.42 | 1864518 | 1406924 | 304488 | 305634 | 610122 | 70240 | 807245 | 1239692 | 269963 | ⋯ | 80 | 1613 |  0 | 1269 | 325 |  800 | 409 | 569 | 522 |  813 |\n",
       "| 2 | 112.56 | 1512540 | 1109710 | 240030 | 243207 | 483238 | 56623 | 664124 |  957615 | 203472 | ⋯ | 70 | 1007 |  0 | 1155 | 195 | 1029 | 526 | 578 | 576 |  649 |\n",
       "| 3 | 121.18 | 1684117 | 1280171 | 260695 | 265243 | 525938 | 63869 | 726206 | 1106881 | 247504 | ⋯ | 88 | 1303 |  0 | 1279 | 302 |  972 | 589 | 528 | 471 |  858 |\n",
       "| 4 | 126.53 | 1816044 | 1321362 | 276506 | 278002 | 554508 | 74869 | 762308 | 1155067 | 254742 | ⋯ | 81 |  909 |  0 | 1154 | 296 | 1065 | 618 | 838 | 729 | 1072 |\n",
       "| 5 | 101.85 | 1437868 | 1053766 | 203718 | 210539 | 414257 | 58813 | 579632 |  916973 | 213012 | ⋯ | 75 | 1215 |  3 |  377 | 235 | 1057 | 591 | 538 | 430 |  849 |\n",
       "| 6 | 107.04 | 1512727 | 1126655 | 242489 | 248807 | 491296 | 62092 | 665024 |  984952 | 205342 | ⋯ | 93 | 1331 | 17 |  554 | 258 | 1033 | 494 | 487 | 489 |  992 |\n",
       "\n"
      ],
      "text/plain": [
       "  Flanker_Unadj FS_IntraCranial_Vol FS_BrainSeg_Vol FS_LCort_GM_Vol\n",
       "1 130.42        1864518             1406924         304488         \n",
       "2 112.56        1512540             1109710         240030         \n",
       "3 121.18        1684117             1280171         260695         \n",
       "4 126.53        1816044             1321362         276506         \n",
       "5 101.85        1437868             1053766         203718         \n",
       "6 107.04        1512727             1126655         242489         \n",
       "  FS_RCort_GM_Vol FS_TotCort_GM_Vol FS_SubCort_GM_Vol FS_Total_GM_Vol\n",
       "1 305634          610122            70240             807245         \n",
       "2 243207          483238            56623             664124         \n",
       "3 265243          525938            63869             726206         \n",
       "4 278002          554508            74869             762308         \n",
       "5 210539          414257            58813             579632         \n",
       "6 248807          491296            62092             665024         \n",
       "  FS_SupraTentorial_Vol FS_L_WM_Vol ⋯ FS_R_Vessel_Vol FS_R_ChoroidPlexus_Vol\n",
       "1 1239692               269963      ⋯ 80              1613                  \n",
       "2  957615               203472      ⋯ 70              1007                  \n",
       "3 1106881               247504      ⋯ 88              1303                  \n",
       "4 1155067               254742      ⋯ 81               909                  \n",
       "5  916973               213012      ⋯ 75              1215                  \n",
       "6  984952               205342      ⋯ 93              1331                  \n",
       "  FS_5thVent_Vol FS_WM_Hypointens_Vol FS_OpticChiasm_Vol FS_CC_Posterior_Vol\n",
       "1  0             1269                 325                 800               \n",
       "2  0             1155                 195                1029               \n",
       "3  0             1279                 302                 972               \n",
       "4  0             1154                 296                1065               \n",
       "5  3              377                 235                1057               \n",
       "6 17              554                 258                1033               \n",
       "  FS_CC_MidPosterior_Vol FS_CC_Central_Vol FS_CC_MidAnterior_Vol\n",
       "1 409                    569               522                  \n",
       "2 526                    578               576                  \n",
       "3 589                    528               471                  \n",
       "4 618                    838               729                  \n",
       "5 591                    538               430                  \n",
       "6 494                    487               489                  \n",
       "  FS_CC_Anterior_Vol\n",
       "1  813              \n",
       "2  649              \n",
       "3  858              \n",
       "4 1072              \n",
       "5  849              \n",
       "6  992              "
      ]
     },
     "metadata": {},
     "output_type": "display_data"
    }
   ],
   "source": [
    "# WRITE YOUR CODE HERE\n",
    "# setwd(\"../Homework datasets/hcp_data\") # Uncomment this when running for the first time\n",
    "data <- read.csv(\"unrestricted_trimmed_1_7_2020_10_50_44.csv\")\n",
    "d1 <- select(data, Flanker_Unadj, ends_with(\"_Vol\")) |> \n",
    "\tdrop_na() |>\n",
    "\tselect(where(~ !all(. == 0))) \n",
    "head(d1)\n"
   ]
  },
  {
   "cell_type": "markdown",
   "metadata": {},
   "source": [
    "---\n",
    "## 2. Correlational structure (4 points)"
   ]
  },
  {
   "cell_type": "markdown",
   "metadata": {},
   "source": [
    "(a) Take a look at the correlation between all of the freesurfer volume measures (\"FS_\") using the `cor` function. Create a new variable called `fs_cor` that is the correlation matrix for only the freesurfer volumes"
   ]
  },
  {
   "cell_type": "code",
   "execution_count": 49,
   "metadata": {
    "vscode": {
     "languageId": "r"
    }
   },
   "outputs": [
    {
     "data": {
      "text/html": [
       "<table class=\"dataframe\">\n",
       "<caption>A matrix: 6 × 52 of type dbl</caption>\n",
       "<thead>\n",
       "\t<tr><th></th><th scope=col>FS_IntraCranial_Vol</th><th scope=col>FS_BrainSeg_Vol</th><th scope=col>FS_LCort_GM_Vol</th><th scope=col>FS_RCort_GM_Vol</th><th scope=col>FS_TotCort_GM_Vol</th><th scope=col>FS_SubCort_GM_Vol</th><th scope=col>FS_Total_GM_Vol</th><th scope=col>FS_SupraTentorial_Vol</th><th scope=col>FS_L_WM_Vol</th><th scope=col>FS_R_WM_Vol</th><th scope=col>⋯</th><th scope=col>FS_R_Vessel_Vol</th><th scope=col>FS_R_ChoroidPlexus_Vol</th><th scope=col>FS_5thVent_Vol</th><th scope=col>FS_WM_Hypointens_Vol</th><th scope=col>FS_OpticChiasm_Vol</th><th scope=col>FS_CC_Posterior_Vol</th><th scope=col>FS_CC_MidPosterior_Vol</th><th scope=col>FS_CC_Central_Vol</th><th scope=col>FS_CC_MidAnterior_Vol</th><th scope=col>FS_CC_Anterior_Vol</th></tr>\n",
       "</thead>\n",
       "<tbody>\n",
       "\t<tr><th scope=row>FS_IntraCranial_Vol</th><td>1.0000000</td><td>0.8977578</td><td>0.8400174</td><td>0.8439151</td><td>0.8452780</td><td>0.7885140</td><td>0.8751297</td><td>0.8851581</td><td>0.8311086</td><td>0.8278063</td><td>⋯</td><td>0.1536332</td><td>0.4286121</td><td>0.08758425</td><td>0.2225826</td><td>0.3309762</td><td>0.3448680</td><td>0.1896089</td><td>0.1973414</td><td>0.2845997</td><td>0.4018212</td></tr>\n",
       "\t<tr><th scope=row>FS_BrainSeg_Vol</th><td>0.8977578</td><td>1.0000000</td><td>0.9448159</td><td>0.9482717</td><td>0.9502618</td><td>0.8689939</td><td>0.9664839</td><td>0.9958421</td><td>0.9502506</td><td>0.9482723</td><td>⋯</td><td>0.2067837</td><td>0.4125810</td><td>0.04979092</td><td>0.3231443</td><td>0.3500672</td><td>0.3767737</td><td>0.2724347</td><td>0.2707686</td><td>0.3534842</td><td>0.4308723</td></tr>\n",
       "\t<tr><th scope=row>FS_LCort_GM_Vol</th><td>0.8400174</td><td>0.9448159</td><td>1.0000000</td><td>0.9844592</td><td>0.9960196</td><td>0.7897863</td><td>0.9821287</td><td>0.9485617</td><td>0.8282356</td><td>0.8220444</td><td>⋯</td><td>0.1700152</td><td>0.3516475</td><td>0.02747529</td><td>0.3272222</td><td>0.2735485</td><td>0.2515157</td><td>0.1961809</td><td>0.2089434</td><td>0.2572979</td><td>0.3140626</td></tr>\n",
       "\t<tr><th scope=row>FS_RCort_GM_Vol</th><td>0.8439151</td><td>0.9482717</td><td>0.9844592</td><td>1.0000000</td><td>0.9961939</td><td>0.7925724</td><td>0.9830322</td><td>0.9518674</td><td>0.8330846</td><td>0.8307516</td><td>⋯</td><td>0.1759543</td><td>0.3441177</td><td>0.03430310</td><td>0.3390336</td><td>0.2834184</td><td>0.2444868</td><td>0.1918267</td><td>0.2118854</td><td>0.2590016</td><td>0.3054070</td></tr>\n",
       "\t<tr><th scope=row>FS_TotCort_GM_Vol</th><td>0.8452780</td><td>0.9502618</td><td>0.9960196</td><td>0.9961939</td><td>1.0000000</td><td>0.7942866</td><td>0.9864250</td><td>0.9539460</td><td>0.8339331</td><td>0.8296759</td><td>⋯</td><td>0.1736941</td><td>0.3491995</td><td>0.03104854</td><td>0.3344959</td><td>0.2796276</td><td>0.2489306</td><td>0.1947377</td><td>0.2112533</td><td>0.2591679</td><td>0.3108966</td></tr>\n",
       "\t<tr><th scope=row>FS_SubCort_GM_Vol</th><td>0.7885140</td><td>0.8689939</td><td>0.7897863</td><td>0.7925724</td><td>0.7942866</td><td>1.0000000</td><td>0.8407289</td><td>0.8591265</td><td>0.8248311</td><td>0.8250502</td><td>⋯</td><td>0.2308144</td><td>0.3810439</td><td>0.02854927</td><td>0.2779295</td><td>0.3280826</td><td>0.3636716</td><td>0.3169406</td><td>0.2701718</td><td>0.3320954</td><td>0.4041212</td></tr>\n",
       "</tbody>\n",
       "</table>\n"
      ],
      "text/latex": [
       "A matrix: 6 × 52 of type dbl\n",
       "\\begin{tabular}{r|lllllllllllllllllllll}\n",
       "  & FS\\_IntraCranial\\_Vol & FS\\_BrainSeg\\_Vol & FS\\_LCort\\_GM\\_Vol & FS\\_RCort\\_GM\\_Vol & FS\\_TotCort\\_GM\\_Vol & FS\\_SubCort\\_GM\\_Vol & FS\\_Total\\_GM\\_Vol & FS\\_SupraTentorial\\_Vol & FS\\_L\\_WM\\_Vol & FS\\_R\\_WM\\_Vol & ⋯ & FS\\_R\\_Vessel\\_Vol & FS\\_R\\_ChoroidPlexus\\_Vol & FS\\_5thVent\\_Vol & FS\\_WM\\_Hypointens\\_Vol & FS\\_OpticChiasm\\_Vol & FS\\_CC\\_Posterior\\_Vol & FS\\_CC\\_MidPosterior\\_Vol & FS\\_CC\\_Central\\_Vol & FS\\_CC\\_MidAnterior\\_Vol & FS\\_CC\\_Anterior\\_Vol\\\\\n",
       "\\hline\n",
       "\tFS\\_IntraCranial\\_Vol & 1.0000000 & 0.8977578 & 0.8400174 & 0.8439151 & 0.8452780 & 0.7885140 & 0.8751297 & 0.8851581 & 0.8311086 & 0.8278063 & ⋯ & 0.1536332 & 0.4286121 & 0.08758425 & 0.2225826 & 0.3309762 & 0.3448680 & 0.1896089 & 0.1973414 & 0.2845997 & 0.4018212\\\\\n",
       "\tFS\\_BrainSeg\\_Vol & 0.8977578 & 1.0000000 & 0.9448159 & 0.9482717 & 0.9502618 & 0.8689939 & 0.9664839 & 0.9958421 & 0.9502506 & 0.9482723 & ⋯ & 0.2067837 & 0.4125810 & 0.04979092 & 0.3231443 & 0.3500672 & 0.3767737 & 0.2724347 & 0.2707686 & 0.3534842 & 0.4308723\\\\\n",
       "\tFS\\_LCort\\_GM\\_Vol & 0.8400174 & 0.9448159 & 1.0000000 & 0.9844592 & 0.9960196 & 0.7897863 & 0.9821287 & 0.9485617 & 0.8282356 & 0.8220444 & ⋯ & 0.1700152 & 0.3516475 & 0.02747529 & 0.3272222 & 0.2735485 & 0.2515157 & 0.1961809 & 0.2089434 & 0.2572979 & 0.3140626\\\\\n",
       "\tFS\\_RCort\\_GM\\_Vol & 0.8439151 & 0.9482717 & 0.9844592 & 1.0000000 & 0.9961939 & 0.7925724 & 0.9830322 & 0.9518674 & 0.8330846 & 0.8307516 & ⋯ & 0.1759543 & 0.3441177 & 0.03430310 & 0.3390336 & 0.2834184 & 0.2444868 & 0.1918267 & 0.2118854 & 0.2590016 & 0.3054070\\\\\n",
       "\tFS\\_TotCort\\_GM\\_Vol & 0.8452780 & 0.9502618 & 0.9960196 & 0.9961939 & 1.0000000 & 0.7942866 & 0.9864250 & 0.9539460 & 0.8339331 & 0.8296759 & ⋯ & 0.1736941 & 0.3491995 & 0.03104854 & 0.3344959 & 0.2796276 & 0.2489306 & 0.1947377 & 0.2112533 & 0.2591679 & 0.3108966\\\\\n",
       "\tFS\\_SubCort\\_GM\\_Vol & 0.7885140 & 0.8689939 & 0.7897863 & 0.7925724 & 0.7942866 & 1.0000000 & 0.8407289 & 0.8591265 & 0.8248311 & 0.8250502 & ⋯ & 0.2308144 & 0.3810439 & 0.02854927 & 0.2779295 & 0.3280826 & 0.3636716 & 0.3169406 & 0.2701718 & 0.3320954 & 0.4041212\\\\\n",
       "\\end{tabular}\n"
      ],
      "text/markdown": [
       "\n",
       "A matrix: 6 × 52 of type dbl\n",
       "\n",
       "| <!--/--> | FS_IntraCranial_Vol | FS_BrainSeg_Vol | FS_LCort_GM_Vol | FS_RCort_GM_Vol | FS_TotCort_GM_Vol | FS_SubCort_GM_Vol | FS_Total_GM_Vol | FS_SupraTentorial_Vol | FS_L_WM_Vol | FS_R_WM_Vol | ⋯ | FS_R_Vessel_Vol | FS_R_ChoroidPlexus_Vol | FS_5thVent_Vol | FS_WM_Hypointens_Vol | FS_OpticChiasm_Vol | FS_CC_Posterior_Vol | FS_CC_MidPosterior_Vol | FS_CC_Central_Vol | FS_CC_MidAnterior_Vol | FS_CC_Anterior_Vol |\n",
       "|---|---|---|---|---|---|---|---|---|---|---|---|---|---|---|---|---|---|---|---|---|---|\n",
       "| FS_IntraCranial_Vol | 1.0000000 | 0.8977578 | 0.8400174 | 0.8439151 | 0.8452780 | 0.7885140 | 0.8751297 | 0.8851581 | 0.8311086 | 0.8278063 | ⋯ | 0.1536332 | 0.4286121 | 0.08758425 | 0.2225826 | 0.3309762 | 0.3448680 | 0.1896089 | 0.1973414 | 0.2845997 | 0.4018212 |\n",
       "| FS_BrainSeg_Vol | 0.8977578 | 1.0000000 | 0.9448159 | 0.9482717 | 0.9502618 | 0.8689939 | 0.9664839 | 0.9958421 | 0.9502506 | 0.9482723 | ⋯ | 0.2067837 | 0.4125810 | 0.04979092 | 0.3231443 | 0.3500672 | 0.3767737 | 0.2724347 | 0.2707686 | 0.3534842 | 0.4308723 |\n",
       "| FS_LCort_GM_Vol | 0.8400174 | 0.9448159 | 1.0000000 | 0.9844592 | 0.9960196 | 0.7897863 | 0.9821287 | 0.9485617 | 0.8282356 | 0.8220444 | ⋯ | 0.1700152 | 0.3516475 | 0.02747529 | 0.3272222 | 0.2735485 | 0.2515157 | 0.1961809 | 0.2089434 | 0.2572979 | 0.3140626 |\n",
       "| FS_RCort_GM_Vol | 0.8439151 | 0.9482717 | 0.9844592 | 1.0000000 | 0.9961939 | 0.7925724 | 0.9830322 | 0.9518674 | 0.8330846 | 0.8307516 | ⋯ | 0.1759543 | 0.3441177 | 0.03430310 | 0.3390336 | 0.2834184 | 0.2444868 | 0.1918267 | 0.2118854 | 0.2590016 | 0.3054070 |\n",
       "| FS_TotCort_GM_Vol | 0.8452780 | 0.9502618 | 0.9960196 | 0.9961939 | 1.0000000 | 0.7942866 | 0.9864250 | 0.9539460 | 0.8339331 | 0.8296759 | ⋯ | 0.1736941 | 0.3491995 | 0.03104854 | 0.3344959 | 0.2796276 | 0.2489306 | 0.1947377 | 0.2112533 | 0.2591679 | 0.3108966 |\n",
       "| FS_SubCort_GM_Vol | 0.7885140 | 0.8689939 | 0.7897863 | 0.7925724 | 0.7942866 | 1.0000000 | 0.8407289 | 0.8591265 | 0.8248311 | 0.8250502 | ⋯ | 0.2308144 | 0.3810439 | 0.02854927 | 0.2779295 | 0.3280826 | 0.3636716 | 0.3169406 | 0.2701718 | 0.3320954 | 0.4041212 |\n",
       "\n"
      ],
      "text/plain": [
       "                    FS_IntraCranial_Vol FS_BrainSeg_Vol FS_LCort_GM_Vol\n",
       "FS_IntraCranial_Vol 1.0000000           0.8977578       0.8400174      \n",
       "FS_BrainSeg_Vol     0.8977578           1.0000000       0.9448159      \n",
       "FS_LCort_GM_Vol     0.8400174           0.9448159       1.0000000      \n",
       "FS_RCort_GM_Vol     0.8439151           0.9482717       0.9844592      \n",
       "FS_TotCort_GM_Vol   0.8452780           0.9502618       0.9960196      \n",
       "FS_SubCort_GM_Vol   0.7885140           0.8689939       0.7897863      \n",
       "                    FS_RCort_GM_Vol FS_TotCort_GM_Vol FS_SubCort_GM_Vol\n",
       "FS_IntraCranial_Vol 0.8439151       0.8452780         0.7885140        \n",
       "FS_BrainSeg_Vol     0.9482717       0.9502618         0.8689939        \n",
       "FS_LCort_GM_Vol     0.9844592       0.9960196         0.7897863        \n",
       "FS_RCort_GM_Vol     1.0000000       0.9961939         0.7925724        \n",
       "FS_TotCort_GM_Vol   0.9961939       1.0000000         0.7942866        \n",
       "FS_SubCort_GM_Vol   0.7925724       0.7942866         1.0000000        \n",
       "                    FS_Total_GM_Vol FS_SupraTentorial_Vol FS_L_WM_Vol\n",
       "FS_IntraCranial_Vol 0.8751297       0.8851581             0.8311086  \n",
       "FS_BrainSeg_Vol     0.9664839       0.9958421             0.9502506  \n",
       "FS_LCort_GM_Vol     0.9821287       0.9485617             0.8282356  \n",
       "FS_RCort_GM_Vol     0.9830322       0.9518674             0.8330846  \n",
       "FS_TotCort_GM_Vol   0.9864250       0.9539460             0.8339331  \n",
       "FS_SubCort_GM_Vol   0.8407289       0.8591265             0.8248311  \n",
       "                    FS_R_WM_Vol ⋯ FS_R_Vessel_Vol FS_R_ChoroidPlexus_Vol\n",
       "FS_IntraCranial_Vol 0.8278063   ⋯ 0.1536332       0.4286121             \n",
       "FS_BrainSeg_Vol     0.9482723   ⋯ 0.2067837       0.4125810             \n",
       "FS_LCort_GM_Vol     0.8220444   ⋯ 0.1700152       0.3516475             \n",
       "FS_RCort_GM_Vol     0.8307516   ⋯ 0.1759543       0.3441177             \n",
       "FS_TotCort_GM_Vol   0.8296759   ⋯ 0.1736941       0.3491995             \n",
       "FS_SubCort_GM_Vol   0.8250502   ⋯ 0.2308144       0.3810439             \n",
       "                    FS_5thVent_Vol FS_WM_Hypointens_Vol FS_OpticChiasm_Vol\n",
       "FS_IntraCranial_Vol 0.08758425     0.2225826            0.3309762         \n",
       "FS_BrainSeg_Vol     0.04979092     0.3231443            0.3500672         \n",
       "FS_LCort_GM_Vol     0.02747529     0.3272222            0.2735485         \n",
       "FS_RCort_GM_Vol     0.03430310     0.3390336            0.2834184         \n",
       "FS_TotCort_GM_Vol   0.03104854     0.3344959            0.2796276         \n",
       "FS_SubCort_GM_Vol   0.02854927     0.2779295            0.3280826         \n",
       "                    FS_CC_Posterior_Vol FS_CC_MidPosterior_Vol\n",
       "FS_IntraCranial_Vol 0.3448680           0.1896089             \n",
       "FS_BrainSeg_Vol     0.3767737           0.2724347             \n",
       "FS_LCort_GM_Vol     0.2515157           0.1961809             \n",
       "FS_RCort_GM_Vol     0.2444868           0.1918267             \n",
       "FS_TotCort_GM_Vol   0.2489306           0.1947377             \n",
       "FS_SubCort_GM_Vol   0.3636716           0.3169406             \n",
       "                    FS_CC_Central_Vol FS_CC_MidAnterior_Vol FS_CC_Anterior_Vol\n",
       "FS_IntraCranial_Vol 0.1973414         0.2845997             0.4018212         \n",
       "FS_BrainSeg_Vol     0.2707686         0.3534842             0.4308723         \n",
       "FS_LCort_GM_Vol     0.2089434         0.2572979             0.3140626         \n",
       "FS_RCort_GM_Vol     0.2118854         0.2590016             0.3054070         \n",
       "FS_TotCort_GM_Vol   0.2112533         0.2591679             0.3108966         \n",
       "FS_SubCort_GM_Vol   0.2701718         0.3320954             0.4041212         "
      ]
     },
     "metadata": {},
     "output_type": "display_data"
    }
   ],
   "source": [
    "# WRITE YOUR CODE HERE\n",
    "fs_d = d1 |> select(starts_with(\"FS_\"))\n",
    "fs_cor <- cor(fs_d)\n",
    "\n",
    "head(fs_cor)"
   ]
  },
  {
   "cell_type": "markdown",
   "metadata": {},
   "source": [
    "(b) Load (and install locally if needed) the `reshape2` library in order to use the `melt` function on the new `fs_cor` object. Use `head` to show the new, melted `fs_cor` object."
   ]
  },
  {
   "cell_type": "code",
   "execution_count": 50,
   "metadata": {
    "vscode": {
     "languageId": "r"
    }
   },
   "outputs": [
    {
     "data": {
      "text/html": [
       "<table class=\"dataframe\">\n",
       "<caption>A data.frame: 6 × 3</caption>\n",
       "<thead>\n",
       "\t<tr><th></th><th scope=col>Var1</th><th scope=col>Var2</th><th scope=col>value</th></tr>\n",
       "\t<tr><th></th><th scope=col>&lt;fct&gt;</th><th scope=col>&lt;fct&gt;</th><th scope=col>&lt;dbl&gt;</th></tr>\n",
       "</thead>\n",
       "<tbody>\n",
       "\t<tr><th scope=row>1</th><td>FS_IntraCranial_Vol</td><td>FS_IntraCranial_Vol</td><td>1.0000000</td></tr>\n",
       "\t<tr><th scope=row>2</th><td>FS_BrainSeg_Vol    </td><td>FS_IntraCranial_Vol</td><td>0.8977578</td></tr>\n",
       "\t<tr><th scope=row>3</th><td>FS_LCort_GM_Vol    </td><td>FS_IntraCranial_Vol</td><td>0.8400174</td></tr>\n",
       "\t<tr><th scope=row>4</th><td>FS_RCort_GM_Vol    </td><td>FS_IntraCranial_Vol</td><td>0.8439151</td></tr>\n",
       "\t<tr><th scope=row>5</th><td>FS_TotCort_GM_Vol  </td><td>FS_IntraCranial_Vol</td><td>0.8452780</td></tr>\n",
       "\t<tr><th scope=row>6</th><td>FS_SubCort_GM_Vol  </td><td>FS_IntraCranial_Vol</td><td>0.7885140</td></tr>\n",
       "</tbody>\n",
       "</table>\n"
      ],
      "text/latex": [
       "A data.frame: 6 × 3\n",
       "\\begin{tabular}{r|lll}\n",
       "  & Var1 & Var2 & value\\\\\n",
       "  & <fct> & <fct> & <dbl>\\\\\n",
       "\\hline\n",
       "\t1 & FS\\_IntraCranial\\_Vol & FS\\_IntraCranial\\_Vol & 1.0000000\\\\\n",
       "\t2 & FS\\_BrainSeg\\_Vol     & FS\\_IntraCranial\\_Vol & 0.8977578\\\\\n",
       "\t3 & FS\\_LCort\\_GM\\_Vol     & FS\\_IntraCranial\\_Vol & 0.8400174\\\\\n",
       "\t4 & FS\\_RCort\\_GM\\_Vol     & FS\\_IntraCranial\\_Vol & 0.8439151\\\\\n",
       "\t5 & FS\\_TotCort\\_GM\\_Vol   & FS\\_IntraCranial\\_Vol & 0.8452780\\\\\n",
       "\t6 & FS\\_SubCort\\_GM\\_Vol   & FS\\_IntraCranial\\_Vol & 0.7885140\\\\\n",
       "\\end{tabular}\n"
      ],
      "text/markdown": [
       "\n",
       "A data.frame: 6 × 3\n",
       "\n",
       "| <!--/--> | Var1 &lt;fct&gt; | Var2 &lt;fct&gt; | value &lt;dbl&gt; |\n",
       "|---|---|---|---|\n",
       "| 1 | FS_IntraCranial_Vol | FS_IntraCranial_Vol | 1.0000000 |\n",
       "| 2 | FS_BrainSeg_Vol     | FS_IntraCranial_Vol | 0.8977578 |\n",
       "| 3 | FS_LCort_GM_Vol     | FS_IntraCranial_Vol | 0.8400174 |\n",
       "| 4 | FS_RCort_GM_Vol     | FS_IntraCranial_Vol | 0.8439151 |\n",
       "| 5 | FS_TotCort_GM_Vol   | FS_IntraCranial_Vol | 0.8452780 |\n",
       "| 6 | FS_SubCort_GM_Vol   | FS_IntraCranial_Vol | 0.7885140 |\n",
       "\n"
      ],
      "text/plain": [
       "  Var1                Var2                value    \n",
       "1 FS_IntraCranial_Vol FS_IntraCranial_Vol 1.0000000\n",
       "2 FS_BrainSeg_Vol     FS_IntraCranial_Vol 0.8977578\n",
       "3 FS_LCort_GM_Vol     FS_IntraCranial_Vol 0.8400174\n",
       "4 FS_RCort_GM_Vol     FS_IntraCranial_Vol 0.8439151\n",
       "5 FS_TotCort_GM_Vol   FS_IntraCranial_Vol 0.8452780\n",
       "6 FS_SubCort_GM_Vol   FS_IntraCranial_Vol 0.7885140"
      ]
     },
     "metadata": {},
     "output_type": "display_data"
    }
   ],
   "source": [
    "# WRITE YOUR CODE HERE\n",
    "# install.packages(\"reshape2\") # Uncomment if not installed\n",
    "library(reshape2)\n",
    "fs_cor <- melt(fs_cor)\n",
    "head(fs_cor)"
   ]
  },
  {
   "cell_type": "markdown",
   "metadata": {},
   "source": [
    "Plot the correlation as a heatmap using `ggplot2`.\n",
    "\n",
    "Hint: use the `scale_fill_gradient2` function to scale the colors between red and blue, capping the values at -1 and +1."
   ]
  },
  {
   "cell_type": "code",
   "execution_count": 51,
   "metadata": {
    "vscode": {
     "languageId": "r"
    }
   },
   "outputs": [
    {
     "data": {
      "image/png": "[encoded data removed]",
      "text/plain": [
       "plot without title"
      ]
     },
     "metadata": {
      "image/png": {
       "height": 420,
       "width": 420
      }
     },
     "output_type": "display_data"
    }
   ],
   "source": [
    "# WRITE YOUR CODE HERE\n",
    "ggplot(fs_cor, aes(x = Var1, y = Var2, fill = value)) +\n",
    "\tgeom_tile() +\n",
    "\tscale_fill_gradient2(\n",
    "\t\tlow = \"blue\", \n",
    "\t\t# mid = \"white\", \n",
    "\t\thigh = \"red\", \n",
    "\t\t# midpoint = 0,\n",
    "\t\tlimits = c(-1, 1)\n",
    "\t) +\n",
    "\tlabs(title = \"Heatmap of Correlations\", x = \"Variable 1\", y = \"Variable 2\") +\n",
    "\ttheme(\n",
    "\t\taxis.text.x = element_text(angle = 90, hjust = 0.5),\n",
    "\t\taxis.text = element_text(size = 6),\n",
    "\t) # rotate x label"
   ]
  },
  {
   "cell_type": "markdown",
   "metadata": {},
   "source": [
    "What patterns do you see in the correlations?"
   ]
  },
  {
   "cell_type": "markdown",
   "metadata": {},
   "source": [
    "> *Write your response here* \n",
    ">  \n",
    "> The heatmap almost looks grid-like. This means that there are clusters of brain regions that have correlated volumes."
   ]
  },
  {
   "cell_type": "markdown",
   "metadata": {
    "id": "zqLPa45zBuji"
   },
   "source": [
    "---\n",
    "## 3. Principal component analysis (3 points)"
   ]
  },
  {
   "cell_type": "markdown",
   "metadata": {
    "id": "HyP55tOade1P"
   },
   "source": [
    "Let's see how many principal components explain at *at least* 95% of the data."
   ]
  },
  {
   "cell_type": "markdown",
   "metadata": {
    "id": "4SvSDGa9Buji"
   },
   "source": [
    "(a) Create a new object called `fs_d.pca` using the `princomp` function (do not forget to scale the data).\n"
   ]
  },
  {
   "cell_type": "code",
   "execution_count": 52,
   "metadata": {
    "vscode": {
     "languageId": "r"
    }
   },
   "outputs": [
    {
     "data": {
      "text/plain": [
       "Importance of components:\n",
       "                          Comp.1     Comp.2     Comp.3    Comp.4     Comp.5\n",
       "Standard deviation     4.8304225 2.07734628 1.65701904 1.4542775 1.30623792\n",
       "Proportion of Variance 0.4487112 0.08298784 0.05280216 0.0406716 0.03281264\n",
       "Cumulative Proportion  0.4487112 0.53169903 0.58450118 0.6251728 0.65798543\n",
       "                           Comp.6    Comp.7    Comp.8     Comp.9    Comp.10\n",
       "Standard deviation     1.16284392 1.1399496 1.0653535 1.04639581 1.01824771\n",
       "Proportion of Variance 0.02600396 0.0249901 0.0218265 0.02105662 0.01993901\n",
       "Cumulative Proportion  0.68398939 0.7089795 0.7308060 0.75186261 0.77180161\n",
       "                          Comp.11   Comp.12    Comp.13    Comp.14    Comp.15\n",
       "Standard deviation     0.96724824 0.9260219 0.90433487 0.86368396 0.80338987\n",
       "Proportion of Variance 0.01799171 0.0164907 0.01572734 0.01434519 0.01241222\n",
       "Cumulative Proportion  0.78979333 0.8062840 0.82201137 0.83635656 0.84876878\n",
       "                          Comp.16    Comp.17    Comp.18    Comp.19     Comp.20\n",
       "Standard deviation     0.79004501 0.76513483 0.74690576 0.73290543 0.716373062\n",
       "Proportion of Variance 0.01200329 0.01125829 0.01072823 0.01032981 0.009869045\n",
       "Cumulative Proportion  0.86077207 0.87203037 0.88275860 0.89308841 0.902957460\n",
       "                           Comp.21     Comp.22    Comp.23     Comp.24\n",
       "Standard deviation     0.669470184 0.645434535 0.63655454 0.610371969\n",
       "Proportion of Variance 0.008619045 0.008011264 0.00779234 0.007164499\n",
       "Cumulative Proportion  0.911576505 0.919587769 0.92738011 0.934544608\n",
       "                           Comp.25     Comp.26     Comp.27     Comp.28\n",
       "Standard deviation     0.567750868 0.561161097 0.554476307 0.539972889\n",
       "Proportion of Variance 0.006198866 0.006055803 0.005912384 0.005607129\n",
       "Cumulative Proportion  0.940743475 0.946799278 0.952711662 0.958318791\n",
       "                           Comp.29     Comp.30     Comp.31     Comp.32\n",
       "Standard deviation     0.513641181 0.482062713 0.470083500 0.454324915\n",
       "Proportion of Variance 0.005073601 0.004468932 0.004249586 0.003969445\n",
       "Cumulative Proportion  0.963392393 0.967861324 0.972110911 0.976080356\n",
       "                           Comp.33     Comp.34     Comp.35    Comp.36\n",
       "Standard deviation     0.439546078 0.412766910 0.390931061 0.37095286\n",
       "Proportion of Variance 0.003715399 0.003276472 0.002938983 0.00264627\n",
       "Cumulative Proportion  0.979795755 0.983072226 0.986011209 0.98865748\n",
       "                           Comp.37     Comp.38     Comp.39     Comp.40\n",
       "Standard deviation     0.351142441 0.335609054 0.302434893 0.269418226\n",
       "Proportion of Variance 0.002371173 0.002166028 0.001758978 0.001395888\n",
       "Cumulative Proportion  0.991028652 0.993194680 0.994953658 0.996349546\n",
       "                           Comp.41      Comp.42      Comp.43      Comp.44\n",
       "Standard deviation     0.254145433 0.2144361103 0.1776939079 0.1726772112\n",
       "Proportion of Variance 0.001242113 0.0008842855 0.0006072139 0.0005734119\n",
       "Cumulative Proportion  0.997591659 0.9984759449 0.9990831588 0.9996565708\n",
       "                            Comp.45      Comp.46      Comp.47      Comp.48\n",
       "Standard deviation     0.1199148812 4.734863e-02 3.451212e-02 4.675586e-03\n",
       "Proportion of Variance 0.0002765304 4.311332e-05 2.290551e-05 4.204059e-07\n",
       "Cumulative Proportion  0.9999331011 9.999762e-01 9.999991e-01 9.999995e-01\n",
       "                            Comp.49      Comp.50      Comp.51      Comp.52\n",
       "Standard deviation     3.594364e-03 3.313884e-03 7.543461e-06 6.992968e-06\n",
       "Proportion of Variance 2.484510e-07 2.111890e-07 1.094304e-12 9.404153e-13\n",
       "Cumulative Proportion  9.999998e-01 1.000000e+00 1.000000e+00 1.000000e+00"
      ]
     },
     "metadata": {},
     "output_type": "display_data"
    }
   ],
   "source": [
    "# WRITE YOUR CODE HERE\n",
    "fs_d.pca <- princomp(fs_d, cor = TRUE) # there doesn't seem to be a scale argument, so using cor\n",
    "summary(fs_d.pca)"
   ]
  },
  {
   "cell_type": "markdown",
   "metadata": {},
   "source": [
    "(b) Calculate the cumulative variance explained (not unique variance explained as in the tutorial) across the principal components and plot the results using `ggplot`."
   ]
  },
  {
   "cell_type": "code",
   "execution_count": 53,
   "metadata": {
    "id": "R_mZIsWwBuji",
    "vscode": {
     "languageId": "r"
    }
   },
   "outputs": [
    {
     "data": {
      "image/png": "[encoded data removed]",
      "text/plain": [
       "plot without title"
      ]
     },
     "metadata": {
      "image/png": {
       "height": 420,
       "width": 420
      }
     },
     "output_type": "display_data"
    }
   ],
   "source": [
    "# WRITE YOUR CODE HERE\n",
    "# Calculate cumulative variance explained\n",
    "cumulative_variance <- cumsum(fs_d.pca$sdev^2 / sum(fs_d.pca$sdev^2))\n",
    "pc_numbers <- seq_along(cumulative_variance) # equivalent to seq_len(length(x)) or seq(1, length(x))\n",
    "\n",
    "# Create plotting dataframe\n",
    "plot_data <- data.frame(\n",
    "  Principal_Component = pc_numbers,\n",
    "  Cumulative_Variance = cumulative_variance\n",
    ")\n",
    "\n",
    "# Plot cumulative variance explained\n",
    "ggplot(plot_data, aes(x = Principal_Component, y = Cumulative_Variance)) +\n",
    "  geom_point() +\n",
    "  scale_y_continuous(labels = scales::percent_format()) +\n",
    "  labs(\n",
    "    title = \"Cumulative Variance Explained by Principal Components\",\n",
    "    x = \"Principal Component\",\n",
    "    y = \"Cumulative Variance Explained\"\n",
    "  )"
   ]
  },
  {
   "cell_type": "markdown",
   "metadata": {},
   "source": [
    "(c) Determine exactly how many principal components explain at least 95% of the variance.\n",
    "\n",
    "Hint: Look up the `which` function. "
   ]
  },
  {
   "cell_type": "code",
   "execution_count": 54,
   "metadata": {
    "vscode": {
     "languageId": "r"
    }
   },
   "outputs": [
    {
     "name": "stdout",
     "output_type": "stream",
     "text": [
      "[1] \"The exact number of principal components that explain at least 95% of variance is:\"\n",
      "[1] 27\n"
     ]
    }
   ],
   "source": [
    "# WRITE YOUR CODE HERE\n",
    "print(\"The exact number of principal components that explain at least 95% of variance is:\")\n",
    "print(which(plot_data$Cumulative_Variance >= 0.95)[1])"
   ]
  },
  {
   "cell_type": "markdown",
   "metadata": {
    "id": "oYxz29TyBujj"
   },
   "source": [
    "What does this tell you about the underlying dimensionality of the brain volume measures? \n",
    "\n",
    "> *Write your response here* \n",
    "> \n",
    "> 27 components are quite many. This means that brain volume measurements are quite complex. However, it's also great that we can reduce the dimensionality down to 28, given how diverse and complicated human brains are.\n"
   ]
  },
  {
   "cell_type": "markdown",
   "metadata": {
    "id": "ez8Cy8anBujn"
   },
   "source": [
    "---\n",
    "## 4. Associating with Flanker task peformance (4 points)"
   ]
  },
  {
   "cell_type": "markdown",
   "metadata": {
    "id": "NFAAGungBujn"
   },
   "source": [
    "Now apply PCR to the `d1` object you created at the beginning (which includes the Flanker task scores) to find how freesurfer volumes predict Flanker task performance. Set the random seed to \"2\". Use cross-validation as the validation type and don't forget to scale your data. Show the `summary` of the model fit.\n",
    "\n",
    "Hint: If you receive an error applying the \"scale=TRUE\" flag, then you likely still have columns of all zeros somewhere in your data table."
   ]
  },
  {
   "cell_type": "code",
   "execution_count": 55,
   "metadata": {
    "id": "0uVdEguGBujn",
    "vscode": {
     "languageId": "r"
    }
   },
   "outputs": [
    {
     "name": "stdout",
     "output_type": "stream",
     "text": [
      "Data: \tX dimension: 1113 52 \n",
      "\tY dimension: 1113 1\n",
      "Fit method: svdpc\n",
      "Number of components considered: 52\n",
      "\n",
      "VALIDATION: RMSEP\n",
      "Cross-validated using 10 random segments.\n",
      "       (Intercept)  1 comps  2 comps  3 comps  4 comps  5 comps  6 comps\n",
      "CV           10.08    9.925    9.924    9.933    9.922    9.924    9.912\n",
      "adjCV        10.08    9.924    9.923    9.932    9.920    9.922    9.910\n",
      "       7 comps  8 comps  9 comps  10 comps  11 comps  12 comps  13 comps\n",
      "CV       9.889    9.891    9.893     9.896     9.909     9.918     9.934\n",
      "adjCV    9.886    9.887    9.890     9.892     9.904     9.913     9.927\n",
      "       14 comps  15 comps  16 comps  17 comps  18 comps  19 comps  20 comps\n",
      "CV        9.941     9.945     9.934     9.899     9.896     9.907     9.914\n",
      "adjCV     9.934     9.939     9.928     9.889     9.886     9.897     9.903\n",
      "       21 comps  22 comps  23 comps  24 comps  25 comps  26 comps  27 comps\n",
      "CV        9.922     9.930     9.939     9.955     9.968     9.971     9.979\n",
      "adjCV     9.911     9.919     9.928     9.942     9.956     9.959     9.964\n",
      "       28 comps  29 comps  30 comps  31 comps  32 comps  33 comps  34 comps\n",
      "CV        9.995     10.01    10.002    10.011    10.017     10.03     10.04\n",
      "adjCV     9.979      9.99     9.985     9.995     9.999     10.02     10.02\n",
      "       35 comps  36 comps  37 comps  38 comps  39 comps  40 comps  41 comps\n",
      "CV        10.05     10.06     10.07     10.07     10.08     10.08     10.08\n",
      "adjCV     10.03     10.04     10.04     10.05     10.06     10.06     10.06\n",
      "       42 comps  43 comps  44 comps  45 comps  46 comps  47 comps  48 comps\n",
      "CV        10.07     10.09     10.09     10.08     10.09     10.10     10.10\n",
      "adjCV     10.05     10.06     10.06     10.06     10.07     10.08     10.07\n",
      "       49 comps  50 comps  51 comps  52 comps\n",
      "CV        10.09     10.11     10.11     10.12\n",
      "adjCV     10.07     10.08     10.09     10.09\n",
      "\n",
      "TRAINING: % variance explained\n",
      "               1 comps  2 comps  3 comps  4 comps  5 comps  6 comps  7 comps\n",
      "X               44.871   53.170   58.450   62.517   65.799   68.399   70.898\n",
      "Flanker_Unadj    3.219    3.323    3.415    3.837    3.904    4.429    4.871\n",
      "               8 comps  9 comps  10 comps  11 comps  12 comps  13 comps\n",
      "X               73.081   75.186    77.180    78.979    80.628    82.201\n",
      "Flanker_Unadj    4.881    4.887     5.013     5.061     5.076     5.272\n",
      "               14 comps  15 comps  16 comps  17 comps  18 comps  19 comps\n",
      "X                 83.64    84.877    86.077    87.203    88.276    89.309\n",
      "Flanker_Unadj      5.28     5.306     5.561     6.392     6.613     6.721\n",
      "               20 comps  21 comps  22 comps  23 comps  24 comps  25 comps\n",
      "X                90.296    91.158    91.959    92.738    93.454    94.074\n",
      "Flanker_Unadj     6.848     6.862     6.907     6.921     6.933     6.933\n",
      "               26 comps  27 comps  28 comps  29 comps  30 comps  31 comps\n",
      "X                94.680    95.271    95.832    96.339     96.79    97.211\n",
      "Flanker_Unadj     7.048     7.235     7.238     7.239      7.38     7.386\n",
      "               32 comps  33 comps  34 comps  35 comps  36 comps  37 comps\n",
      "X                97.608    97.980     98.31    98.601    98.866    99.103\n",
      "Flanker_Unadj     7.524     7.524      7.68     7.705     7.777     7.792\n",
      "               38 comps  39 comps  40 comps  41 comps  42 comps  43 comps\n",
      "X                99.319     99.50    99.635    99.759    99.848    99.908\n",
      "Flanker_Unadj     7.793      7.81     7.823     8.144     8.338     8.351\n",
      "               44 comps  45 comps  46 comps  47 comps  48 comps  49 comps\n",
      "X                 99.97    99.993    99.998   100.000   100.000   100.000\n",
      "Flanker_Unadj      8.38     8.455     8.475     8.506     8.686     8.829\n",
      "               50 comps  51 comps  52 comps\n",
      "X               100.000   100.000   100.000\n",
      "Flanker_Unadj     8.923     8.924     8.999\n"
     ]
    }
   ],
   "source": [
    "# WRITE YOUR CODE HERE\n",
    "set.seed(2)\n",
    "pcr.fit=pcr(Flanker_Unadj~., data=d1 ,scale=TRUE, validation =\"CV\")\n",
    "summary(pcr.fit)"
   ]
  },
  {
   "cell_type": "markdown",
   "metadata": {},
   "source": [
    "(b) Use the `validationplot` function to evaluate the bias-variance tradeoff using the cross-validated mean squared-error for each component."
   ]
  },
  {
   "cell_type": "code",
   "execution_count": 59,
   "metadata": {
    "vscode": {
     "languageId": "r"
    }
   },
   "outputs": [
    {
     "data": {
      "image/png": "[encoded data removed]",
      "text/plain": [
       "Plot with title \"Flanker_Unadj\""
      ]
     },
     "metadata": {
      "image/png": {
       "height": 420,
       "width": 420
      }
     },
     "output_type": "display_data"
    }
   ],
   "source": [
    "# WRITE YOUR CODE HERE\n",
    "par(bg = \"#eee\")\n",
    "validationplot(pcr.fit,val.type=\"MSEP\") # MSEP shows cross-validated mean-squared error as error metric. "
   ]
  },
  {
   "cell_type": "markdown",
   "metadata": {},
   "source": [
    "(c) Extract the MSEP values of the cross validated fit (\"CV\" not \"adj_CV\") from the model object using the `MSEP` funtion. Create a new array of these values. Use the `drop` function to remove the singleton dimension (the original array is 2x1x53 and we want a 2x53 object). Find the minimum value of the first row (the \"CV\")."
   ]
  },
  {
   "cell_type": "code",
   "execution_count": 77,
   "metadata": {
    "vscode": {
     "languageId": "r"
    }
   },
   "outputs": [
    {
     "name": "stdout",
     "output_type": "stream",
     "text": [
      "[1] 97.79933\n",
      "[1] \"7 comps\"\n"
     ]
    }
   ],
   "source": [
    "# WRITE YOUR CODE HERE\n",
    "pcr.fit.msep <- MSEP(pcr.fit)$val |> drop()\n",
    "\n",
    "min_cv <- min(pcr.fit.msep[1, ])\n",
    "print(min_cv)\n",
    "column_index <- which.min(pcr.fit.msep[1, ])\n",
    "min_cv_name <- colnames(pcr.fit.msep)[column_index]\n",
    "print(min_cv_name)"
   ]
  },
  {
   "cell_type": "markdown",
   "metadata": {},
   "source": [
    "What what does this plot tell you about how many components best explain variance in Flanker task performance? \n",
    "\n",
    "> *Write your response here*\n",
    "> \n",
    "> The plot shows that 7 components (plus the intercept) best explain the variance. "
   ]
  },
  {
   "cell_type": "markdown",
   "metadata": {
    "id": "5zheO4rLBujo"
   },
   "source": [
    "---\n",
    "## 5. Reflection (2 points)"
   ]
  },
  {
   "cell_type": "markdown",
   "metadata": {
    "id": "T-65QvdnBujo"
   },
   "source": [
    "Compare the number of components that explain variance in X alone (the brain volumes) to the number of components that explain performance in the Flanker task. What does the difference in these two numbers tell you about how variation in brain volumes relates to task performance?"
   ]
  },
  {
   "cell_type": "markdown",
   "metadata": {
    "id": "dkM1H1_WBujo"
   },
   "source": [
    "> *Write your response here* \n",
    ">\n",
    "> 27 components are needed to sufficiently explain the brain volume variance, while only 7 of them are needed to optimally explain the performance in the Flanker test. This means that the Flanker task might have involved specific regions of the brain.\n",
    "> In other words, though brain volumes vary significantly between individuals, fewer specific brain regions significantly influence task performance outcomes."
   ]
  },
  {
   "cell_type": "markdown",
   "metadata": {
    "id": "HmcAxEQCBujp"
   },
   "source": [
    "**DUE:** 5pm EST, April 15, 2024"
   ]
  },
  {
   "cell_type": "markdown",
   "metadata": {
    "id": "hYdsoRobBujp"
   },
   "source": [
    "**IMPORTANT** Did you collaborate with anyone on this assignment? If so, list their names here. \n",
    "> *Someone's Name*\n",
    "> Microsoft Copilot inspired the use of cumsum() function. I also consulted different sources to properly format the heatmap and the explained variance plot."
   ]
  }
 ],
 "metadata": {
  "colab": {
   "provenance": []
  },
  "kernelspec": {
   "display_name": "R",
   "language": "R",
   "name": "ir"
  },
  "language_info": {
   "codemirror_mode": "r",
   "file_extension": ".r",
   "mimetype": "text/x-r-source",
   "name": "R",
   "pygments_lexer": "r",
   "version": "4.4.2"
  }
 },
 "nbformat": 4,
 "nbformat_minor": 1
}
