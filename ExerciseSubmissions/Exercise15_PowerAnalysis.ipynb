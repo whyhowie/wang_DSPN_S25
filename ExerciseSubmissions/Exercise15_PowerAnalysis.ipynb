{
 "cells": [
  {
   "cell_type": "markdown",
   "metadata": {
    "id": "-2W919d2ZXp7"
   },
   "source": [
    "# Exercise 15: Power analyses"
   ]
  },
  {
   "cell_type": "markdown",
   "metadata": {
    "id": "L4nOzVhyZXqK"
   },
   "source": [
    "This  assignment is designed to give you practice with Monte Carlo methods to conduct power analyses via simulation. You won't need to load in any data for this homework. We will, however, be using parts of the homework from last week."
   ]
  },
  {
   "cell_type": "markdown",
   "metadata": {
    "id": "9DsyBTB6ZXqN"
   },
   "source": [
    "---\n",
    "## 1. Simulating data (1 points)\n"
   ]
  },
  {
   "cell_type": "markdown",
   "metadata": {
    "id": "J1f6MywYhyzN"
   },
   "source": [
    "Pull your `simulate_data()` function from your last homework and add it below. \n",
    "\n",
    "As a reminder, this function simulates the relationship between age, word reading experience, and reading comprehension skill. \n",
    "\n",
    "`c` is reading comprehension, and `x` is word reading experience."
   ]
  },
  {
   "cell_type": "code",
   "execution_count": 36,
   "metadata": {
    "id": "UnBVazYfZXqP",
    "vscode": {
     "languageId": "r"
    }
   },
   "outputs": [
    {
     "data": {
      "text/html": [
       "<table class=\"dataframe\">\n",
       "<caption>A data.frame: 6 x 3</caption>\n",
       "<thead>\n",
       "\t<tr><th></th><th scope=col>Age</th><th scope=col>Experience</th><th scope=col>Comprehension</th></tr>\n",
       "\t<tr><th></th><th scope=col>&lt;int&gt;</th><th scope=col>&lt;int&gt;</th><th scope=col>&lt;int&gt;</th></tr>\n",
       "</thead>\n",
       "<tbody>\n",
       "\t<tr><th scope=row>1</th><td> 99</td><td> 93</td><td> 408</td></tr>\n",
       "\t<tr><th scope=row>2</th><td>138</td><td> 81</td><td> 289</td></tr>\n",
       "\t<tr><th scope=row>3</th><td>181</td><td> 50</td><td> 304</td></tr>\n",
       "\t<tr><th scope=row>4</th><td>138</td><td> 41</td><td> 209</td></tr>\n",
       "\t<tr><th scope=row>5</th><td>128</td><td>-32</td><td>-110</td></tr>\n",
       "\t<tr><th scope=row>6</th><td>125</td><td> 88</td><td> 430</td></tr>\n",
       "</tbody>\n",
       "</table>\n"
      ],
      "text/latex": [
       "A data.frame: 6 x 3\n",
       "\\begin{tabular}{r|lll}\n",
       "  & Age & Experience & Comprehension\\\\\n",
       "  & <int> & <int> & <int>\\\\\n",
       "\\hline\n",
       "\t1 &  99 &  93 &  408\\\\\n",
       "\t2 & 138 &  81 &  289\\\\\n",
       "\t3 & 181 &  50 &  304\\\\\n",
       "\t4 & 138 &  41 &  209\\\\\n",
       "\t5 & 128 & -32 & -110\\\\\n",
       "\t6 & 125 &  88 &  430\\\\\n",
       "\\end{tabular}\n"
      ],
      "text/markdown": [
       "\n",
       "A data.frame: 6 x 3\n",
       "\n",
       "| <!--/--> | Age &lt;int&gt; | Experience &lt;int&gt; | Comprehension &lt;int&gt; |\n",
       "|---|---|---|---|\n",
       "| 1 |  99 |  93 |  408 |\n",
       "| 2 | 138 |  81 |  289 |\n",
       "| 3 | 181 |  50 |  304 |\n",
       "| 4 | 138 |  41 |  209 |\n",
       "| 5 | 128 | -32 | -110 |\n",
       "| 6 | 125 |  88 |  430 |\n",
       "\n"
      ],
      "text/plain": [
       "  Age Experience Comprehension\n",
       "1  99  93         408         \n",
       "2 138  81         289         \n",
       "3 181  50         304         \n",
       "4 138  41         209         \n",
       "5 128 -32        -110         \n",
       "6 125  88         430         "
      ]
     },
     "metadata": {},
     "output_type": "display_data"
    }
   ],
   "source": [
    "sample_size = 100 # How many children in data set? \n",
    "age_lo = 80     # minimum age, in months\n",
    "age_hi = 200    # maximum age, in months\n",
    "beta_xa = 0.5   # amount by which experience changes for increase of one month in age\n",
    "beta_x0 = -5    # amount of experience when age = 0 (not interpretable, since minimum age for this data is 80 months)\n",
    "sd_x = 50       # standard dev of gaussian noise term, epsilon_x\n",
    "beta_ca = 0.8   # amount that comprehension score improves for every increase of one unit in age\n",
    "beta_cx = 3     # amount that comprehension score improves for every increase of one unit in reading experience\n",
    "beta_c0 = 10    # comprehension score when reading experience is 0. \n",
    "sd_c = 85      # standard dev of gaussian noise term, epsilon_c\n",
    "\n",
    "simulate_data <- function(sample_size, age_lo, age_hi, beta_xa, \n",
    "                          beta_x0, sd_x, beta_ca, beta_cx, beta_c0, sd_c) {\n",
    "      # WRITE YOUR CODE HERE\n",
    "      # NOTE: my previous submission included a random seed setting for reproducibility.\n",
    "\n",
    "      # Initialize a dataframe\n",
    "      df <- data.frame(matrix(ncol = 3, nrow = sample_size))\n",
    "      colnames(df) <- c(\"Age\", \"Experience\", \"Comprehension\")\n",
    "\n",
    "      # Generate the data (with rounding)\n",
    "      df$Age <- round(runif(sample_size, age_lo, age_hi)) |> as.integer() # generate ages\n",
    "      df$Experience <- round(beta_xa * df$Age + beta_x0 + rnorm(sample_size, sd = sd_x)) |> as.integer() # generate experiences\n",
    "      df$Comprehension <- round(beta_ca * df$Age + beta_cx * df$Experience + beta_c0 + rnorm(sample_size, sd = sd_c)) |> \n",
    "            as.integer() # generate comprehension score\n",
    "\n",
    "      return(df)\n",
    "}\n",
    "\n",
    "dat <- simulate_data(sample_size, age_lo, age_hi, beta_xa, beta_x0, sd_x, beta_ca, beta_cx, beta_c0, sd_c)\n",
    "head(dat)"
   ]
  },
  {
   "cell_type": "markdown",
   "metadata": {
    "id": "T3b3_KsHk-xD"
   },
   "source": [
    "---\n",
    "## 2. `run_analysis()` function (2 pts)"
   ]
  },
  {
   "cell_type": "markdown",
   "metadata": {
    "id": "TJyPIaTO8zCS"
   },
   "source": [
    "Last week, we looked at whether word reading experience(`x`) mediated the relation between `age` and reading comprehension (`c`).\n",
    "\n",
    "Now we're going to use our `simulate_data()` function to conduct a power analysis. The goal is to determine how many participants we would need in order to detect both the mediated and the direct effects in this data. \n",
    "\n",
    "*Note: We're going to pretend for the sake of simplicity that we don't have any control over the ages of the children we get (so ages are generated using `runif(sample_size, age_lo, age_hi)`, although of course this would be an unusual situation in reality.*\n",
    "\n",
    "First, write a function, `run_analysis()`, that takes in simulated data, runs **your mediation from last week**, and returns a vector containing the ACME and ADE estimates and p-values (these are the `d0`, `d0.p`, `z0`, and `z0.p` features of the mediated model object, e.g., `fitMed$d0.p`). Print this function's output for the data we simulated previously. "
   ]
  },
  {
   "cell_type": "code",
   "execution_count": 37,
   "metadata": {
    "id": "AidH_KidrX9L",
    "scrolled": true,
    "vscode": {
     "languageId": "r"
    }
   },
   "outputs": [
    {
     "name": "stdout",
     "output_type": "stream",
     "text": [
      "[1] 1.7326613 0.0000000 0.5311654 0.0100000\n"
     ]
    }
   ],
   "source": [
    "# WRITE YOUR CODE HERE\n",
    "library(mediation)\n",
    "\n",
    "run_analysis <- function(data) {\n",
    "    fitM <- lm(Experience ~ Age, data=dat) #Step 1: IV on M\n",
    "    fitY <- lm(Comprehension ~ Experience + Age, data=dat) #Step 2: IV and M on DV\n",
    "    fitMed <- mediate(fitM, fitY, treat=\"Age\", mediator=\"Experience\")\n",
    "    # print(summary(fitMed))\n",
    "    return(c(fitMed$d0, fitMed$d0.p, fitMed$z0, fitMed$z0.p))\n",
    "}\n",
    "\n",
    "results_0 <- run_analysis(dat)\n",
    "\n",
    "\n",
    "print(results_0)"
   ]
  },
  {
   "cell_type": "markdown",
   "metadata": {
    "id": "bHxz5W2r5s79"
   },
   "source": [
    "---\n",
    "## 3. `repeat_analysis()` function (3 pts)"
   ]
  },
  {
   "cell_type": "markdown",
   "metadata": {
    "id": "G_jvc1XQBCpH"
   },
   "source": [
    "Next fill in the function `repeat_analysis()` below so that it simulates and analyzes data `num_simulations` times. Store the outputs from each simulation in the `simouts` matrix. Calculate and return the coverage across all the simulations run for both ACME and ADE."
   ]
  },
  {
   "cell_type": "code",
   "execution_count": 40,
   "metadata": {
    "id": "NheOpBDsBBo9",
    "vscode": {
     "languageId": "r"
    }
   },
   "outputs": [],
   "source": [
    "library(tidyverse)\n",
    "repeat_analysis <- function(num_simulations, alpha, sample_size, age_lo, age_hi, \n",
    "        beta_xa, beta_x0, sd_x, beta_ca, beta_cx, beta_c0, sd_c) {\n",
    "    # Initialize simouts matrix for storing each output from run_analysis()\n",
    "    simouts <- matrix(rep(NA, num_simulations*4), nrow=num_simulations, ncol=4)\n",
    "    \n",
    "    # Start simulating\n",
    "    for (i in 1:num_simulations) {\n",
    "      # WRITE YOUR CODE HERE\n",
    "      data <- simulate_data(sample_size, age_lo, age_hi, beta_xa, beta_x0, sd_x, beta_ca, beta_cx, beta_c0, sd_c) # simulate the data using the defined function\n",
    "      simouts[i,] <- run_analysis(data) # run the analysis, and add outputs to the matrix\n",
    "\n",
    "    }\n",
    "    \n",
    "    # Calculate coverage for both ACME and ADE estimates using p-values in simouts\n",
    "    ACME_cov = mean(simouts[,2] <= alpha) # FILL THIS IN \n",
    "    ADE_cov =  mean(simouts[,4] <= alpha) # FILL THIS IN\n",
    "\n",
    "    return(list(ACME_cov = ACME_cov, ADE_cov = ADE_cov))\n",
    "}"
   ]
  },
  {
   "cell_type": "markdown",
   "metadata": {
    "id": "bM5J5pYyQoRL"
   },
   "source": [
    "Now run the `repeat_analysis()` function using the same parameter settings as above, for 10 simulations, with an alpha criterion of 0.01. "
   ]
  },
  {
   "cell_type": "code",
   "execution_count": 41,
   "metadata": {
    "id": "RpURGbZQQlEK",
    "vscode": {
     "languageId": "r"
    }
   },
   "outputs": [
    {
     "data": {
      "text/html": [
       "<dl>\n",
       "\t<dt>$ACME_cov</dt>\n",
       "\t\t<dd>1</dd>\n",
       "\t<dt>$ADE_cov</dt>\n",
       "\t\t<dd>0.1</dd>\n",
       "</dl>\n"
      ],
      "text/latex": [
       "\\begin{description}\n",
       "\\item[\\$ACME\\_cov] 1\n",
       "\\item[\\$ADE\\_cov] 0.1\n",
       "\\end{description}\n"
      ],
      "text/markdown": [
       "$ACME_cov\n",
       ":   1\n",
       "$ADE_cov\n",
       ":   0.1\n",
       "\n",
       "\n"
      ],
      "text/plain": [
       "$ACME_cov\n",
       "[1] 1\n",
       "\n",
       "$ADE_cov\n",
       "[1] 0.1\n"
      ]
     },
     "metadata": {},
     "output_type": "display_data"
    }
   ],
   "source": [
    "# WRITE YOUR CODE HERE\n",
    "\n",
    "repeat_analysis(10, 0.01, sample_size, age_lo, age_hi, beta_xa, beta_x0, sd_x, beta_ca, beta_cx, beta_c0, sd_c)\n"
   ]
  },
  {
   "cell_type": "markdown",
   "metadata": {
    "id": "imIoN4w65s7_"
   },
   "source": [
    "---\n",
    "## 4. Testing different sample sizes (2 pts)"
   ]
  },
  {
   "cell_type": "markdown",
   "metadata": {
    "id": "CzeTaoY7SaXv"
   },
   "source": [
    "Finally, do the same thing (10 simulations, alpha criterion of 0.01) but for 5 different sample sizes: 50, 75, 100, 125, 150. You can do this using `map` (as in the tutorial), or a simple `for` loop, or by calculating each individually. Up to you! This should take around 3 minutes to run. "
   ]
  },
  {
   "cell_type": "code",
   "execution_count": 43,
   "metadata": {
    "id": "mp-a19XsS8Md",
    "vscode": {
     "languageId": "r"
    }
   },
   "outputs": [
    {
     "data": {
      "text/html": [
       "<ol>\n",
       "\t<li><dl>\n",
       "\t<dt>$ACME_cov</dt>\n",
       "\t\t<dd>1</dd>\n",
       "\t<dt>$ADE_cov</dt>\n",
       "\t\t<dd>0.16</dd>\n",
       "</dl>\n",
       "</li>\n",
       "\t<li><dl>\n",
       "\t<dt>$ACME_cov</dt>\n",
       "\t\t<dd>1</dd>\n",
       "\t<dt>$ADE_cov</dt>\n",
       "\t\t<dd>0.16</dd>\n",
       "</dl>\n",
       "</li>\n",
       "\t<li><dl>\n",
       "\t<dt>$ACME_cov</dt>\n",
       "\t\t<dd>1</dd>\n",
       "\t<dt>$ADE_cov</dt>\n",
       "\t\t<dd>0.19</dd>\n",
       "</dl>\n",
       "</li>\n",
       "\t<li><dl>\n",
       "\t<dt>$ACME_cov</dt>\n",
       "\t\t<dd>1</dd>\n",
       "\t<dt>$ADE_cov</dt>\n",
       "\t\t<dd>0.168</dd>\n",
       "</dl>\n",
       "</li>\n",
       "\t<li><dl>\n",
       "\t<dt>$ACME_cov</dt>\n",
       "\t\t<dd>1</dd>\n",
       "\t<dt>$ADE_cov</dt>\n",
       "\t\t<dd>0.173333333333333</dd>\n",
       "</dl>\n",
       "</li>\n",
       "</ol>\n"
      ],
      "text/latex": [
       "\\begin{enumerate}\n",
       "\\item \\begin{description}\n",
       "\\item[\\$ACME\\_cov] 1\n",
       "\\item[\\$ADE\\_cov] 0.16\n",
       "\\end{description}\n",
       "\n",
       "\\item \\begin{description}\n",
       "\\item[\\$ACME\\_cov] 1\n",
       "\\item[\\$ADE\\_cov] 0.16\n",
       "\\end{description}\n",
       "\n",
       "\\item \\begin{description}\n",
       "\\item[\\$ACME\\_cov] 1\n",
       "\\item[\\$ADE\\_cov] 0.19\n",
       "\\end{description}\n",
       "\n",
       "\\item \\begin{description}\n",
       "\\item[\\$ACME\\_cov] 1\n",
       "\\item[\\$ADE\\_cov] 0.168\n",
       "\\end{description}\n",
       "\n",
       "\\item \\begin{description}\n",
       "\\item[\\$ACME\\_cov] 1\n",
       "\\item[\\$ADE\\_cov] 0.173333333333333\n",
       "\\end{description}\n",
       "\n",
       "\\end{enumerate}\n"
      ],
      "text/markdown": [
       "1. $ACME_cov\n",
       ":   1\n",
       "$ADE_cov\n",
       ":   0.16\n",
       "\n",
       "\n",
       "\n",
       "2. $ACME_cov\n",
       ":   1\n",
       "$ADE_cov\n",
       ":   0.16\n",
       "\n",
       "\n",
       "\n",
       "3. $ACME_cov\n",
       ":   1\n",
       "$ADE_cov\n",
       ":   0.19\n",
       "\n",
       "\n",
       "\n",
       "4. $ACME_cov\n",
       ":   1\n",
       "$ADE_cov\n",
       ":   0.168\n",
       "\n",
       "\n",
       "\n",
       "5. $ACME_cov\n",
       ":   1\n",
       "$ADE_cov\n",
       ":   0.173333333333333\n",
       "\n",
       "\n",
       "\n",
       "\n",
       "\n"
      ],
      "text/plain": [
       "[[1]]\n",
       "[[1]]$ACME_cov\n",
       "[1] 1\n",
       "\n",
       "[[1]]$ADE_cov\n",
       "[1] 0.16\n",
       "\n",
       "\n",
       "[[2]]\n",
       "[[2]]$ACME_cov\n",
       "[1] 1\n",
       "\n",
       "[[2]]$ADE_cov\n",
       "[1] 0.16\n",
       "\n",
       "\n",
       "[[3]]\n",
       "[[3]]$ACME_cov\n",
       "[1] 1\n",
       "\n",
       "[[3]]$ADE_cov\n",
       "[1] 0.19\n",
       "\n",
       "\n",
       "[[4]]\n",
       "[[4]]$ACME_cov\n",
       "[1] 1\n",
       "\n",
       "[[4]]$ADE_cov\n",
       "[1] 0.168\n",
       "\n",
       "\n",
       "[[5]]\n",
       "[[5]]$ACME_cov\n",
       "[1] 1\n",
       "\n",
       "[[5]]$ADE_cov\n",
       "[1] 0.1733333\n",
       "\n"
      ]
     },
     "metadata": {},
     "output_type": "display_data"
    }
   ],
   "source": [
    "# WRITE YOUR CODE HERE\n",
    "\n",
    "map(.x = c(50, 75, 100, 125, 150), \n",
    "    .f = ~ repeat_analysis(.x, 0.01, sample_size, age_lo, age_hi, beta_xa, beta_x0, sd_x, beta_ca, beta_cx, beta_c0, sd_c),\n",
    "    progress=TRUE)"
   ]
  },
  {
   "cell_type": "markdown",
   "metadata": {
    "id": "akJwKCB7dkDw"
   },
   "source": [
    "Print your results. "
   ]
  },
  {
   "cell_type": "markdown",
   "metadata": {
    "id": "gIkkWTG2aR4d",
    "scrolled": true,
    "vscode": {
     "languageId": "r"
    }
   },
   "source": [
    "> SEE ABOVE\n",
    "> \n",
    "> My computer took longer time to run the code and after a few trials I'm leaving it as-is. (I acknowledge that something may need to be tweaked in the function definition part of the code.)"
   ]
  },
  {
   "cell_type": "markdown",
   "metadata": {
    "id": "q3Oo6npB5s8B"
   },
   "source": [
    "## 5. Reflection (2 pts)"
   ]
  },
  {
   "cell_type": "markdown",
   "metadata": {
    "id": "tpbGkul2dr-5"
   },
   "source": [
    "If this were a real power analysis, we'd want to run more simulations per sample size (to get a more precise estimate of power) and we may also want to test out some other values of the parameters we used to simulate our data. However, what would you conclude just based on the results above? \n",
    "\n",
    "> *Write your response here.* \n",
    "> \n",
    "> The mediation effect appeared strong enough so that a few observations should suffice to show statistical significance.\n",
    "> However, the direct effect was a little difficult to determine."
   ]
  },
  {
   "cell_type": "markdown",
   "metadata": {
    "id": "RcCo3QOifUi5"
   },
   "source": [
    "**Given** how we generated the data, why was the direct effect harder to detect than the mediated effect?\n",
    "> *Write your response here.* \n",
    ">\n",
    "> The standard deviations of the noises are quite large compared to the values of age (we may refer to the plot in the previous exercise), not to mention that in our simulated model the parameters/multipliers for age were small (0.5 and 0.8) compared to those for experience (3)."
   ]
  },
  {
   "cell_type": "markdown",
   "metadata": {
    "id": "C4MPECMmZXqe"
   },
   "source": [
    "**DUE:** 5pm EST, April 3, 2024"
   ]
  },
  {
   "cell_type": "markdown",
   "metadata": {
    "id": "r9GUofXN4BVy"
   },
   "source": [
    "**IMPORTANT** Did you collaborate with anyone on this assignment? If so, list their names here. \n",
    "> *Someone's Name*"
   ]
  }
 ],
 "metadata": {
  "colab": {
   "provenance": []
  },
  "kernelspec": {
   "display_name": "R",
   "language": "R",
   "name": "ir"
  },
  "language_info": {
   "codemirror_mode": "r",
   "file_extension": ".r",
   "mimetype": "text/x-r-source",
   "name": "R",
   "pygments_lexer": "r",
   "version": "4.4.2"
  }
 },
 "nbformat": 4,
 "nbformat_minor": 1
}
